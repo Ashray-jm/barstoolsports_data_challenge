{
 "cells": [
  {
   "cell_type": "markdown",
   "metadata": {
    "application/vnd.databricks.v1+cell": {
     "cellMetadata": {},
     "inputWidgets": {},
     "nuid": "21808856-b611-49ea-a878-25ec49d2b289",
     "showTitle": false,
     "tableResultSettingsMap": {},
     "title": ""
    }
   },
   "source": [
    "## Event Logs Analysis "
   ]
  },
  {
   "cell_type": "code",
   "execution_count": 0,
   "metadata": {
    "application/vnd.databricks.v1+cell": {
     "cellMetadata": {
      "byteLimit": 2048000,
      "rowLimit": 10000
     },
     "inputWidgets": {},
     "nuid": "285aa892-b24c-403d-8dc3-5dffc574639a",
     "showTitle": false,
     "tableResultSettingsMap": {
      "0": {
       "dataGridStateBlob": null,
       "filterBlob": "{\"filterGroups\":[],\"syncTimestamp\":1747853514506}",
       "queryPlanFiltersBlob": null,
       "tableResultIndex": 0
      }
     },
     "title": ""
    }
   },
   "outputs": [
    {
     "output_type": "display_data",
     "data": {
      "text/html": [
       "<style scoped>\n",
       "  .table-result-container {\n",
       "    max-height: 300px;\n",
       "    overflow: auto;\n",
       "  }\n",
       "  table, th, td {\n",
       "    border: 1px solid black;\n",
       "    border-collapse: collapse;\n",
       "  }\n",
       "  th, td {\n",
       "    padding: 5px;\n",
       "  }\n",
       "  th {\n",
       "    text-align: left;\n",
       "  }\n",
       "</style><div class='table-result-container'><table class='table-result'><thead style='background-color: white'><tr><th>anon_id</th><th>content_id</th><th>content_title</th><th>content_type</th><th>duration_sec</th><th>share_url</th><th>TAGS</th><th>TALENT</th><th>FRANCHISE</th><th>published_at</th><th>talent_details</th><th>franchise_details</th><th>event_name</th><th>event_timestamp</th><th>event_type</th><th>event_date</th><th>event_month</th><th>event_year</th><th>event_hour</th><th>event_day</th><th>page_title</th><th>geo_area_code</th><th>geo_city</th><th>geo_country_code</th><th>geo_country_code3</th><th>geo_postal_code</th><th>geo_region</th><th>app_os</th><th>app_version</th><th>content_duration</th></tr></thead><tbody><tr><td>8406dff613becd2ee3da6e0ef518992d</td><td>article-3544499</td><td>The Knicks March Into Boston, Steal Game 1 From The Celtics, And Prove They Can Beat Those Fucking Guys</td><td>article</td><td>null</td><td>https://s.barstool.link/c/article-3544499</td><td>List()</td><td>List(94461631)</td><td>UNKNOWN</td><td>2025-05-06T02:19:59.000+0000</td><td>List(List(Clem, Clem))</td><td>List(List(null, null))</td><td>ContentStarted</td><td>2025-05-06T03:35:34.759Z</td><td>track</td><td>2025-05-06</td><td>5</td><td>2025</td><td>3</td><td>3</td><td></td><td>703</td><td>ashburn</td><td>US</td><td>USA</td><td>20147</td><td>VA</td><td>iOS</td><td>60.0.3</td><td>null</td></tr><tr><td>2374cee2300df01a36ea1c559a578be0</td><td>article-3544433</td><td>Michigan Is Self-Imposing A Two Game Suspension (But NOT The First Two Games) To Lessen The Incoming Hammer From The NCAA</td><td>article</td><td>null</td><td>https://s.barstool.link/c/article-3544433</td><td>List()</td><td>List(81445381)</td><td>UNKNOWN</td><td>2025-05-05T14:10:00.000+0000</td><td>List(List(Ohios Tate, Ohios Tate))</td><td>List(List(null, null))</td><td>ContentStarted</td><td>2025-05-06T03:04:09.678Z</td><td>track</td><td>2025-05-06</td><td>5</td><td>2025</td><td>3</td><td>3</td><td></td><td>703</td><td>ashburn</td><td>US</td><td>USA</td><td>20147</td><td>VA</td><td>iOS</td><td>60.0.3</td><td>null</td></tr><tr><td>4155e186e68eca717060d8592f11f52c</td><td>article-3544454</td><td>Why I’ll Take Real-Life Rejection Over Online Dating Any Day</td><td>article</td><td>null</td><td>https://s.barstool.link/c/article-3544454</td><td>List()</td><td>List(58276848)</td><td>UNKNOWN</td><td>2025-05-05T18:00:00.000+0000</td><td>List(List(Nicky Smokes, Nicky Smokes))</td><td>List(List(null, null))</td><td>null</td><td>2025-05-06T03:06:14.482Z</td><td>page</td><td>2025-05-06</td><td>5</td><td>2025</td><td>3</td><td>3</td><td>Why I’ll Take Real-Life Rejection Over Online Dating Any Day</td><td>813</td><td>tampa</td><td>US</td><td>USA</td><td>33624</td><td>FL</td><td>iOS</td><td>60.0.3</td><td>null</td></tr><tr><td>9b168b45e97777d2f1874785d223537d</td><td>vod-s9lJrF4ZopfXNXTybhC1ADIT</td><td>Dave and Meek Preview The Bet Gala - Barstool Rundown - May 5th, 2025</td><td>vod</td><td>null</td><td>https://s.barstool.link/c/vod-s9lJrF4ZopfXNXTybhC1ADIT</td><td>List()</td><td>List(11236915)</td><td>14</td><td>2025-05-05T21:30:00.000+0000</td><td>List(List(Nate, Nate))</td><td>List(List(Barstool Rundown, Rundown))</td><td>ContentStarted</td><td>2025-05-06T03:04:36.658Z</td><td>track</td><td>2025-05-06</td><td>5</td><td>2025</td><td>3</td><td>3</td><td></td><td>703</td><td>ashburn</td><td>US</td><td>USA</td><td>20147</td><td>VA</td><td>iOS</td><td>60.0.3</td><td>418.883803233</td></tr><tr><td>977db5714321325c8e1e408ff6ec6dea</td><td>viral-original-JRgIvi5Y3OPh0LChAZedyhsr</td><td>Inside the World of Kidfluencers & Streamers (ft. Mook) | Apr 17, 2025</td><td>viral-original</td><td>null</td><td>https://s.barstool.link/c/viral-original-JRgIvi5Y3OPh0LChAZedyhsr</td><td>List()</td><td>List()</td><td>149</td><td>2025-04-17T04:00:00.000+0000</td><td>List(List(null, null))</td><td>List(List(Macrodosing, null))</td><td>ContentStarted</td><td>2025-05-06T03:05:00.544Z</td><td>track</td><td>2025-05-06</td><td>5</td><td>2025</td><td>3</td><td>3</td><td></td><td>703</td><td>ashburn</td><td>US</td><td>USA</td><td>20147</td><td>VA</td><td>iOS</td><td>60.0.3</td><td>69.664691638</td></tr><tr><td>438a87094b74b6ed8bef70ed7339e200</td><td>vod-UbKYmn7LNX2FiJkXUSujm5HM</td><td>Frank Walks Episode 53: Bartolo Colon presented by BODYARMOR</td><td>vod</td><td>null</td><td>https://s.barstool.link/c/vod-UbKYmn7LNX2FiJkXUSujm5HM</td><td>List(sports, frank-the-tank, barstool-sports, barstool, frank-the-tank-walk, bartolo-colon, mlb, pitchers-home-runs, cy-young, los-angeles-angels, big-sexy)</td><td>List(1747017)</td><td>UNKNOWN</td><td>2025-05-02T20:20:00.000+0000</td><td>List(List(Frank The Tank, Frank The Tank))</td><td>List(List(null, null))</td><td>ContentStarted</td><td>2025-05-05T07:10:10.270Z</td><td>track</td><td>2025-05-05</td><td>5</td><td>2025</td><td>7</td><td>2</td><td></td><td>703</td><td>ashburn</td><td>US</td><td>USA</td><td>20147</td><td>VA</td><td>iOS</td><td>60.0.3</td><td>772.148220398</td></tr><tr><td>4c22fa6319994a5ab4f9134d64c5fd05</td><td>article-3544483</td><td>An Ex-CIA Scientist Tells Joe Rogan the US Has 'More Than 10' Recovered UFOs, Some of Which are 'Donations'</td><td>article</td><td>null</td><td>https://s.barstool.link/c/article-3544483</td><td>List(ufos, uaps, joe-rogan, cia, remote-viewing)</td><td>List(49072379)</td><td>UNKNOWN</td><td>2025-05-05T21:40:00.000+0000</td><td>List(List(Jerry Thornton, Jerry Thornton))</td><td>List(List(null, null))</td><td>null</td><td>2025-05-06T02:35:31.257Z</td><td>page</td><td>2025-05-06</td><td>5</td><td>2025</td><td>2</td><td>3</td><td>An Ex-CIA Scientist Tells Joe Rogan the US Has 'More Than 10' Recovered UFOs, Some of Which are 'Donations'</td><td>781</td><td>whitman</td><td>US</td><td>USA</td><td>02382</td><td>MA</td><td>iOS</td><td>60.0.3</td><td>null</td></tr><tr><td>57409d63280930bd9a7edceaf4f2130b</td><td>gallery-1173926</td><td>Barstool Tuesday Morning Smokeshow - Jocelyn @jocelyn_neill</td><td>gallery</td><td>null</td><td>https://s.barstool.link/c/gallery-1173926</td><td>List(instagram, smokeshow, kmarko)</td><td>List(MUgEinivAIzU6XxOtc2pDGX2)</td><td>UNKNOWN</td><td>2018-12-18T14:00:03.000+0000</td><td>List(List(Kmarko, Kmarko))</td><td>List(List(null, null))</td><td>ContentStarted</td><td>2025-05-06T02:33:24.959Z</td><td>track</td><td>2025-05-06</td><td>5</td><td>2025</td><td>2</td><td>3</td><td></td><td>703</td><td>ashburn</td><td>US</td><td>USA</td><td>20147</td><td>VA</td><td>iOS</td><td>60.0.3</td><td>null</td></tr><tr><td>ec19748da495399f3e1d9b8272bb1a78</td><td>article-3544483</td><td>An Ex-CIA Scientist Tells Joe Rogan the US Has 'More Than 10' Recovered UFOs, Some of Which are 'Donations'</td><td>article</td><td>null</td><td>https://s.barstool.link/c/article-3544483</td><td>List(ufos, uaps, joe-rogan, cia, remote-viewing)</td><td>List(49072379)</td><td>UNKNOWN</td><td>2025-05-05T21:40:00.000+0000</td><td>List(List(Jerry Thornton, Jerry Thornton))</td><td>List(List(null, null))</td><td>null</td><td>2025-05-06T02:37:52.182Z</td><td>page</td><td>2025-05-06</td><td>5</td><td>2025</td><td>2</td><td>3</td><td>An Ex-CIA Scientist Tells Joe Rogan the US Has 'More Than 10' Recovered UFOs, Some of Which are 'Donations'</td><td>781</td><td>hanover</td><td>US</td><td>USA</td><td>02339</td><td>MA</td><td>iOS</td><td>60.0.3</td><td>null</td></tr><tr><td>715e92a83bdbd141d5d8327e028e75f8</td><td>article-3544483</td><td>An Ex-CIA Scientist Tells Joe Rogan the US Has 'More Than 10' Recovered UFOs, Some of Which are 'Donations'</td><td>article</td><td>null</td><td>https://s.barstool.link/c/article-3544483</td><td>List(ufos, uaps, joe-rogan, cia, remote-viewing)</td><td>List(49072379)</td><td>UNKNOWN</td><td>2025-05-05T21:40:00.000+0000</td><td>List(List(Jerry Thornton, Jerry Thornton))</td><td>List(List(null, null))</td><td>ContentStarted</td><td>2025-05-06T02:36:43.738Z</td><td>track</td><td>2025-05-06</td><td>5</td><td>2025</td><td>2</td><td>3</td><td></td><td>703</td><td>ashburn</td><td>US</td><td>USA</td><td>20147</td><td>VA</td><td>iOS</td><td>60.0.3</td><td>null</td></tr><tr><td>79d14c10d149a5b56186f7835fa28175</td><td>viral-original-xRbO8mu6YAUtQAdLki4gQEyA</td><td>NBA Playoffs With Brian Windhorst, Actor Josh Duhamel, The Bulls Lost Twice In The Play In, Lee Corso Retires Plus Fyre Fest</td><td>viral-original</td><td>null</td><td>https://s.barstool.link/c/viral-original-xRbO8mu6YAUtQAdLki4gQEyA</td><td>List()</td><td>List()</td><td>11</td><td>2025-04-18T04:33:25.696+0000</td><td>List(List(null, null))</td><td>List(List(Pardon My Take, PMT))</td><td>ContentStarted</td><td>2025-05-06T02:32:13.793Z</td><td>track</td><td>2025-05-06</td><td>5</td><td>2025</td><td>2</td><td>3</td><td></td><td>703</td><td>ashburn</td><td>US</td><td>USA</td><td>20147</td><td>VA</td><td>iOS</td><td>60.0.3</td><td>0.0</td></tr><tr><td>4b044bb716e7bc342f697c1af68c4ad0</td><td>article-3544469</td><td>It's Official- The NFL Draft Will Be On The National Mall In 2027 With Over 1 Million Fans Expected To Attend</td><td>article</td><td>null</td><td>https://s.barstool.link/c/article-3544469</td><td>List()</td><td>List(11236915)</td><td>UNKNOWN</td><td>2025-05-05T18:40:00.000+0000</td><td>List(List(Nate, Nate))</td><td>List(List(null, null))</td><td>null</td><td>2025-05-06T03:17:37.597Z</td><td>page</td><td>2025-05-06</td><td>5</td><td>2025</td><td>3</td><td>3</td><td>It's Official- The NFL Draft Will Be On The National Mall In 2027 With Over 1 Million Fans Expected To Attend</td><td>719</td><td>colorado springs</td><td>US</td><td>USA</td><td>80926</td><td>CO</td><td>iOS</td><td>60.0.3</td><td>null</td></tr><tr><td>31bb9df57087ece3c9bb8481d6b13a7d</td><td>article-3544410</td><td>Steph Curry Put The Rockets To Sleep For Good As The Warriors Avoid Disaster And Win Game 7</td><td>article</td><td>null</td><td>https://s.barstool.link/c/article-3544410</td><td>List(home, nba, steph-curry, rockets, warriors, game-7, sleep)</td><td>List(98009450)</td><td>UNKNOWN</td><td>2025-05-05T03:30:09.000+0000</td><td>List(List(Greenie, Greenie))</td><td>List(List(null, null))</td><td>null</td><td>2025-05-05T08:03:23.784Z</td><td>page</td><td>2025-05-05</td><td>5</td><td>2025</td><td>8</td><td>2</td><td>Steph Curry Put The Rockets To Sleep For Good As The Warriors Avoid Disaster And Win Game 7</td><td>843</td><td>charleston</td><td>US</td><td>USA</td><td>29407</td><td>SC</td><td>iOS</td><td>60.0.3</td><td>null</td></tr><tr><td>5128c46698bbaf28f38814d25adfb582</td><td>article-3544395</td><td>I Can’t Get Enough Of This Italian Dad Negotiating Jetski Prices On Vacation</td><td>article</td><td>null</td><td>https://s.barstool.link/c/article-3544395</td><td>List(vacation, egotiation, jetski)</td><td>List(51063517)</td><td>UNKNOWN</td><td>2025-05-04T19:30:00.000+0000</td><td>List(List(Rico Bosco, Rico Bosco))</td><td>List(List(null, null))</td><td>null</td><td>2025-05-05T10:27:18.950Z</td><td>page</td><td>2025-05-05</td><td>5</td><td>2025</td><td>10</td><td>2</td><td>I Can’t Get Enough Of This Italian Dad Negotiating Jetski Prices On Vacation</td><td>781</td><td>watertown</td><td>US</td><td>USA</td><td>02472</td><td>MA</td><td>iOS</td><td>60.0.3</td><td>null</td></tr><tr><td>c12e4a906817e95a6a4b3bd09c5f078e</td><td>article-3544432</td><td>Horses Are Fighting Back: If Bucking Broncos Can Learn To Body Slam The Shit Out Their Riders Like This, The Rodeo Might Be Screwed</td><td>article</td><td>null</td><td>https://s.barstool.link/c/article-3544432</td><td>List(horse, bronco, texas, bull, calf, longhorn, steer, stockyards, fort-worth, cowboy)</td><td>List(7416138)</td><td>UNKNOWN</td><td>2025-05-05T21:20:00.000+0000</td><td>List(List(John Rich, John Rich))</td><td>List(List(null, null))</td><td>null</td><td>2025-05-06T03:15:26.548Z</td><td>page</td><td>2025-05-06</td><td>5</td><td>2025</td><td>3</td><td>3</td><td>Horses Are Fighting Back: If Bucking Broncos Can Learn To Body Slam The Shit Out Their Riders Like This, The Rodeo Might Be Screwed</td><td>859</td><td>berea</td><td>US</td><td>USA</td><td>40403</td><td>KY</td><td>iOS</td><td>60.0.3</td><td>null</td></tr><tr><td>d8c6b037ccde3c3c1dd588d1843fe77c</td><td>article-3544469</td><td>It's Official- The NFL Draft Will Be On The National Mall In 2027 With Over 1 Million Fans Expected To Attend</td><td>article</td><td>null</td><td>https://s.barstool.link/c/article-3544469</td><td>List()</td><td>List(11236915)</td><td>UNKNOWN</td><td>2025-05-05T18:40:00.000+0000</td><td>List(List(Nate, Nate))</td><td>List(List(null, null))</td><td>null</td><td>2025-05-06T03:15:42.176Z</td><td>page</td><td>2025-05-06</td><td>5</td><td>2025</td><td>3</td><td>3</td><td>It's Official- The NFL Draft Will Be On The National Mall In 2027 With Over 1 Million Fans Expected To Attend</td><td>323</td><td>west hollywood</td><td>US</td><td>USA</td><td>90069</td><td>CA</td><td>iOS</td><td>60.0.3</td><td>null</td></tr><tr><td>c1ce71a5ab4a0cc73f22bd8e6c858847</td><td>viral-original-aU8l33JP3SZHfX0o8LQfTQrl</td><td>Coachella Is So Back, Aimee Lou Wood Calls Out SNL + Katy Perry Goes to Space</td><td>viral-original</td><td>null</td><td>https://s.barstool.link/c/viral-original-aU8l33JP3SZHfX0o8LQfTQrl</td><td>List()</td><td>List()</td><td>25</td><td>2025-04-14T17:28:44.411+0000</td><td>List(List(null, null))</td><td>List(List(Chicks In The Office, CITO))</td><td>ContentStarted</td><td>2025-05-06T03:15:23.479Z</td><td>track</td><td>2025-05-06</td><td>5</td><td>2025</td><td>3</td><td>3</td><td></td><td>703</td><td>ashburn</td><td>US</td><td>USA</td><td>20147</td><td>VA</td><td>iOS</td><td>60.0.3</td><td>0.0</td></tr><tr><td>b604cbf3c4c3aa0c0cb51d77f4c04f08</td><td>article-3544478</td><td>The Easton Dub Is the New Youth Baseball Bat Sweeping the Nation and It Seems Like It May Actually Be One of the GOATs</td><td>article</td><td>null</td><td>https://s.barstool.link/c/article-3544478</td><td>List(baseball, easton-dub, tiktok, big-tennessee)</td><td>List(88947464)</td><td>UNKNOWN</td><td>2025-05-05T20:20:00.000+0000</td><td>List(List(Big Tennessee, Big Tennessee))</td><td>List(List(null, null))</td><td>null</td><td>2025-05-06T02:47:58.345Z</td><td>page</td><td>2025-05-06</td><td>5</td><td>2025</td><td>2</td><td>3</td><td>The Easton Dub Is the New Youth Baseball Bat Sweeping the Nation and It Seems Like It May Actually Be One of the GOATs</td><td>561</td><td>west palm beach</td><td>US</td><td>USA</td><td>33401</td><td>FL</td><td>iOS</td><td>60.0.3</td><td>null</td></tr><tr><td>9edd668ba0df7f3be41e0a74ad7fb64c</td><td>viral-original-y1z9i4Qk6Ps0xE8JJkE5OzfS</td><td>WEEK-8-CLIP-2-CORN-DOG.efc3b917.mp4</td><td>viral-original</td><td>null</td><td>https://s.barstool.link/c/viral-original-y1z9i4Qk6Ps0xE8JJkE5OzfS</td><td>List()</td><td>List()</td><td>91</td><td>2024-10-17T05:58:04.110+0000</td><td>List(List(null, null))</td><td>List(List(null, null))</td><td>ContentCompleted</td><td>2025-05-06T02:49:55.117Z</td><td>track</td><td>2025-05-06</td><td>5</td><td>2025</td><td>2</td><td>3</td><td></td><td>703</td><td>ashburn</td><td>US</td><td>USA</td><td>20147</td><td>VA</td><td>iOS</td><td>60.0.3</td><td>null</td></tr><tr><td>43d0998ef1dc5931754b53d697bd564a</td><td>podcast-episode-Tiu474zZunXBfkpXsKuxoarf</td><td>An In-Depth Look Into the Delco Pooper with Mike Rainey | The Yak 5-5-25</td><td>podcast-episode</td><td>null</td><td>https://s.barstool.link/c/podcast-episode-Tiu474zZunXBfkpXsKuxoarf</td><td>List()</td><td>List(1108935, 13347496, 22849867, 29394610, 48250588, 51139193, 51188933, 52669221, 91417281)</td><td>148</td><td>2025-05-05T20:41:23.814+0000</td><td>List(List(KB, KB), List(Brandon Walker, Brandon Walker), List(Lil Sasquatch, Lil Sasquatch), List(Nick, Nick), List(Rone, Rone), List(Big Cat, Big Cat), List(Steven Cheah, Steven Cheah), List(Mark Titus, Mark Titus), List(Kate, Kate))</td><td>List(List(The Yak, null))</td><td>ContentStarted</td><td>2025-05-06T02:56:43.343Z</td><td>track</td><td>2025-05-06</td><td>5</td><td>2025</td><td>2</td><td>3</td><td></td><td>703</td><td>ashburn</td><td>US</td><td>USA</td><td>20147</td><td>VA</td><td>iOS</td><td>60.0.3</td><td>597.502810785</td></tr></tbody></table></div>"
      ]
     },
     "metadata": {
      "application/vnd.databricks.v1+output": {
       "addedWidgets": {},
       "aggData": [],
       "aggError": "",
       "aggOverflow": false,
       "aggSchema": [],
       "aggSeriesLimitReached": false,
       "aggType": "",
       "arguments": {},
       "columnCustomDisplayInfos": {},
       "data": [
        [
         "8406dff613becd2ee3da6e0ef518992d",
         "article-3544499",
         "The Knicks March Into Boston, Steal Game 1 From The Celtics, And Prove They Can Beat Those Fucking Guys",
         "article",
         null,
         "https://s.barstool.link/c/article-3544499",
         [],
         [
          "94461631"
         ],
         "UNKNOWN",
         "2025-05-06T02:19:59.000+0000",
         [
          [
           "Clem",
           "Clem"
          ]
         ],
         [
          [
           null,
           null
          ]
         ],
         "ContentStarted",
         "2025-05-06T03:35:34.759Z",
         "track",
         "2025-05-06",
         5,
         2025,
         3,
         3,
         "",
         703,
         "ashburn",
         "US",
         "USA",
         "20147",
         "VA",
         "iOS",
         "60.0.3",
         null
        ],
        [
         "2374cee2300df01a36ea1c559a578be0",
         "article-3544433",
         "Michigan Is Self-Imposing A Two Game Suspension (But NOT The First Two Games) To Lessen The Incoming Hammer From The NCAA",
         "article",
         null,
         "https://s.barstool.link/c/article-3544433",
         [],
         [
          "81445381"
         ],
         "UNKNOWN",
         "2025-05-05T14:10:00.000+0000",
         [
          [
           "Ohios Tate",
           "Ohios Tate"
          ]
         ],
         [
          [
           null,
           null
          ]
         ],
         "ContentStarted",
         "2025-05-06T03:04:09.678Z",
         "track",
         "2025-05-06",
         5,
         2025,
         3,
         3,
         "",
         703,
         "ashburn",
         "US",
         "USA",
         "20147",
         "VA",
         "iOS",
         "60.0.3",
         null
        ],
        [
         "4155e186e68eca717060d8592f11f52c",
         "article-3544454",
         "Why I’ll Take Real-Life Rejection Over Online Dating Any Day",
         "article",
         null,
         "https://s.barstool.link/c/article-3544454",
         [],
         [
          "58276848"
         ],
         "UNKNOWN",
         "2025-05-05T18:00:00.000+0000",
         [
          [
           "Nicky Smokes",
           "Nicky Smokes"
          ]
         ],
         [
          [
           null,
           null
          ]
         ],
         null,
         "2025-05-06T03:06:14.482Z",
         "page",
         "2025-05-06",
         5,
         2025,
         3,
         3,
         "Why I’ll Take Real-Life Rejection Over Online Dating Any Day",
         813,
         "tampa",
         "US",
         "USA",
         "33624",
         "FL",
         "iOS",
         "60.0.3",
         null
        ],
        [
         "9b168b45e97777d2f1874785d223537d",
         "vod-s9lJrF4ZopfXNXTybhC1ADIT",
         "Dave and Meek Preview The Bet Gala - Barstool Rundown - May 5th, 2025",
         "vod",
         null,
         "https://s.barstool.link/c/vod-s9lJrF4ZopfXNXTybhC1ADIT",
         [],
         [
          "11236915"
         ],
         "14",
         "2025-05-05T21:30:00.000+0000",
         [
          [
           "Nate",
           "Nate"
          ]
         ],
         [
          [
           "Barstool Rundown",
           "Rundown"
          ]
         ],
         "ContentStarted",
         "2025-05-06T03:04:36.658Z",
         "track",
         "2025-05-06",
         5,
         2025,
         3,
         3,
         "",
         703,
         "ashburn",
         "US",
         "USA",
         "20147",
         "VA",
         "iOS",
         "60.0.3",
         418.883803233
        ],
        [
         "977db5714321325c8e1e408ff6ec6dea",
         "viral-original-JRgIvi5Y3OPh0LChAZedyhsr",
         "Inside the World of Kidfluencers & Streamers (ft. Mook) | Apr 17, 2025",
         "viral-original",
         null,
         "https://s.barstool.link/c/viral-original-JRgIvi5Y3OPh0LChAZedyhsr",
         [],
         [],
         "149",
         "2025-04-17T04:00:00.000+0000",
         [
          [
           null,
           null
          ]
         ],
         [
          [
           "Macrodosing",
           null
          ]
         ],
         "ContentStarted",
         "2025-05-06T03:05:00.544Z",
         "track",
         "2025-05-06",
         5,
         2025,
         3,
         3,
         "",
         703,
         "ashburn",
         "US",
         "USA",
         "20147",
         "VA",
         "iOS",
         "60.0.3",
         69.664691638
        ],
        [
         "438a87094b74b6ed8bef70ed7339e200",
         "vod-UbKYmn7LNX2FiJkXUSujm5HM",
         "Frank Walks Episode 53: Bartolo Colon presented by BODYARMOR",
         "vod",
         null,
         "https://s.barstool.link/c/vod-UbKYmn7LNX2FiJkXUSujm5HM",
         [
          "sports",
          "frank-the-tank",
          "barstool-sports",
          "barstool",
          "frank-the-tank-walk",
          "bartolo-colon",
          "mlb",
          "pitchers-home-runs",
          "cy-young",
          "los-angeles-angels",
          "big-sexy"
         ],
         [
          "1747017"
         ],
         "UNKNOWN",
         "2025-05-02T20:20:00.000+0000",
         [
          [
           "Frank The Tank",
           "Frank The Tank"
          ]
         ],
         [
          [
           null,
           null
          ]
         ],
         "ContentStarted",
         "2025-05-05T07:10:10.270Z",
         "track",
         "2025-05-05",
         5,
         2025,
         7,
         2,
         "",
         703,
         "ashburn",
         "US",
         "USA",
         "20147",
         "VA",
         "iOS",
         "60.0.3",
         772.148220398
        ],
        [
         "4c22fa6319994a5ab4f9134d64c5fd05",
         "article-3544483",
         "An Ex-CIA Scientist Tells Joe Rogan the US Has 'More Than 10' Recovered UFOs, Some of Which are 'Donations'",
         "article",
         null,
         "https://s.barstool.link/c/article-3544483",
         [
          "ufos",
          "uaps",
          "joe-rogan",
          "cia",
          "remote-viewing"
         ],
         [
          "49072379"
         ],
         "UNKNOWN",
         "2025-05-05T21:40:00.000+0000",
         [
          [
           "Jerry Thornton",
           "Jerry Thornton"
          ]
         ],
         [
          [
           null,
           null
          ]
         ],
         null,
         "2025-05-06T02:35:31.257Z",
         "page",
         "2025-05-06",
         5,
         2025,
         2,
         3,
         "An Ex-CIA Scientist Tells Joe Rogan the US Has 'More Than 10' Recovered UFOs, Some of Which are 'Donations'",
         781,
         "whitman",
         "US",
         "USA",
         "02382",
         "MA",
         "iOS",
         "60.0.3",
         null
        ],
        [
         "57409d63280930bd9a7edceaf4f2130b",
         "gallery-1173926",
         "Barstool Tuesday Morning Smokeshow - Jocelyn @jocelyn_neill",
         "gallery",
         null,
         "https://s.barstool.link/c/gallery-1173926",
         [
          "instagram",
          "smokeshow",
          "kmarko"
         ],
         [
          "MUgEinivAIzU6XxOtc2pDGX2"
         ],
         "UNKNOWN",
         "2018-12-18T14:00:03.000+0000",
         [
          [
           "Kmarko",
           "Kmarko"
          ]
         ],
         [
          [
           null,
           null
          ]
         ],
         "ContentStarted",
         "2025-05-06T02:33:24.959Z",
         "track",
         "2025-05-06",
         5,
         2025,
         2,
         3,
         "",
         703,
         "ashburn",
         "US",
         "USA",
         "20147",
         "VA",
         "iOS",
         "60.0.3",
         null
        ],
        [
         "ec19748da495399f3e1d9b8272bb1a78",
         "article-3544483",
         "An Ex-CIA Scientist Tells Joe Rogan the US Has 'More Than 10' Recovered UFOs, Some of Which are 'Donations'",
         "article",
         null,
         "https://s.barstool.link/c/article-3544483",
         [
          "ufos",
          "uaps",
          "joe-rogan",
          "cia",
          "remote-viewing"
         ],
         [
          "49072379"
         ],
         "UNKNOWN",
         "2025-05-05T21:40:00.000+0000",
         [
          [
           "Jerry Thornton",
           "Jerry Thornton"
          ]
         ],
         [
          [
           null,
           null
          ]
         ],
         null,
         "2025-05-06T02:37:52.182Z",
         "page",
         "2025-05-06",
         5,
         2025,
         2,
         3,
         "An Ex-CIA Scientist Tells Joe Rogan the US Has 'More Than 10' Recovered UFOs, Some of Which are 'Donations'",
         781,
         "hanover",
         "US",
         "USA",
         "02339",
         "MA",
         "iOS",
         "60.0.3",
         null
        ],
        [
         "715e92a83bdbd141d5d8327e028e75f8",
         "article-3544483",
         "An Ex-CIA Scientist Tells Joe Rogan the US Has 'More Than 10' Recovered UFOs, Some of Which are 'Donations'",
         "article",
         null,
         "https://s.barstool.link/c/article-3544483",
         [
          "ufos",
          "uaps",
          "joe-rogan",
          "cia",
          "remote-viewing"
         ],
         [
          "49072379"
         ],
         "UNKNOWN",
         "2025-05-05T21:40:00.000+0000",
         [
          [
           "Jerry Thornton",
           "Jerry Thornton"
          ]
         ],
         [
          [
           null,
           null
          ]
         ],
         "ContentStarted",
         "2025-05-06T02:36:43.738Z",
         "track",
         "2025-05-06",
         5,
         2025,
         2,
         3,
         "",
         703,
         "ashburn",
         "US",
         "USA",
         "20147",
         "VA",
         "iOS",
         "60.0.3",
         null
        ],
        [
         "79d14c10d149a5b56186f7835fa28175",
         "viral-original-xRbO8mu6YAUtQAdLki4gQEyA",
         "NBA Playoffs With Brian Windhorst, Actor Josh Duhamel, The Bulls Lost Twice In The Play In, Lee Corso Retires Plus Fyre Fest",
         "viral-original",
         null,
         "https://s.barstool.link/c/viral-original-xRbO8mu6YAUtQAdLki4gQEyA",
         [],
         [],
         "11",
         "2025-04-18T04:33:25.696+0000",
         [
          [
           null,
           null
          ]
         ],
         [
          [
           "Pardon My Take",
           "PMT"
          ]
         ],
         "ContentStarted",
         "2025-05-06T02:32:13.793Z",
         "track",
         "2025-05-06",
         5,
         2025,
         2,
         3,
         "",
         703,
         "ashburn",
         "US",
         "USA",
         "20147",
         "VA",
         "iOS",
         "60.0.3",
         0.0
        ],
        [
         "4b044bb716e7bc342f697c1af68c4ad0",
         "article-3544469",
         "It's Official- The NFL Draft Will Be On The National Mall In 2027 With Over 1 Million Fans Expected To Attend",
         "article",
         null,
         "https://s.barstool.link/c/article-3544469",
         [],
         [
          "11236915"
         ],
         "UNKNOWN",
         "2025-05-05T18:40:00.000+0000",
         [
          [
           "Nate",
           "Nate"
          ]
         ],
         [
          [
           null,
           null
          ]
         ],
         null,
         "2025-05-06T03:17:37.597Z",
         "page",
         "2025-05-06",
         5,
         2025,
         3,
         3,
         "It's Official- The NFL Draft Will Be On The National Mall In 2027 With Over 1 Million Fans Expected To Attend",
         719,
         "colorado springs",
         "US",
         "USA",
         "80926",
         "CO",
         "iOS",
         "60.0.3",
         null
        ],
        [
         "31bb9df57087ece3c9bb8481d6b13a7d",
         "article-3544410",
         "Steph Curry Put The Rockets To Sleep For Good As The Warriors Avoid Disaster And Win Game 7",
         "article",
         null,
         "https://s.barstool.link/c/article-3544410",
         [
          "home",
          "nba",
          "steph-curry",
          "rockets",
          "warriors",
          "game-7",
          "sleep"
         ],
         [
          "98009450"
         ],
         "UNKNOWN",
         "2025-05-05T03:30:09.000+0000",
         [
          [
           "Greenie",
           "Greenie"
          ]
         ],
         [
          [
           null,
           null
          ]
         ],
         null,
         "2025-05-05T08:03:23.784Z",
         "page",
         "2025-05-05",
         5,
         2025,
         8,
         2,
         "Steph Curry Put The Rockets To Sleep For Good As The Warriors Avoid Disaster And Win Game 7",
         843,
         "charleston",
         "US",
         "USA",
         "29407",
         "SC",
         "iOS",
         "60.0.3",
         null
        ],
        [
         "5128c46698bbaf28f38814d25adfb582",
         "article-3544395",
         "I Can’t Get Enough Of This Italian Dad Negotiating Jetski Prices On Vacation",
         "article",
         null,
         "https://s.barstool.link/c/article-3544395",
         [
          "vacation",
          "egotiation",
          "jetski"
         ],
         [
          "51063517"
         ],
         "UNKNOWN",
         "2025-05-04T19:30:00.000+0000",
         [
          [
           "Rico Bosco",
           "Rico Bosco"
          ]
         ],
         [
          [
           null,
           null
          ]
         ],
         null,
         "2025-05-05T10:27:18.950Z",
         "page",
         "2025-05-05",
         5,
         2025,
         10,
         2,
         "I Can’t Get Enough Of This Italian Dad Negotiating Jetski Prices On Vacation",
         781,
         "watertown",
         "US",
         "USA",
         "02472",
         "MA",
         "iOS",
         "60.0.3",
         null
        ],
        [
         "c12e4a906817e95a6a4b3bd09c5f078e",
         "article-3544432",
         "Horses Are Fighting Back: If Bucking Broncos Can Learn To Body Slam The Shit Out Their Riders Like This, The Rodeo Might Be Screwed",
         "article",
         null,
         "https://s.barstool.link/c/article-3544432",
         [
          "horse",
          "bronco",
          "texas",
          "bull",
          "calf",
          "longhorn",
          "steer",
          "stockyards",
          "fort-worth",
          "cowboy"
         ],
         [
          "7416138"
         ],
         "UNKNOWN",
         "2025-05-05T21:20:00.000+0000",
         [
          [
           "John Rich",
           "John Rich"
          ]
         ],
         [
          [
           null,
           null
          ]
         ],
         null,
         "2025-05-06T03:15:26.548Z",
         "page",
         "2025-05-06",
         5,
         2025,
         3,
         3,
         "Horses Are Fighting Back: If Bucking Broncos Can Learn To Body Slam The Shit Out Their Riders Like This, The Rodeo Might Be Screwed",
         859,
         "berea",
         "US",
         "USA",
         "40403",
         "KY",
         "iOS",
         "60.0.3",
         null
        ],
        [
         "d8c6b037ccde3c3c1dd588d1843fe77c",
         "article-3544469",
         "It's Official- The NFL Draft Will Be On The National Mall In 2027 With Over 1 Million Fans Expected To Attend",
         "article",
         null,
         "https://s.barstool.link/c/article-3544469",
         [],
         [
          "11236915"
         ],
         "UNKNOWN",
         "2025-05-05T18:40:00.000+0000",
         [
          [
           "Nate",
           "Nate"
          ]
         ],
         [
          [
           null,
           null
          ]
         ],
         null,
         "2025-05-06T03:15:42.176Z",
         "page",
         "2025-05-06",
         5,
         2025,
         3,
         3,
         "It's Official- The NFL Draft Will Be On The National Mall In 2027 With Over 1 Million Fans Expected To Attend",
         323,
         "west hollywood",
         "US",
         "USA",
         "90069",
         "CA",
         "iOS",
         "60.0.3",
         null
        ],
        [
         "c1ce71a5ab4a0cc73f22bd8e6c858847",
         "viral-original-aU8l33JP3SZHfX0o8LQfTQrl",
         "Coachella Is So Back, Aimee Lou Wood Calls Out SNL + Katy Perry Goes to Space",
         "viral-original",
         null,
         "https://s.barstool.link/c/viral-original-aU8l33JP3SZHfX0o8LQfTQrl",
         [],
         [],
         "25",
         "2025-04-14T17:28:44.411+0000",
         [
          [
           null,
           null
          ]
         ],
         [
          [
           "Chicks In The Office",
           "CITO"
          ]
         ],
         "ContentStarted",
         "2025-05-06T03:15:23.479Z",
         "track",
         "2025-05-06",
         5,
         2025,
         3,
         3,
         "",
         703,
         "ashburn",
         "US",
         "USA",
         "20147",
         "VA",
         "iOS",
         "60.0.3",
         0.0
        ],
        [
         "b604cbf3c4c3aa0c0cb51d77f4c04f08",
         "article-3544478",
         "The Easton Dub Is the New Youth Baseball Bat Sweeping the Nation and It Seems Like It May Actually Be One of the GOATs",
         "article",
         null,
         "https://s.barstool.link/c/article-3544478",
         [
          "baseball",
          "easton-dub",
          "tiktok",
          "big-tennessee"
         ],
         [
          "88947464"
         ],
         "UNKNOWN",
         "2025-05-05T20:20:00.000+0000",
         [
          [
           "Big Tennessee",
           "Big Tennessee"
          ]
         ],
         [
          [
           null,
           null
          ]
         ],
         null,
         "2025-05-06T02:47:58.345Z",
         "page",
         "2025-05-06",
         5,
         2025,
         2,
         3,
         "The Easton Dub Is the New Youth Baseball Bat Sweeping the Nation and It Seems Like It May Actually Be One of the GOATs",
         561,
         "west palm beach",
         "US",
         "USA",
         "33401",
         "FL",
         "iOS",
         "60.0.3",
         null
        ],
        [
         "9edd668ba0df7f3be41e0a74ad7fb64c",
         "viral-original-y1z9i4Qk6Ps0xE8JJkE5OzfS",
         "WEEK-8-CLIP-2-CORN-DOG.efc3b917.mp4",
         "viral-original",
         null,
         "https://s.barstool.link/c/viral-original-y1z9i4Qk6Ps0xE8JJkE5OzfS",
         [],
         [],
         "91",
         "2024-10-17T05:58:04.110+0000",
         [
          [
           null,
           null
          ]
         ],
         [
          [
           null,
           null
          ]
         ],
         "ContentCompleted",
         "2025-05-06T02:49:55.117Z",
         "track",
         "2025-05-06",
         5,
         2025,
         2,
         3,
         "",
         703,
         "ashburn",
         "US",
         "USA",
         "20147",
         "VA",
         "iOS",
         "60.0.3",
         null
        ],
        [
         "43d0998ef1dc5931754b53d697bd564a",
         "podcast-episode-Tiu474zZunXBfkpXsKuxoarf",
         "An In-Depth Look Into the Delco Pooper with Mike Rainey | The Yak 5-5-25",
         "podcast-episode",
         null,
         "https://s.barstool.link/c/podcast-episode-Tiu474zZunXBfkpXsKuxoarf",
         [],
         [
          "1108935",
          "13347496",
          "22849867",
          "29394610",
          "48250588",
          "51139193",
          "51188933",
          "52669221",
          "91417281"
         ],
         "148",
         "2025-05-05T20:41:23.814+0000",
         [
          [
           "KB",
           "KB"
          ],
          [
           "Brandon Walker",
           "Brandon Walker"
          ],
          [
           "Lil Sasquatch",
           "Lil Sasquatch"
          ],
          [
           "Nick",
           "Nick"
          ],
          [
           "Rone",
           "Rone"
          ],
          [
           "Big Cat",
           "Big Cat"
          ],
          [
           "Steven Cheah",
           "Steven Cheah"
          ],
          [
           "Mark Titus",
           "Mark Titus"
          ],
          [
           "Kate",
           "Kate"
          ]
         ],
         [
          [
           "The Yak",
           null
          ]
         ],
         "ContentStarted",
         "2025-05-06T02:56:43.343Z",
         "track",
         "2025-05-06",
         5,
         2025,
         2,
         3,
         "",
         703,
         "ashburn",
         "US",
         "USA",
         "20147",
         "VA",
         "iOS",
         "60.0.3",
         597.502810785
        ]
       ],
       "datasetInfos": [],
       "dbfsResultPath": null,
       "isJsonSchema": true,
       "metadata": {},
       "overflow": false,
       "plotOptions": {
        "customPlotOptions": {},
        "displayType": "table",
        "pivotAggregation": null,
        "pivotColumns": null,
        "xColumns": null,
        "yColumns": null
       },
       "removedWidgets": [],
       "schema": [
        {
         "metadata": "{}",
         "name": "anon_id",
         "type": "\"string\""
        },
        {
         "metadata": "{}",
         "name": "content_id",
         "type": "\"string\""
        },
        {
         "metadata": "{}",
         "name": "content_title",
         "type": "\"string\""
        },
        {
         "metadata": "{}",
         "name": "content_type",
         "type": "\"string\""
        },
        {
         "metadata": "{}",
         "name": "duration_sec",
         "type": "\"double\""
        },
        {
         "metadata": "{}",
         "name": "share_url",
         "type": "\"string\""
        },
        {
         "metadata": "{}",
         "name": "TAGS",
         "type": "{\"type\":\"array\",\"elementType\":\"string\",\"containsNull\":true}"
        },
        {
         "metadata": "{}",
         "name": "TALENT",
         "type": "{\"type\":\"array\",\"elementType\":\"string\",\"containsNull\":true}"
        },
        {
         "metadata": "{}",
         "name": "FRANCHISE",
         "type": "\"string\""
        },
        {
         "metadata": "{}",
         "name": "published_at",
         "type": "\"timestamp\""
        },
        {
         "metadata": "{}",
         "name": "talent_details",
         "type": "{\"type\":\"array\",\"elementType\":{\"type\":\"struct\",\"fields\":[{\"name\":\"talent_name\",\"type\":\"string\",\"nullable\":true,\"metadata\":{}},{\"name\":\"talent_short_name\",\"type\":\"string\",\"nullable\":true,\"metadata\":{}}]},\"containsNull\":true}"
        },
        {
         "metadata": "{}",
         "name": "franchise_details",
         "type": "{\"type\":\"array\",\"elementType\":{\"type\":\"struct\",\"fields\":[{\"name\":\"franchise_name\",\"type\":\"string\",\"nullable\":true,\"metadata\":{}},{\"name\":\"franchise_short_name\",\"type\":\"string\",\"nullable\":true,\"metadata\":{}}]},\"containsNull\":true}"
        },
        {
         "metadata": "{}",
         "name": "event_name",
         "type": "\"string\""
        },
        {
         "metadata": "{}",
         "name": "event_timestamp",
         "type": "\"string\""
        },
        {
         "metadata": "{}",
         "name": "event_type",
         "type": "\"string\""
        },
        {
         "metadata": "{}",
         "name": "event_date",
         "type": "\"date\""
        },
        {
         "metadata": "{}",
         "name": "event_month",
         "type": "\"integer\""
        },
        {
         "metadata": "{}",
         "name": "event_year",
         "type": "\"integer\""
        },
        {
         "metadata": "{}",
         "name": "event_hour",
         "type": "\"integer\""
        },
        {
         "metadata": "{}",
         "name": "event_day",
         "type": "\"integer\""
        },
        {
         "metadata": "{}",
         "name": "page_title",
         "type": "\"string\""
        },
        {
         "metadata": "{}",
         "name": "geo_area_code",
         "type": "\"long\""
        },
        {
         "metadata": "{}",
         "name": "geo_city",
         "type": "\"string\""
        },
        {
         "metadata": "{}",
         "name": "geo_country_code",
         "type": "\"string\""
        },
        {
         "metadata": "{}",
         "name": "geo_country_code3",
         "type": "\"string\""
        },
        {
         "metadata": "{}",
         "name": "geo_postal_code",
         "type": "\"string\""
        },
        {
         "metadata": "{}",
         "name": "geo_region",
         "type": "\"string\""
        },
        {
         "metadata": "{}",
         "name": "app_os",
         "type": "\"string\""
        },
        {
         "metadata": "{}",
         "name": "app_version",
         "type": "\"string\""
        },
        {
         "metadata": "{}",
         "name": "content_duration",
         "type": "\"double\""
        }
       ],
       "type": "table"
      }
     },
     "output_type": "display_data"
    }
   ],
   "source": [
    "consumption_events_logs_df = (\n",
    "    spark.read\n",
    "         .format(\"delta\")\n",
    "         .load(\"/mnt/consumption/barstool/consumption_events_logs\")\n",
    ")\n",
    "\n",
    "# quick peek\n",
    "consumption_events_logs_df=consumption_events_logs_df.dropDuplicates()\n",
    "display(consumption_events_logs_df.limit(20))"
   ]
  },
  {
   "cell_type": "code",
   "execution_count": 0,
   "metadata": {
    "application/vnd.databricks.v1+cell": {
     "cellMetadata": {
      "byteLimit": 2048000,
      "rowLimit": 10000
     },
     "inputWidgets": {},
     "nuid": "9cece946-0c41-4e3b-8efe-adbaeb5e99cb",
     "showTitle": false,
     "tableResultSettingsMap": {},
     "title": ""
    }
   },
   "outputs": [],
   "source": [
    "consumption_events_logs_df.createOrReplaceTempView(\"consumption_events_logs\")"
   ]
  },
  {
   "cell_type": "markdown",
   "metadata": {
    "application/vnd.databricks.v1+cell": {
     "cellMetadata": {},
     "inputWidgets": {},
     "nuid": "2d027a93-6fe0-43fe-950e-677d90017049",
     "showTitle": false,
     "tableResultSettingsMap": {},
     "title": ""
    }
   },
   "source": [
    "###  1. Content by Type Analysis\n",
    "- considering event_type 'track' not 'page' (which means when media is palyed in the content).  Only `event_name = 'ContentStarted'` ➜ true signal that a user actively began consuming the content. \n",
    "- because we are filtering on  event_name = 'ContentStarted'.\n",
    "- We ignore `event_type = 'page'` because it often carries null `event_name` and simply means a page view.  \n",
    "\n",
    "view_count` – total “starts” per `CONTENT_TYPE`\n",
    "  * `unique_contents` – distinct `content_id` per type (helps gauge catalogue size)"
   ]
  },
  {
   "cell_type": "code",
   "execution_count": 0,
   "metadata": {
    "application/vnd.databricks.v1+cell": {
     "cellMetadata": {
      "byteLimit": 2048000,
      "rowLimit": 10000
     },
     "inputWidgets": {},
     "nuid": "fc15c4c2-f7b4-49c6-9815-67223ba64357",
     "showTitle": false,
     "tableResultSettingsMap": {},
     "title": ""
    }
   },
   "outputs": [
    {
     "output_type": "stream",
     "name": "stdout",
     "output_type": "stream",
     "text": [
      "Content Views by Type:\n"
     ]
    },
    {
     "output_type": "display_data",
     "data": {
      "text/html": [
       "<style scoped>\n",
       "  .table-result-container {\n",
       "    max-height: 300px;\n",
       "    overflow: auto;\n",
       "  }\n",
       "  table, th, td {\n",
       "    border: 1px solid black;\n",
       "    border-collapse: collapse;\n",
       "  }\n",
       "  th, td {\n",
       "    padding: 5px;\n",
       "  }\n",
       "  th {\n",
       "    text-align: left;\n",
       "  }\n",
       "</style><div class='table-result-container'><table class='table-result'><thead style='background-color: white'><tr><th>CONTENT_TYPE</th><th>view_count</th><th>unique_contents</th></tr></thead><tbody><tr><td>article</td><td>37378</td><td>270</td></tr><tr><td>viral-original</td><td>7894</td><td>698</td></tr><tr><td>podcast-episode</td><td>5133</td><td>37</td></tr><tr><td>vod</td><td>2506</td><td>89</td></tr><tr><td>viral-ugc</td><td>989</td><td>61</td></tr><tr><td>gallery</td><td>77</td><td>33</td></tr></tbody></table></div>"
      ]
     },
     "metadata": {
      "application/vnd.databricks.v1+output": {
       "addedWidgets": {},
       "aggData": [],
       "aggError": "",
       "aggOverflow": false,
       "aggSchema": [],
       "aggSeriesLimitReached": false,
       "aggType": "",
       "arguments": {},
       "columnCustomDisplayInfos": {},
       "data": [
        [
         "article",
         37378,
         270
        ],
        [
         "viral-original",
         7894,
         698
        ],
        [
         "podcast-episode",
         5133,
         37
        ],
        [
         "vod",
         2506,
         89
        ],
        [
         "viral-ugc",
         989,
         61
        ],
        [
         "gallery",
         77,
         33
        ]
       ],
       "datasetInfos": [],
       "dbfsResultPath": null,
       "isJsonSchema": true,
       "metadata": {},
       "overflow": false,
       "plotOptions": {
        "customPlotOptions": {},
        "displayType": "table",
        "pivotAggregation": null,
        "pivotColumns": null,
        "xColumns": null,
        "yColumns": null
       },
       "removedWidgets": [],
       "schema": [
        {
         "metadata": "{}",
         "name": "CONTENT_TYPE",
         "type": "\"string\""
        },
        {
         "metadata": "{}",
         "name": "view_count",
         "type": "\"long\""
        },
        {
         "metadata": "{}",
         "name": "unique_contents",
         "type": "\"long\""
        }
       ],
       "type": "table"
      }
     },
     "output_type": "display_data"
    },
    {
     "output_type": "display_data",
     "data": {
      "text/plain": [
       "Databricks visualization. Run in Databricks to view."
      ]
     },
     "metadata": {
      "application/vnd.databricks.v1.subcommand+json": {
       "baseErrorDetails": null,
       "bindings": {},
       "collapsed": false,
       "command": "%python\n__backend_agg_display_orig = display\n__backend_agg_dfs = []\ndef __backend_agg_display_new(df):\n    __backend_agg_df_modules = [\"pandas.core.frame\", \"databricks.koalas.frame\", \"pyspark.sql.dataframe\", \"pyspark.pandas.frame\", \"pyspark.sql.connect.dataframe\"]\n    if (type(df).__module__ in __backend_agg_df_modules and type(df).__name__ == 'DataFrame') or isinstance(df, list):\n        __backend_agg_dfs.append(df)\n\ndisplay = __backend_agg_display_new\n\ndef __backend_agg_user_code_fn():\n    import base64\n    exec(base64.standard_b64decode(\"IyAxLiBDb250ZW50IGJ5IFR5cGUgQW5hbHlzaXMKY29udGVudF9ieV90eXBlID0gc3Bhcmsuc3FsKCIiIgogICAgU0VMRUNUIAogICAgICAgIENPTlRFTlRfVFlQRSwKICAgICAgICBDT1VOVCgqKSBhcyB2aWV3X2NvdW50LAogICAgICAgIENPVU5UKERJU1RJTkNUIGNvbnRlbnRfaWQpIGFzIHVuaXF1ZV9jb250ZW50cwogICAgRlJPTSBjb25zdW1wdGlvbl9ldmVudHNfbG9ncwogICAgV0hFUkUgZXZlbnRfbmFtZSA9ICdDb250ZW50U3RhcnRlZCcKICAgIEdST1VQIEJZIENPTlRFTlRfVFlQRQogICAgT1JERVIgQlkgdmlld19jb3VudCBERVNDCiIiIikKcHJpbnQoIkNvbnRlbnQgVmlld3MgYnkgVHlwZToiKQpjb250ZW50X2J5X3R5cGUuZGlzcGxheSgp\").decode())\n\ntry:\n    # run user code\n    __backend_agg_user_code_fn()\n\n    #reset display function\n    display = __backend_agg_display_orig\n\n    if len(__backend_agg_dfs) > 0:\n        # create a temp view\n        if type(__backend_agg_dfs[0]).__module__ == \"databricks.koalas.frame\":\n            # koalas dataframe\n            __backend_agg_dfs[0].to_spark().createOrReplaceTempView(\"DatabricksViewc520bbb\")\n        elif type(__backend_agg_dfs[0]).__module__ == \"pandas.core.frame\" or isinstance(__backend_agg_dfs[0], list):\n            # pandas dataframe\n            spark.createDataFrame(__backend_agg_dfs[0]).createOrReplaceTempView(\"DatabricksViewc520bbb\")\n        else:\n            __backend_agg_dfs[0].createOrReplaceTempView(\"DatabricksViewc520bbb\")\n        #run backend agg\n        display(spark.sql(\"\"\"WITH q AS (select * from DatabricksViewc520bbb) SELECT `CONTENT_TYPE`,SUM(`view_count`) `column_3ce09d2f246`,`CONTENT_TYPE` FROM q GROUP BY `CONTENT_TYPE`\"\"\"))\n    else:\n        displayHTML(\"dataframe no longer exists. If you're using dataframe.display(), use display(dataframe) instead.\")\n\n\nfinally:\n    spark.sql(\"drop view if exists DatabricksViewc520bbb\")\n    display = __backend_agg_display_orig\n    del __backend_agg_display_new\n    del __backend_agg_display_orig\n    del __backend_agg_dfs\n    del __backend_agg_user_code_fn\n\n",
       "commandTitle": "Visualization 1",
       "commandType": "auto",
       "commandVersion": 0,
       "commentThread": [],
       "commentsVisible": false,
       "contentSha256Hex": null,
       "customPlotOptions": {
        "redashChart": [
         {
          "key": "type",
          "value": "CHART"
         },
         {
          "key": "options",
          "value": {
           "alignYAxesAtZero": true,
           "coefficient": 1,
           "columnConfigurationMap": {
            "series": {
             "column": "CONTENT_TYPE",
             "id": "column_3ce09d2f247"
            },
            "x": {
             "column": "CONTENT_TYPE",
             "id": "column_3ce09d2f250"
            },
            "y": [
             {
              "column": "view_count",
              "id": "column_3ce09d2f246",
              "transform": "SUM"
             }
            ]
           },
           "dateTimeFormat": "DD/MM/YYYY HH:mm",
           "direction": {
            "type": "counterclockwise"
           },
           "error_y": {
            "type": "data",
            "visible": true
           },
           "globalSeriesType": "column",
           "hideXAxis": false,
           "isAggregationOn": true,
           "legend": {
            "traceorder": "normal"
           },
           "missingValuesAsZero": true,
           "numberFormat": "0,0.[00000]",
           "percentFormat": "0[.]00%",
           "reverseX": false,
           "series": {
            "error_y": {
             "type": "data",
             "visible": true
            },
            "stacking": null
           },
           "seriesOptions": {
            "column_3ce09d2f246": {
             "name": "unique_contents",
             "type": "column",
             "yAxis": 0
            }
           },
           "showDataLabels": false,
           "sizemode": "diameter",
           "sortX": false,
           "sortY": true,
           "swappedAxes": false,
           "textFormat": "",
           "useAggregationsUi": true,
           "valuesOptions": {},
           "version": 2,
           "xAxis": {
            "labels": {
             "enabled": true
            },
            "type": "-"
           },
           "yAxis": [
            {
             "type": "-"
            },
            {
             "opposite": true,
             "type": "-"
            }
           ]
          }
         }
        ]
       },
       "datasetPreviewNameToCmdIdMap": {},
       "diffDeletes": [],
       "diffInserts": [],
       "displayType": "redashChart",
       "error": null,
       "errorDetails": null,
       "errorSummary": null,
       "errorTraceType": null,
       "finishTime": 0,
       "globalVars": {},
       "guid": "",
       "height": "auto",
       "hideCommandCode": false,
       "hideCommandResult": false,
       "iPythonMetadata": null,
       "inputWidgets": {},
       "isLockedInExamMode": false,
       "latestUser": "a user",
       "latestUserId": null,
       "listResultMetadata": null,
       "metadata": {},
       "nuid": "0587898c-8156-4ae6-986b-46c4dadfaec5",
       "origId": 0,
       "parentHierarchy": [],
       "pivotAggregation": null,
       "pivotColumns": null,
       "position": 3.0,
       "resultDbfsErrorMessage": null,
       "resultDbfsStatus": "INLINED_IN_TREE",
       "results": null,
       "showCommandTitle": false,
       "startTime": 0,
       "state": "input",
       "streamStates": {},
       "subcommandOptions": {
        "queryPlan": {
         "groups": [
          {
           "column": "CONTENT_TYPE",
           "type": "column"
          },
          {
           "column": "CONTENT_TYPE",
           "type": "column"
          }
         ],
         "selects": [
          {
           "column": "CONTENT_TYPE",
           "type": "column"
          },
          {
           "alias": "column_3ce09d2f246",
           "args": [
            {
             "column": "view_count",
             "type": "column"
            }
           ],
           "function": "SUM",
           "type": "function"
          },
          {
           "column": "CONTENT_TYPE",
           "type": "column"
          }
         ]
        }
       },
       "submitTime": 0,
       "subtype": "tableResultSubCmd.visualization",
       "tableResultIndex": 0,
       "tableResultSettingsMap": {},
       "useConsistentColors": false,
       "version": "CommandV1",
       "width": "auto",
       "workflows": [],
       "xColumns": null,
       "yColumns": null
      }
     },
     "output_type": "display_data"
    }
   ],
   "source": [
    "content_by_type = spark.sql(\"\"\"\n",
    "    SELECT \n",
    "        CONTENT_TYPE,\n",
    "        COUNT(*) as view_count,\n",
    "        COUNT(DISTINCT content_id) as unique_contents\n",
    "    FROM consumption_events_logs\n",
    "    WHERE event_name = 'ContentStarted'\n",
    "    GROUP BY CONTENT_TYPE\n",
    "    ORDER BY view_count DESC\n",
    "\"\"\")\n",
    "print(\"Content Views by Type:\")\n",
    "\n",
    "content_by_type.display()"
   ]
  },
  {
   "cell_type": "markdown",
   "metadata": {
    "application/vnd.databricks.v1+cell": {
     "cellMetadata": {},
     "inputWidgets": {},
     "nuid": "e073468c-6370-4078-8996-eb46c8a889fe",
     "showTitle": false,
     "tableResultSettingsMap": {},
     "title": ""
    }
   },
   "source": [
    "From the above dashboard, we can clearly see content_type - article has more views count. for this data \n",
    "- Articles dominates\n",
    "- Podcasts have modest absolute views but the highest views‑per‑asset, hinting at a loyal audience worth nurturing.\n",
    "- Gallery & viral‑ugc perform poorly"
   ]
  },
  {
   "cell_type": "markdown",
   "metadata": {
    "application/vnd.databricks.v1+cell": {
     "cellMetadata": {},
     "inputWidgets": {},
     "nuid": "8904d283-b652-41a6-a72a-1c13c4fe1302",
     "showTitle": false,
     "tableResultSettingsMap": {},
     "title": ""
    }
   },
   "source": [
    "###  Platform usgae analysis\n",
    "Knowing which operating system drives **ContentStarted** events helps product and ad‑tech teams prioritise feature work, SDK updates, and QA efforts.\n",
    "But in this scenerio could be real we have data only for IOS assumueably picked from ios bucket)"
   ]
  },
  {
   "cell_type": "code",
   "execution_count": 0,
   "metadata": {
    "application/vnd.databricks.v1+cell": {
     "cellMetadata": {
      "byteLimit": 2048000,
      "rowLimit": 10000
     },
     "inputWidgets": {},
     "nuid": "83fc72d5-c06c-4a91-9170-9628717b3274",
     "showTitle": false,
     "tableResultSettingsMap": {},
     "title": ""
    }
   },
   "outputs": [
    {
     "output_type": "stream",
     "name": "stdout",
     "output_type": "stream",
     "text": [
      "Content Views by Platform:\n"
     ]
    },
    {
     "output_type": "display_data",
     "data": {
      "text/plain": [
       "Databricks visualization. Run in Databricks to view."
      ]
     },
     "metadata": {
      "application/vnd.databricks.v1.subcommand+json": {
       "baseErrorDetails": null,
       "bindings": {},
       "collapsed": false,
       "command": "%python\n__backend_agg_display_orig = display\n__backend_agg_dfs = []\ndef __backend_agg_display_new(df):\n    __backend_agg_df_modules = [\"pandas.core.frame\", \"databricks.koalas.frame\", \"pyspark.sql.dataframe\", \"pyspark.pandas.frame\", \"pyspark.sql.connect.dataframe\"]\n    if (type(df).__module__ in __backend_agg_df_modules and type(df).__name__ == 'DataFrame') or isinstance(df, list):\n        __backend_agg_dfs.append(df)\n\ndisplay = __backend_agg_display_new\n\ndef __backend_agg_user_code_fn():\n    import base64\n    exec(base64.standard_b64decode(\"IzIuIFBsYXRmb3JtIHVzZ2FlIGFuYWx5c2lzCnBsYXRmb3JtX3VzYWdlID0gc3Bhcmsuc3FsKCIiIgogICAgU0VMRUNUIAogICAgICAgIGFwcF9vcywKICAgICAgICBDT1VOVCgqKSBhcyB2aWV3X2NvdW50CiAgICBGUk9NIGNvbnN1bXB0aW9uX2V2ZW50c19sb2dzCiAgICBXSEVSRSBldmVudF9uYW1lID0gJ0NvbnRlbnRTdGFydGVkJwogICAgR1JPVVAgQlkgYXBwX29zCiAgICBPUkRFUiBCWSB2aWV3X2NvdW50IERFU0MKIiIiKQpwcmludCgiQ29udGVudCBWaWV3cyBieSBQbGF0Zm9ybToiKQpwbGF0Zm9ybV91c2FnZS5kaXNwbGF5KCk=\").decode())\n\ntry:\n    # run user code\n    __backend_agg_user_code_fn()\n\n    #reset display function\n    display = __backend_agg_display_orig\n\n    if len(__backend_agg_dfs) > 0:\n        # create a temp view\n        if type(__backend_agg_dfs[0]).__module__ == \"databricks.koalas.frame\":\n            # koalas dataframe\n            __backend_agg_dfs[0].to_spark().createOrReplaceTempView(\"DatabricksViewf2f3a4a\")\n        elif type(__backend_agg_dfs[0]).__module__ == \"pandas.core.frame\" or isinstance(__backend_agg_dfs[0], list):\n            # pandas dataframe\n            spark.createDataFrame(__backend_agg_dfs[0]).createOrReplaceTempView(\"DatabricksViewf2f3a4a\")\n        else:\n            __backend_agg_dfs[0].createOrReplaceTempView(\"DatabricksViewf2f3a4a\")\n        #run backend agg\n        display(spark.sql(\"\"\"WITH q AS (select * from DatabricksViewf2f3a4a) SELECT `app_os`,SUM(`view_count`) `column_3ce09d2f253` FROM q GROUP BY `app_os`\"\"\"))\n    else:\n        displayHTML(\"dataframe no longer exists. If you're using dataframe.display(), use display(dataframe) instead.\")\n\n\nfinally:\n    spark.sql(\"drop view if exists DatabricksViewf2f3a4a\")\n    display = __backend_agg_display_orig\n    del __backend_agg_display_new\n    del __backend_agg_display_orig\n    del __backend_agg_dfs\n    del __backend_agg_user_code_fn\n\n",
       "commandTitle": "Visualization 1",
       "commandType": "auto",
       "commandVersion": 0,
       "commentThread": [],
       "commentsVisible": false,
       "contentSha256Hex": null,
       "customPlotOptions": {
        "redashChart": [
         {
          "key": "type",
          "value": "CHART"
         },
         {
          "key": "options",
          "value": {
           "alignYAxesAtZero": true,
           "coefficient": 1,
           "columnConfigurationMap": {
            "x": {
             "column": "app_os",
             "id": "column_3ce09d2f252"
            },
            "y": [
             {
              "column": "view_count",
              "id": "column_3ce09d2f253",
              "transform": "SUM"
             }
            ]
           },
           "dateTimeFormat": "DD/MM/YYYY HH:mm",
           "direction": {
            "type": "counterclockwise"
           },
           "error_y": {
            "type": "data",
            "visible": true
           },
           "globalSeriesType": "pie",
           "legend": {
            "traceorder": "normal"
           },
           "missingValuesAsZero": true,
           "numberFormat": "0,0.[00000]",
           "percentFormat": "0[.]00%",
           "series": {
            "error_y": {
             "type": "data",
             "visible": true
            },
            "stacking": null
           },
           "seriesOptions": {
            "column_3ce09d2f253": {
             "name": "view_count",
             "type": "pie",
             "yAxis": 0
            }
           },
           "showDataLabels": true,
           "sizemode": "diameter",
           "sortX": true,
           "sortY": true,
           "swappedAxes": false,
           "textFormat": "",
           "useAggregationsUi": true,
           "valuesOptions": {},
           "version": 2,
           "xAxis": {
            "labels": {
             "enabled": true
            },
            "type": "-"
           },
           "yAxis": [
            {
             "type": "-"
            },
            {
             "opposite": true,
             "type": "-"
            }
           ]
          }
         }
        ]
       },
       "datasetPreviewNameToCmdIdMap": {},
       "diffDeletes": [],
       "diffInserts": [],
       "displayType": "redashChart",
       "error": null,
       "errorDetails": null,
       "errorSummary": null,
       "errorTraceType": null,
       "finishTime": 0,
       "globalVars": {},
       "guid": "",
       "height": "auto",
       "hideCommandCode": false,
       "hideCommandResult": false,
       "iPythonMetadata": null,
       "inputWidgets": {},
       "isLockedInExamMode": false,
       "latestUser": "a user",
       "latestUserId": null,
       "listResultMetadata": null,
       "metadata": {},
       "nuid": "330ec53c-a839-48e8-b5bd-7c96d01dc408",
       "origId": 0,
       "parentHierarchy": [],
       "pivotAggregation": null,
       "pivotColumns": null,
       "position": -1.0,
       "resultDbfsErrorMessage": null,
       "resultDbfsStatus": "INLINED_IN_TREE",
       "results": null,
       "showCommandTitle": false,
       "startTime": 0,
       "state": "input",
       "streamStates": {},
       "subcommandOptions": {
        "queryPlan": {
         "groups": [
          {
           "column": "app_os",
           "type": "column"
          }
         ],
         "selects": [
          {
           "column": "app_os",
           "type": "column"
          },
          {
           "alias": "column_3ce09d2f253",
           "args": [
            {
             "column": "view_count",
             "type": "column"
            }
           ],
           "function": "SUM",
           "type": "function"
          }
         ]
        }
       },
       "submitTime": 0,
       "subtype": "tableResultSubCmd.visualization",
       "tableResultIndex": 0,
       "tableResultSettingsMap": {},
       "useConsistentColors": false,
       "version": "CommandV1",
       "width": "auto",
       "workflows": [],
       "xColumns": null,
       "yColumns": null
      }
     },
     "output_type": "display_data"
    },
    {
     "output_type": "display_data",
     "data": {
      "text/html": [
       "<style scoped>\n",
       "  .table-result-container {\n",
       "    max-height: 300px;\n",
       "    overflow: auto;\n",
       "  }\n",
       "  table, th, td {\n",
       "    border: 1px solid black;\n",
       "    border-collapse: collapse;\n",
       "  }\n",
       "  th, td {\n",
       "    padding: 5px;\n",
       "  }\n",
       "  th {\n",
       "    text-align: left;\n",
       "  }\n",
       "</style><div class='table-result-container'><table class='table-result'><thead style='background-color: white'><tr><th>app_os</th><th>view_count</th></tr></thead><tbody><tr><td>iOS</td><td>53977</td></tr></tbody></table></div>"
      ]
     },
     "metadata": {
      "application/vnd.databricks.v1+output": {
       "addedWidgets": {},
       "aggData": [],
       "aggError": "",
       "aggOverflow": false,
       "aggSchema": [],
       "aggSeriesLimitReached": false,
       "aggType": "",
       "arguments": {},
       "columnCustomDisplayInfos": {},
       "data": [
        [
         "iOS",
         53977
        ]
       ],
       "datasetInfos": [],
       "dbfsResultPath": null,
       "isJsonSchema": true,
       "metadata": {},
       "overflow": false,
       "plotOptions": {
        "customPlotOptions": {},
        "displayType": "table",
        "pivotAggregation": null,
        "pivotColumns": null,
        "xColumns": null,
        "yColumns": null
       },
       "removedWidgets": [],
       "schema": [
        {
         "metadata": "{}",
         "name": "app_os",
         "type": "\"string\""
        },
        {
         "metadata": "{}",
         "name": "view_count",
         "type": "\"long\""
        }
       ],
       "type": "table"
      }
     },
     "output_type": "display_data"
    }
   ],
   "source": [
    "\n",
    "platform_usage = spark.sql(\"\"\"\n",
    "    SELECT \n",
    "        app_os,\n",
    "        COUNT(*) as view_count\n",
    "    FROM consumption_events_logs\n",
    "    WHERE event_name = 'ContentStarted'\n",
    "    GROUP BY app_os\n",
    "    ORDER BY view_count DESC\n",
    "\"\"\")\n",
    "print(\"Content Views by Platform:\")\n",
    "platform_usage.display()"
   ]
  },
  {
   "cell_type": "markdown",
   "metadata": {
    "application/vnd.databricks.v1+cell": {
     "cellMetadata": {},
     "inputWidgets": {},
     "nuid": "65a6c6ca-5d95-4d68-a2fa-f964421ff8d1",
     "showTitle": false,
     "tableResultSettingsMap": {},
     "title": ""
    }
   },
   "source": []
  },
  {
   "cell_type": "markdown",
   "metadata": {
    "application/vnd.databricks.v1+cell": {
     "cellMetadata": {},
     "inputWidgets": {},
     "nuid": "02bd7d99-8190-4144-b746-b237ac9f501a",
     "showTitle": false,
     "tableResultSettingsMap": {},
     "title": ""
    }
   },
   "source": [
    "### When Do Users Hit Play?  — Hourly Activity Curve\n",
    "\n",
    "pinpointing the **hours with the most ContentStarted events** lets programming, social, and ad‑ops teams schedule releases and push notifications when users are most receptive."
   ]
  },
  {
   "cell_type": "code",
   "execution_count": 0,
   "metadata": {
    "application/vnd.databricks.v1+cell": {
     "cellMetadata": {
      "byteLimit": 2048000,
      "rowLimit": 10000
     },
     "inputWidgets": {},
     "nuid": "115de26f-df96-4b6f-bd9c-cb9a1e2cc8b6",
     "showTitle": false,
     "tableResultSettingsMap": {},
     "title": ""
    }
   },
   "outputs": [
    {
     "output_type": "stream",
     "name": "stdout",
     "output_type": "stream",
     "text": [
      "Content Views by Hour of Day:\n"
     ]
    },
    {
     "output_type": "display_data",
     "data": {
      "text/html": [
       "<style scoped>\n",
       "  .table-result-container {\n",
       "    max-height: 300px;\n",
       "    overflow: auto;\n",
       "  }\n",
       "  table, th, td {\n",
       "    border: 1px solid black;\n",
       "    border-collapse: collapse;\n",
       "  }\n",
       "  th, td {\n",
       "    padding: 5px;\n",
       "  }\n",
       "  th {\n",
       "    text-align: left;\n",
       "  }\n",
       "</style><div class='table-result-container'><table class='table-result'><thead style='background-color: white'><tr><th>event_hour</th><th>view_count</th></tr></thead><tbody><tr><td>7</td><td>309</td></tr><tr><td>8</td><td>470</td></tr><tr><td>6</td><td>582</td></tr><tr><td>5</td><td>699</td></tr><tr><td>9</td><td>708</td></tr><tr><td>4</td><td>1056</td></tr><tr><td>10</td><td>1394</td></tr><tr><td>11</td><td>1856</td></tr><tr><td>13</td><td>1912</td></tr><tr><td>3</td><td>1935</td></tr><tr><td>12</td><td>2018</td></tr><tr><td>14</td><td>2485</td></tr><tr><td>20</td><td>2771</td></tr><tr><td>15</td><td>2792</td></tr><tr><td>19</td><td>2914</td></tr><tr><td>18</td><td>3013</td></tr><tr><td>17</td><td>3162</td></tr><tr><td>21</td><td>3241</td></tr><tr><td>16</td><td>3257</td></tr><tr><td>2</td><td>3334</td></tr><tr><td>23</td><td>3348</td></tr><tr><td>22</td><td>3375</td></tr><tr><td>1</td><td>3638</td></tr><tr><td>0</td><td>3708</td></tr></tbody></table></div>"
      ]
     },
     "metadata": {
      "application/vnd.databricks.v1+output": {
       "addedWidgets": {},
       "aggData": [],
       "aggError": "",
       "aggOverflow": false,
       "aggSchema": [],
       "aggSeriesLimitReached": false,
       "aggType": "",
       "arguments": {},
       "columnCustomDisplayInfos": {},
       "data": [
        [
         7,
         309
        ],
        [
         8,
         470
        ],
        [
         6,
         582
        ],
        [
         5,
         699
        ],
        [
         9,
         708
        ],
        [
         4,
         1056
        ],
        [
         10,
         1394
        ],
        [
         11,
         1856
        ],
        [
         13,
         1912
        ],
        [
         3,
         1935
        ],
        [
         12,
         2018
        ],
        [
         14,
         2485
        ],
        [
         20,
         2771
        ],
        [
         15,
         2792
        ],
        [
         19,
         2914
        ],
        [
         18,
         3013
        ],
        [
         17,
         3162
        ],
        [
         21,
         3241
        ],
        [
         16,
         3257
        ],
        [
         2,
         3334
        ],
        [
         23,
         3348
        ],
        [
         22,
         3375
        ],
        [
         1,
         3638
        ],
        [
         0,
         3708
        ]
       ],
       "datasetInfos": [],
       "dbfsResultPath": null,
       "isJsonSchema": true,
       "metadata": {},
       "overflow": false,
       "plotOptions": {
        "customPlotOptions": {},
        "displayType": "table",
        "pivotAggregation": null,
        "pivotColumns": null,
        "xColumns": null,
        "yColumns": null
       },
       "removedWidgets": [],
       "schema": [
        {
         "metadata": "{}",
         "name": "event_hour",
         "type": "\"integer\""
        },
        {
         "metadata": "{}",
         "name": "view_count",
         "type": "\"long\""
        }
       ],
       "type": "table"
      }
     },
     "output_type": "display_data"
    },
    {
     "output_type": "display_data",
     "data": {
      "text/plain": [
       "Databricks visualization. Run in Databricks to view."
      ]
     },
     "metadata": {
      "application/vnd.databricks.v1.subcommand+json": {
       "baseErrorDetails": null,
       "bindings": {},
       "collapsed": false,
       "command": "%python\n__backend_agg_display_orig = display\n__backend_agg_dfs = []\ndef __backend_agg_display_new(df):\n    __backend_agg_df_modules = [\"pandas.core.frame\", \"databricks.koalas.frame\", \"pyspark.sql.dataframe\", \"pyspark.pandas.frame\", \"pyspark.sql.connect.dataframe\"]\n    if (type(df).__module__ in __backend_agg_df_modules and type(df).__name__ == 'DataFrame') or isinstance(df, list):\n        __backend_agg_dfs.append(df)\n\ndisplay = __backend_agg_display_new\n\ndef __backend_agg_user_code_fn():\n    import base64\n    exec(base64.standard_b64decode(\"IyA1LiBUZW1wb3JhbCBBbmFseXNpcwpob3VybHlfdXNhZ2UgPSBzcGFyay5zcWwoIiIiCiAgICBTRUxFQ1QgCiAgICAgICAgZXZlbnRfaG91ciwKICAgICAgICBDT1VOVCgqKSBhcyB2aWV3X2NvdW50CiAgICBGUk9NIGNvbnN1bXB0aW9uX2V2ZW50c19sb2dzCiAgICBXSEVSRSBldmVudF9uYW1lID0gJ0NvbnRlbnRTdGFydGVkJwogICAgR1JPVVAgQlkgZXZlbnRfaG91cgogICAgT1JERVIgQlkgdmlld19jb3VudAoiIiIpCnByaW50KCJDb250ZW50IFZpZXdzIGJ5IEhvdXIgb2YgRGF5OiIpCmhvdXJseV91c2FnZS5kaXNwbGF5KCk=\").decode())\n\ntry:\n    # run user code\n    __backend_agg_user_code_fn()\n\n    #reset display function\n    display = __backend_agg_display_orig\n\n    if len(__backend_agg_dfs) > 0:\n        # create a temp view\n        if type(__backend_agg_dfs[0]).__module__ == \"databricks.koalas.frame\":\n            # koalas dataframe\n            __backend_agg_dfs[0].to_spark().createOrReplaceTempView(\"DatabricksViewea42996\")\n        elif type(__backend_agg_dfs[0]).__module__ == \"pandas.core.frame\" or isinstance(__backend_agg_dfs[0], list):\n            # pandas dataframe\n            spark.createDataFrame(__backend_agg_dfs[0]).createOrReplaceTempView(\"DatabricksViewea42996\")\n        else:\n            __backend_agg_dfs[0].createOrReplaceTempView(\"DatabricksViewea42996\")\n        #run backend agg\n        display(spark.sql(\"\"\"WITH q AS (select * from DatabricksViewea42996) SELECT `event_hour`,SUM(`view_count`) `column_3ce09d2f262` FROM q GROUP BY `event_hour`\"\"\"))\n    else:\n        displayHTML(\"dataframe no longer exists. If you're using dataframe.display(), use display(dataframe) instead.\")\n\n\nfinally:\n    spark.sql(\"drop view if exists DatabricksViewea42996\")\n    display = __backend_agg_display_orig\n    del __backend_agg_display_new\n    del __backend_agg_display_orig\n    del __backend_agg_dfs\n    del __backend_agg_user_code_fn\n\n",
       "commandTitle": "Visualization 1",
       "commandType": "auto",
       "commandVersion": 0,
       "commentThread": [],
       "commentsVisible": false,
       "contentSha256Hex": null,
       "customPlotOptions": {
        "redashChart": [
         {
          "key": "type",
          "value": "CHART"
         },
         {
          "key": "options",
          "value": {
           "alignYAxesAtZero": true,
           "coefficient": 1,
           "columnConfigurationMap": {
            "x": {
             "column": "event_hour",
             "id": "column_3ce09d2f261"
            },
            "y": [
             {
              "column": "view_count",
              "id": "column_3ce09d2f262",
              "transform": "SUM"
             }
            ]
           },
           "dateTimeFormat": "DD/MM/YYYY HH:mm",
           "direction": {
            "type": "counterclockwise"
           },
           "error_y": {
            "type": "data",
            "visible": true
           },
           "globalSeriesType": "line",
           "isAggregationOn": true,
           "legend": {
            "traceorder": "normal"
           },
           "missingValuesAsZero": true,
           "numberFormat": "0,0.[00000]",
           "percentFormat": "0[.]00%",
           "series": {
            "error_y": {
             "type": "data",
             "visible": true
            },
            "stacking": null
           },
           "seriesOptions": {
            "column_3ce09d2f262": {
             "name": "view_count",
             "type": "line",
             "yAxis": 0
            }
           },
           "showDataLabels": false,
           "sizemode": "diameter",
           "sortX": true,
           "sortY": true,
           "swappedAxes": false,
           "textFormat": "",
           "useAggregationsUi": true,
           "valuesOptions": {},
           "version": 2,
           "xAxis": {
            "labels": {
             "enabled": true
            },
            "type": "-"
           },
           "yAxis": [
            {
             "type": "-"
            },
            {
             "opposite": true,
             "type": "-"
            }
           ]
          }
         }
        ]
       },
       "datasetPreviewNameToCmdIdMap": {},
       "diffDeletes": [],
       "diffInserts": [],
       "displayType": "redashChart",
       "error": null,
       "errorDetails": null,
       "errorSummary": null,
       "errorTraceType": null,
       "finishTime": 0,
       "globalVars": {},
       "guid": "",
       "height": "auto",
       "hideCommandCode": false,
       "hideCommandResult": false,
       "iPythonMetadata": null,
       "inputWidgets": {},
       "isLockedInExamMode": false,
       "latestUser": "a user",
       "latestUserId": null,
       "listResultMetadata": null,
       "metadata": {},
       "nuid": "8a16f360-bce8-4e29-8f14-80c193bdcdeb",
       "origId": 0,
       "parentHierarchy": [],
       "pivotAggregation": null,
       "pivotColumns": null,
       "position": 4.5,
       "resultDbfsErrorMessage": null,
       "resultDbfsStatus": "INLINED_IN_TREE",
       "results": null,
       "showCommandTitle": false,
       "startTime": 0,
       "state": "input",
       "streamStates": {},
       "subcommandOptions": {
        "queryPlan": {
         "groups": [
          {
           "column": "event_hour",
           "type": "column"
          }
         ],
         "selects": [
          {
           "column": "event_hour",
           "type": "column"
          },
          {
           "alias": "column_3ce09d2f262",
           "args": [
            {
             "column": "view_count",
             "type": "column"
            }
           ],
           "function": "SUM",
           "type": "function"
          }
         ]
        }
       },
       "submitTime": 0,
       "subtype": "tableResultSubCmd.visualization",
       "tableResultIndex": 0,
       "tableResultSettingsMap": {},
       "useConsistentColors": false,
       "version": "CommandV1",
       "width": "auto",
       "workflows": [],
       "xColumns": null,
       "yColumns": null
      }
     },
     "output_type": "display_data"
    }
   ],
   "source": [
    "\n",
    "hourly_usage = spark.sql(\"\"\"\n",
    "    SELECT \n",
    "        event_hour,\n",
    "        COUNT(*) as view_count\n",
    "    FROM consumption_events_logs\n",
    "    WHERE event_name = 'ContentStarted'\n",
    "    GROUP BY event_hour\n",
    "    ORDER BY view_count\n",
    "\"\"\")\n",
    "print(\"Content Views by Hour of Day:\")\n",
    "hourly_usage.display()"
   ]
  },
  {
   "cell_type": "markdown",
   "metadata": {
    "application/vnd.databricks.v1+cell": {
     "cellMetadata": {},
     "inputWidgets": {},
     "nuid": "0f85b9f7-6491-47d5-8577-bcd592997b95",
     "showTitle": false,
     "tableResultSettingsMap": {},
     "title": ""
    }
   },
   "source": [
    " UTC Hour | View Count (≈) | EDT (UTC‑4) | Likely Behaviour |\n",
    "|---------:|---------------:|------------:|------------------|\n",
    "| **00‑02** | 3.6 k–3.4 k    | 8‑10 PM    | Prime‑time browse(post‑dinner sports recaps, live‑stream replays) |\n",
    "| 03‑08     | < 1 k          | 11 PM‑4 AM | Overnight; most U.S. users offline |\n",
    "| 09‑10     | 0.7 k–1.4 k    | 5‑6 AM     | Early risers|\n",
    "| 11‑13     | 1.7 k–2.0 k    | 7‑9 AM     | Morning catch‑up, quick reads before work |\n",
    "| **14‑18** | 2.5 k–3.2 k    | 10 AM‑2 PM | Lunch‑hour surge; good for short‑form or podcasts |\n",
    "| 19‑23     | 2.8 k–3.4 k    | 3‑7 PM     | Second incline heading into East‑Coast evening |"
   ]
  },
  {
   "cell_type": "markdown",
   "metadata": {
    "application/vnd.databricks.v1+cell": {
     "cellMetadata": {},
     "inputWidgets": {},
     "nuid": "5d65b750-a787-4473-b87e-96f8a4326922",
     "showTitle": false,
     "tableResultSettingsMap": {},
     "title": ""
    }
   },
   "source": []
  },
  {
   "cell_type": "markdown",
   "metadata": {
    "application/vnd.databricks.v1+cell": {
     "cellMetadata": {},
     "inputWidgets": {},
     "nuid": "4394b541-b96d-4acb-988f-44b1fba573fc",
     "showTitle": false,
     "tableResultSettingsMap": {},
     "title": ""
    }
   },
   "source": [
    "### Daily Active Users (DAU)\n",
    "ContentStarted = “real engagement”, not passive page views.\n",
    "\n"
   ]
  },
  {
   "cell_type": "code",
   "execution_count": 0,
   "metadata": {
    "application/vnd.databricks.v1+cell": {
     "cellMetadata": {
      "byteLimit": 2048000,
      "rowLimit": 10000
     },
     "inputWidgets": {},
     "nuid": "5a7b2b0e-a99c-43fd-bf60-c761326588aa",
     "showTitle": false,
     "tableResultSettingsMap": {},
     "title": ""
    }
   },
   "outputs": [
    {
     "output_type": "display_data",
     "data": {
      "text/html": [
       "<style scoped>\n",
       "  .table-result-container {\n",
       "    max-height: 300px;\n",
       "    overflow: auto;\n",
       "  }\n",
       "  table, th, td {\n",
       "    border: 1px solid black;\n",
       "    border-collapse: collapse;\n",
       "  }\n",
       "  th, td {\n",
       "    padding: 5px;\n",
       "  }\n",
       "  th {\n",
       "    text-align: left;\n",
       "  }\n",
       "</style><div class='table-result-container'><table class='table-result'><thead style='background-color: white'><tr><th>event_date</th><th>dau</th></tr></thead><tbody><tr><td>2025-05-05</td><td>15843</td></tr><tr><td>2025-05-06</td><td>7535</td></tr></tbody></table></div>"
      ]
     },
     "metadata": {
      "application/vnd.databricks.v1+output": {
       "addedWidgets": {},
       "aggData": [],
       "aggError": "",
       "aggOverflow": false,
       "aggSchema": [],
       "aggSeriesLimitReached": false,
       "aggType": "",
       "arguments": {},
       "columnCustomDisplayInfos": {},
       "data": [
        [
         "2025-05-05",
         15843
        ],
        [
         "2025-05-06",
         7535
        ]
       ],
       "datasetInfos": [],
       "dbfsResultPath": null,
       "isJsonSchema": true,
       "metadata": {},
       "overflow": false,
       "plotOptions": {
        "customPlotOptions": {},
        "displayType": "table",
        "pivotAggregation": null,
        "pivotColumns": null,
        "xColumns": null,
        "yColumns": null
       },
       "removedWidgets": [],
       "schema": [
        {
         "metadata": "{}",
         "name": "event_date",
         "type": "\"date\""
        },
        {
         "metadata": "{}",
         "name": "dau",
         "type": "\"long\""
        }
       ],
       "type": "table"
      }
     },
     "output_type": "display_data"
    },
    {
     "output_type": "display_data",
     "data": {
      "text/plain": [
       "Databricks visualization. Run in Databricks to view."
      ]
     },
     "metadata": {
      "application/vnd.databricks.v1.subcommand+json": {
       "baseErrorDetails": null,
       "bindings": {},
       "collapsed": false,
       "command": "%python\n__backend_agg_display_orig = display\n__backend_agg_dfs = []\ndef __backend_agg_display_new(df):\n    __backend_agg_df_modules = [\"pandas.core.frame\", \"databricks.koalas.frame\", \"pyspark.sql.dataframe\", \"pyspark.pandas.frame\", \"pyspark.sql.connect.dataframe\"]\n    if (type(df).__module__ in __backend_agg_df_modules and type(df).__name__ == 'DataFrame') or isinstance(df, list):\n        __backend_agg_dfs.append(df)\n\ndisplay = __backend_agg_display_new\n\ndef __backend_agg_user_code_fn():\n    import base64\n    exec(base64.standard_b64decode(\"ZGlhbHlfYWN0aXZlX3VzZXJzID0gc3Bhcmsuc3FsKCIiIgpTRUxFQ1QKICAgIGV2ZW50X2RhdGUsCiAgICBDT1VOVChESVNUSU5DVCBhbm9uX2lkKSBBUyBkYXUKRlJPTSBjb25zdW1wdGlvbl9ldmVudHNfbG9ncwpXSEVSRSBldmVudF9uYW1lID0gJ0NvbnRlbnRTdGFydGVkJwpHUk9VUCBCWSBldmVudF9kYXRlCk9SREVSIEJZIGV2ZW50X2RhdGU7IiIiCikKZGlhbHlfYWN0aXZlX3VzZXJzLmRpc3BsYXkoKQ==\").decode())\n\ntry:\n    # run user code\n    __backend_agg_user_code_fn()\n\n    #reset display function\n    display = __backend_agg_display_orig\n\n    if len(__backend_agg_dfs) > 0:\n        # create a temp view\n        if type(__backend_agg_dfs[0]).__module__ == \"databricks.koalas.frame\":\n            # koalas dataframe\n            __backend_agg_dfs[0].to_spark().createOrReplaceTempView(\"DatabricksView4d744df\")\n        elif type(__backend_agg_dfs[0]).__module__ == \"pandas.core.frame\" or isinstance(__backend_agg_dfs[0], list):\n            # pandas dataframe\n            spark.createDataFrame(__backend_agg_dfs[0]).createOrReplaceTempView(\"DatabricksView4d744df\")\n        else:\n            __backend_agg_dfs[0].createOrReplaceTempView(\"DatabricksView4d744df\")\n        #run backend agg\n        display(spark.sql(\"\"\"WITH q AS (select * from DatabricksView4d744df) SELECT DATE_TRUNC('DAY',`event_date`) `column_3ce09d2f270`,SUM(`dau`) `column_3ce09d2f265` FROM q GROUP BY `column_3ce09d2f270`\"\"\"))\n    else:\n        displayHTML(\"dataframe no longer exists. If you're using dataframe.display(), use display(dataframe) instead.\")\n\n\nfinally:\n    spark.sql(\"drop view if exists DatabricksView4d744df\")\n    display = __backend_agg_display_orig\n    del __backend_agg_display_new\n    del __backend_agg_display_orig\n    del __backend_agg_dfs\n    del __backend_agg_user_code_fn\n\n",
       "commandTitle": "Visualization 1",
       "commandType": "auto",
       "commandVersion": 0,
       "commentThread": [],
       "commentsVisible": false,
       "contentSha256Hex": null,
       "customPlotOptions": {
        "redashChart": [
         {
          "key": "type",
          "value": "CHART"
         },
         {
          "key": "options",
          "value": {
           "alignYAxesAtZero": true,
           "coefficient": 1,
           "columnConfigurationMap": {
            "x": {
             "column": "event_date",
             "id": "column_3ce09d2f274",
             "transform": "DAY_LEVEL"
            },
            "y": [
             {
              "column": "dau",
              "id": "column_3ce09d2f265",
              "transform": "SUM"
             }
            ]
           },
           "dateTimeFormat": "DD/MM/YYYY HH:mm",
           "direction": {
            "type": "counterclockwise"
           },
           "error_y": {
            "type": "data",
            "visible": true
           },
           "globalSeriesType": "column",
           "isAggregationOn": true,
           "legend": {
            "traceorder": "normal"
           },
           "missingValuesAsZero": true,
           "numberFormat": "0,0.[00000]",
           "percentFormat": "0[.]00%",
           "series": {
            "error_y": {
             "type": "data",
             "visible": true
            },
            "stacking": null
           },
           "seriesOptions": {
            "column_3ce09d2f265": {
             "name": "dau",
             "type": "column",
             "yAxis": 0
            }
           },
           "showDataLabels": false,
           "sizemode": "diameter",
           "sortX": true,
           "sortY": true,
           "swappedAxes": false,
           "textFormat": "",
           "useAggregationsUi": true,
           "valuesOptions": {},
           "version": 2,
           "xAxis": {
            "labels": {
             "enabled": true
            },
            "type": "-"
           },
           "yAxis": [
            {
             "type": "-"
            },
            {
             "opposite": true,
             "type": "-"
            }
           ]
          }
         }
        ]
       },
       "datasetPreviewNameToCmdIdMap": {},
       "diffDeletes": [],
       "diffInserts": [],
       "displayType": "redashChart",
       "error": null,
       "errorDetails": null,
       "errorSummary": null,
       "errorTraceType": null,
       "finishTime": 0,
       "globalVars": {},
       "guid": "",
       "height": "auto",
       "hideCommandCode": false,
       "hideCommandResult": false,
       "iPythonMetadata": null,
       "inputWidgets": {},
       "isLockedInExamMode": false,
       "latestUser": "a user",
       "latestUserId": null,
       "listResultMetadata": null,
       "metadata": {},
       "nuid": "404a7a40-b4d2-4f09-8d54-12a9581b9747",
       "origId": 0,
       "parentHierarchy": [],
       "pivotAggregation": null,
       "pivotColumns": null,
       "position": 6.0,
       "resultDbfsErrorMessage": null,
       "resultDbfsStatus": "INLINED_IN_TREE",
       "results": null,
       "showCommandTitle": false,
       "startTime": 0,
       "state": "input",
       "streamStates": {},
       "subcommandOptions": {
        "queryPlan": {
         "groups": [
          {
           "column": "column_3ce09d2f274",
           "type": "column"
          }
         ],
         "selects": [
          {
           "alias": "column_3ce09d2f274",
           "args": [
            {
             "column": "event_date",
             "type": "column"
            },
            {
             "string": "DAY",
             "type": "string"
            }
           ],
           "function": "DATE_TRUNC",
           "type": "function"
          },
          {
           "alias": "column_3ce09d2f265",
           "args": [
            {
             "column": "dau",
             "type": "column"
            }
           ],
           "function": "SUM",
           "type": "function"
          }
         ]
        }
       },
       "submitTime": 0,
       "subtype": "tableResultSubCmd.visualization",
       "tableResultIndex": 0,
       "tableResultSettingsMap": {},
       "useConsistentColors": false,
       "version": "CommandV1",
       "width": "auto",
       "workflows": [],
       "xColumns": null,
       "yColumns": null
      }
     },
     "output_type": "display_data"
    }
   ],
   "source": [
    "\n",
    "#Dialy active users\n",
    "dialy_active_users = spark.sql(\"\"\"\n",
    "SELECT\n",
    "    event_date,\n",
    "    COUNT(DISTINCT anon_id) AS dau\n",
    "FROM consumption_events_logs\n",
    "WHERE event_name = 'ContentStarted'\n",
    "GROUP BY event_date\n",
    "ORDER BY event_date;\"\"\"\n",
    ")\n",
    "dialy_active_users.display()"
   ]
  },
  {
   "cell_type": "markdown",
   "metadata": {
    "application/vnd.databricks.v1+cell": {
     "cellMetadata": {},
     "inputWidgets": {},
     "nuid": "672ddebc-e5a7-4c85-a633-894479d60960",
     "showTitle": false,
     "tableResultSettingsMap": {},
     "title": ""
    }
   },
   "source": [
    "- One‑day drop of ~9 k users. \n",
    "- Weekend vs. weekday effect (May 4 was a Sunday).\n",
    "- Partial data extracted\n",
    "- Live event on the 4th boosting traffic.\n"
   ]
  },
  {
   "cell_type": "markdown",
   "metadata": {
    "application/vnd.databricks.v1+cell": {
     "cellMetadata": {},
     "inputWidgets": {},
     "nuid": "c86e6599-c1b8-4cc1-a2a3-eb964d7c2e80",
     "showTitle": false,
     "tableResultSettingsMap": {},
     "title": ""
    }
   },
   "source": [
    "### Leaderboard of engagement \n",
    "- **Shows which articles/videos accumulated the most watch time, not just clicks.**\n",
    "- **Helps editorial decide whether long‑form pieces (higher minutes) outperform quick hits.**"
   ]
  },
  {
   "cell_type": "code",
   "execution_count": 0,
   "metadata": {
    "application/vnd.databricks.v1+cell": {
     "cellMetadata": {
      "byteLimit": 2048000,
      "rowLimit": 10000
     },
     "inputWidgets": {},
     "nuid": "c1131b95-72e2-4fe8-90b0-d9a9f0dbc5c3",
     "showTitle": false,
     "tableResultSettingsMap": {
      "0": {
       "dataGridStateBlob": null,
       "filterBlob": "{\"filterGroups\":[],\"syncTimestamp\":1747852246058}",
       "queryPlanFiltersBlob": null,
       "tableResultIndex": 0
      }
     },
     "title": ""
    }
   },
   "outputs": [
    {
     "output_type": "display_data",
     "data": {
      "text/html": [
       "<style scoped>\n",
       "  .table-result-container {\n",
       "    max-height: 300px;\n",
       "    overflow: auto;\n",
       "  }\n",
       "  table, th, td {\n",
       "    border: 1px solid black;\n",
       "    border-collapse: collapse;\n",
       "  }\n",
       "  th, td {\n",
       "    padding: 5px;\n",
       "  }\n",
       "  th {\n",
       "    text-align: left;\n",
       "  }\n",
       "</style><div class='table-result-container'><table class='table-result'><thead style='background-color: white'><tr><th>content_id</th><th>content_title</th><th>content_type</th><th>minutes_watched</th></tr></thead><tbody><tr><td>podcast-episode-4CBIqI133ODlkCEOYTImDINc</td><td>Ryan Whitney Talking Stanley Cup Playoffs, Warriors And Nuggets Advance, Kentucky Derby + Jordon Update Of The Week</td><td>podcast-episode</td><td>85770.3</td></tr><tr><td>podcast-episode-DaU6Srr0unkS95JyvNtXr9Pd</td><td>Spittin’ Chiclets Episode 560: Featuring Bob Stauffer & Gary Lawless</td><td>podcast-episode</td><td>21008.5</td></tr><tr><td>podcast-episode-Tiu474zZunXBfkpXsKuxoarf</td><td>An In-Depth Look Into the Delco Pooper with Mike Rainey | The Yak 5-5-25</td><td>podcast-episode</td><td>19107.3</td></tr><tr><td>podcast-episode-WQAAHuTzh9hnELvH6eg2HQ6J</td><td>Kate Reveals Her List of Things That Are Back After Her Girls Trip to Mexico | The Yak 4-28-25</td><td>podcast-episode</td><td>10815.2</td></tr><tr><td>podcast-episode-Q09J1OVwGKZm9NBpJdTaPpfs</td><td>Big Cat Signs Off on Barstool Australia | Drop A Pin Ep. 30</td><td>podcast-episode</td><td>8384.7</td></tr><tr><td>podcast-episode-PP465qAuWXo8nBKDdMNWF61l</td><td>Randy Moss Talking Kentucky Derby, Joakim Noah In Studio, The Lakers Go Out Sad, Jalen Brunson Ends The Pistons, Hockey Playoffs + Fyre Fest of The Week</td><td>podcast-episode</td><td>7614.5</td></tr><tr><td>podcast-episode-RlEevPYcJRUQH99nuq4wg4Xh</td><td>NFL Draft With Peter Schrager, Stavros Halkias In Studio, NFL Draft Recap, Mel Kiper's meltdown, NBA/NHL Playoffs And Bill Belichick Might Be In A Conservatorship</td><td>podcast-episode</td><td>6606.5</td></tr><tr><td>podcast-episode-lbrea5VqH8xit03X0GBddVgl</td><td>Dave Portnoy Announces Golf Creator Tournament \"The Internet Invitational\" | The Unnamed Show - Episode 56</td><td>podcast-episode</td><td>4171.5</td></tr><tr><td>vod-s9lJrF4ZopfXNXTybhC1ADIT</td><td>Dave and Meek Preview The Bet Gala - Barstool Rundown - May 5th, 2025</td><td>vod</td><td>3449.5</td></tr><tr><td>podcast-episode-PkpjSCuXZNhlHuNltHnAb0sy</td><td>Dave Portnoy and Meek Phil Preview The Bet Gala - May 5th, 2025</td><td>podcast-episode</td><td>2483.8</td></tr></tbody></table></div>"
      ]
     },
     "metadata": {
      "application/vnd.databricks.v1+output": {
       "addedWidgets": {},
       "aggData": [],
       "aggError": "",
       "aggOverflow": false,
       "aggSchema": [],
       "aggSeriesLimitReached": false,
       "aggType": "",
       "arguments": {},
       "columnCustomDisplayInfos": {},
       "data": [
        [
         "podcast-episode-4CBIqI133ODlkCEOYTImDINc",
         "Ryan Whitney Talking Stanley Cup Playoffs, Warriors And Nuggets Advance, Kentucky Derby + Jordon Update Of The Week",
         "podcast-episode",
         85770.3
        ],
        [
         "podcast-episode-DaU6Srr0unkS95JyvNtXr9Pd",
         "Spittin’ Chiclets Episode 560: Featuring Bob Stauffer & Gary Lawless",
         "podcast-episode",
         21008.5
        ],
        [
         "podcast-episode-Tiu474zZunXBfkpXsKuxoarf",
         "An In-Depth Look Into the Delco Pooper with Mike Rainey | The Yak 5-5-25",
         "podcast-episode",
         19107.3
        ],
        [
         "podcast-episode-WQAAHuTzh9hnELvH6eg2HQ6J",
         "Kate Reveals Her List of Things That Are Back After Her Girls Trip to Mexico | The Yak 4-28-25",
         "podcast-episode",
         10815.2
        ],
        [
         "podcast-episode-Q09J1OVwGKZm9NBpJdTaPpfs",
         "Big Cat Signs Off on Barstool Australia | Drop A Pin Ep. 30",
         "podcast-episode",
         8384.7
        ],
        [
         "podcast-episode-PP465qAuWXo8nBKDdMNWF61l",
         "Randy Moss Talking Kentucky Derby, Joakim Noah In Studio, The Lakers Go Out Sad, Jalen Brunson Ends The Pistons, Hockey Playoffs + Fyre Fest of The Week",
         "podcast-episode",
         7614.5
        ],
        [
         "podcast-episode-RlEevPYcJRUQH99nuq4wg4Xh",
         "NFL Draft With Peter Schrager, Stavros Halkias In Studio, NFL Draft Recap, Mel Kiper's meltdown, NBA/NHL Playoffs And Bill Belichick Might Be In A Conservatorship",
         "podcast-episode",
         6606.5
        ],
        [
         "podcast-episode-lbrea5VqH8xit03X0GBddVgl",
         "Dave Portnoy Announces Golf Creator Tournament \"The Internet Invitational\" | The Unnamed Show - Episode 56",
         "podcast-episode",
         4171.5
        ],
        [
         "vod-s9lJrF4ZopfXNXTybhC1ADIT",
         "Dave and Meek Preview The Bet Gala - Barstool Rundown - May 5th, 2025",
         "vod",
         3449.5
        ],
        [
         "podcast-episode-PkpjSCuXZNhlHuNltHnAb0sy",
         "Dave Portnoy and Meek Phil Preview The Bet Gala - May 5th, 2025",
         "podcast-episode",
         2483.8
        ]
       ],
       "datasetInfos": [],
       "dbfsResultPath": null,
       "isJsonSchema": true,
       "metadata": {},
       "overflow": false,
       "plotOptions": {
        "customPlotOptions": {},
        "displayType": "table",
        "pivotAggregation": null,
        "pivotColumns": null,
        "xColumns": null,
        "yColumns": null
       },
       "removedWidgets": [],
       "schema": [
        {
         "metadata": "{}",
         "name": "content_id",
         "type": "\"string\""
        },
        {
         "metadata": "{}",
         "name": "content_title",
         "type": "\"string\""
        },
        {
         "metadata": "{}",
         "name": "content_type",
         "type": "\"string\""
        },
        {
         "metadata": "{}",
         "name": "minutes_watched",
         "type": "\"double\""
        }
       ],
       "type": "table"
      }
     },
     "output_type": "display_data"
    },
    {
     "output_type": "display_data",
     "data": {
      "text/plain": [
       "Databricks visualization. Run in Databricks to view."
      ]
     },
     "metadata": {
      "application/vnd.databricks.v1.subcommand+json": {
       "baseErrorDetails": null,
       "bindings": {},
       "collapsed": false,
       "command": "#/* Top 20 by watch‑time */\nspark.sql(\"\"\"\nSELECT\n    content_id,\n    FIRST(content_title)          AS content_title,   -- safe because grouped\n    FIRST(content_type)           AS content_type,\n    ROUND(SUM(duration_sec)/60,1) AS minutes_watched\nFROM consumption_events_logs\nWHERE event_name = 'ContentStarted'        -- use Completed for true duration\nGROUP BY content_id\nORDER BY minutes_watched DESC\nLIMIT 20;\"\"\").display()\n\n",
       "commandTitle": "Visualization 1",
       "commandType": "auto",
       "commandVersion": 0,
       "commentThread": [],
       "commentsVisible": false,
       "contentSha256Hex": null,
       "customPlotOptions": {
        "redashChart": [
         {
          "key": "type",
          "value": "CHART"
         },
         {
          "key": "options",
          "value": {
           "alignYAxesAtZero": true,
           "coefficient": 1,
           "columnConfigurationMap": {
            "x": {
             "column": "content_title",
             "id": "column_a73befff40"
            },
            "y": [
             {
              "column": "minutes_watched",
              "id": "column_3ce09d2f422",
              "transform": "SUM"
             }
            ]
           },
           "dateTimeFormat": "DD/MM/YYYY HH:mm",
           "direction": {
            "type": "counterclockwise"
           },
           "error_y": {
            "type": "data",
            "visible": true
           },
           "globalSeriesType": "column",
           "isAggregationOn": true,
           "legend": {
            "traceorder": "normal"
           },
           "missingValuesAsZero": true,
           "numberFormat": "0,0.[00000]",
           "percentFormat": "0[.]00%",
           "series": {
            "error_y": {
             "type": "data",
             "visible": true
            },
            "stacking": null
           },
           "seriesOptions": {
            "column_3ce09d2f422": {
             "type": "column",
             "yAxis": 0
            },
            "minutes_watched": {
             "type": "column",
             "yAxis": 0
            }
           },
           "showDataLabels": false,
           "sizemode": "diameter",
           "sortX": true,
           "sortY": true,
           "swappedAxes": false,
           "textFormat": "",
           "useAggregationsUi": true,
           "valuesOptions": {},
           "version": 2,
           "xAxis": {
            "labels": {
             "enabled": true
            },
            "type": "-"
           },
           "yAxis": [
            {
             "type": "-"
            },
            {
             "opposite": true,
             "type": "-"
            }
           ]
          }
         }
        ]
       },
       "datasetPreviewNameToCmdIdMap": {},
       "diffDeletes": [],
       "diffInserts": [],
       "displayType": "redashChart",
       "error": null,
       "errorDetails": null,
       "errorSummary": null,
       "errorTraceType": null,
       "finishTime": 0,
       "globalVars": {},
       "guid": "",
       "height": "auto",
       "hideCommandCode": false,
       "hideCommandResult": false,
       "iPythonMetadata": null,
       "inputWidgets": {},
       "isLockedInExamMode": false,
       "latestUser": "a user",
       "latestUserId": null,
       "listResultMetadata": null,
       "metadata": {},
       "nuid": "7258e682-8d4e-4f75-a59c-cba98b5350d6",
       "origId": 0,
       "parentHierarchy": [],
       "pivotAggregation": null,
       "pivotColumns": null,
       "position": 8.0,
       "resultDbfsErrorMessage": null,
       "resultDbfsStatus": "INLINED_IN_TREE",
       "results": null,
       "showCommandTitle": false,
       "startTime": 0,
       "state": "input",
       "streamStates": {},
       "subcommandOptions": {
        "queryPlan": {
         "groups": [
          {
           "column": "content_title",
           "type": "column"
          }
         ],
         "selects": [
          {
           "column": "content_title",
           "type": "column"
          },
          {
           "alias": "column_3ce09d2f422",
           "args": [
            {
             "column": "minutes_watched",
             "type": "column"
            }
           ],
           "function": "SUM",
           "type": "function"
          }
         ]
        }
       },
       "submitTime": 0,
       "subtype": "tableResultSubCmd.visualization",
       "tableResultIndex": 0,
       "tableResultSettingsMap": {},
       "useConsistentColors": false,
       "version": "CommandV1",
       "width": "auto",
       "workflows": [],
       "xColumns": null,
       "yColumns": null
      }
     },
     "output_type": "display_data"
    }
   ],
   "source": [
    "spark.sql(\"\"\"\n",
    "SELECT\n",
    "    content_id,\n",
    "    FIRST(content_title)          AS content_title,   \n",
    "    FIRST(content_type)           AS content_type,\n",
    "    ROUND(SUM(duration_sec)/60,1) AS minutes_watched\n",
    "FROM consumption_events_logs\n",
    "WHERE event_name = 'ContentStarted'        \n",
    "GROUP BY content_id\n",
    "ORDER BY minutes_watched DESC\n",
    "LIMIT 10;\"\"\").display()\n",
    "\n"
   ]
  },
  {
   "cell_type": "markdown",
   "metadata": {
    "application/vnd.databricks.v1+cell": {
     "cellMetadata": {},
     "inputWidgets": {},
     "nuid": "61d8b88c-e408-48a5-9a60-1f77944522ed",
     "showTitle": false,
     "tableResultSettingsMap": {},
     "title": ""
    }
   },
   "source": [
    "###  Dialy Active Users by Country (all‑time sample)\n",
    "- U.S. dominates the current sample; Canada is a distant second."
   ]
  },
  {
   "cell_type": "code",
   "execution_count": 0,
   "metadata": {
    "application/vnd.databricks.v1+cell": {
     "cellMetadata": {
      "byteLimit": 2048000,
      "implicitDf": true,
      "rowLimit": 10000
     },
     "inputWidgets": {},
     "nuid": "dbdc705e-4b68-44b3-9390-be0368a6d93b",
     "showTitle": false,
     "tableResultSettingsMap": {},
     "title": ""
    }
   },
   "outputs": [
    {
     "output_type": "display_data",
     "data": {
      "text/html": [
       "<style scoped>\n",
       "  .table-result-container {\n",
       "    max-height: 300px;\n",
       "    overflow: auto;\n",
       "  }\n",
       "  table, th, td {\n",
       "    border: 1px solid black;\n",
       "    border-collapse: collapse;\n",
       "  }\n",
       "  th, td {\n",
       "    padding: 5px;\n",
       "  }\n",
       "  th {\n",
       "    text-align: left;\n",
       "  }\n",
       "</style><div class='table-result-container'><table class='table-result'><thead style='background-color: white'><tr><th>country</th><th>users</th></tr></thead><tbody><tr><td>USA</td><td>25537</td></tr><tr><td>CAN</td><td>367</td></tr><tr><td>GBR</td><td>49</td></tr><tr><td>MEX</td><td>17</td></tr><tr><td>DEU</td><td>14</td></tr><tr><td>AUS</td><td>13</td></tr><tr><td>ESP</td><td>9</td></tr><tr><td>ITA</td><td>8</td></tr><tr><td>NLD</td><td>7</td></tr><tr><td>PRI</td><td>7</td></tr><tr><td>HKG</td><td>7</td></tr><tr><td>DOM</td><td>6</td></tr><tr><td>IRL</td><td>6</td></tr><tr><td>PRT</td><td>5</td></tr><tr><td>CHE</td><td>5</td></tr><tr><td>ABW</td><td>4</td></tr><tr><td>SGP</td><td>4</td></tr><tr><td>FRA</td><td>3</td></tr><tr><td>CRI</td><td>3</td></tr><tr><td>NZL</td><td>3</td></tr><tr><td>KOR</td><td>3</td></tr><tr><td>ISR</td><td>3</td></tr><tr><td>SWE</td><td>3</td></tr><tr><td>JPN</td><td>3</td></tr><tr><td>CZE</td><td>3</td></tr><tr><td>TCA</td><td>2</td></tr><tr><td>ALB</td><td>2</td></tr><tr><td>AUT</td><td>2</td></tr><tr><td>COL</td><td>2</td></tr><tr><td>AIA</td><td>2</td></tr><tr><td>DNK</td><td>2</td></tr><tr><td>CHN</td><td>2</td></tr><tr><td>BRA</td><td>1</td></tr><tr><td>ATG</td><td>1</td></tr><tr><td>GTM</td><td>1</td></tr><tr><td>ARE</td><td>1</td></tr><tr><td>NPL</td><td>1</td></tr><tr><td>MAF</td><td>1</td></tr><tr><td>THA</td><td>1</td></tr><tr><td>FIN</td><td>1</td></tr><tr><td>PER</td><td>1</td></tr><tr><td>MAR</td><td>1</td></tr><tr><td>ROU</td><td>1</td></tr><tr><td>KEN</td><td>1</td></tr><tr><td>ECU</td><td>1</td></tr><tr><td>GRC</td><td>1</td></tr><tr><td>BEL</td><td>1</td></tr><tr><td>IDN</td><td>1</td></tr><tr><td>PHL</td><td>1</td></tr></tbody></table></div>"
      ]
     },
     "metadata": {
      "application/vnd.databricks.v1+output": {
       "addedWidgets": {},
       "aggData": [],
       "aggError": "",
       "aggOverflow": false,
       "aggSchema": [],
       "aggSeriesLimitReached": false,
       "aggType": "",
       "arguments": {},
       "columnCustomDisplayInfos": {},
       "data": [
        [
         "USA",
         25537
        ],
        [
         "CAN",
         367
        ],
        [
         "GBR",
         49
        ],
        [
         "MEX",
         17
        ],
        [
         "DEU",
         14
        ],
        [
         "AUS",
         13
        ],
        [
         "ESP",
         9
        ],
        [
         "ITA",
         8
        ],
        [
         "NLD",
         7
        ],
        [
         "PRI",
         7
        ],
        [
         "HKG",
         7
        ],
        [
         "DOM",
         6
        ],
        [
         "IRL",
         6
        ],
        [
         "PRT",
         5
        ],
        [
         "CHE",
         5
        ],
        [
         "ABW",
         4
        ],
        [
         "SGP",
         4
        ],
        [
         "FRA",
         3
        ],
        [
         "CRI",
         3
        ],
        [
         "NZL",
         3
        ],
        [
         "KOR",
         3
        ],
        [
         "ISR",
         3
        ],
        [
         "SWE",
         3
        ],
        [
         "JPN",
         3
        ],
        [
         "CZE",
         3
        ],
        [
         "TCA",
         2
        ],
        [
         "ALB",
         2
        ],
        [
         "AUT",
         2
        ],
        [
         "COL",
         2
        ],
        [
         "AIA",
         2
        ],
        [
         "DNK",
         2
        ],
        [
         "CHN",
         2
        ],
        [
         "BRA",
         1
        ],
        [
         "ATG",
         1
        ],
        [
         "GTM",
         1
        ],
        [
         "ARE",
         1
        ],
        [
         "NPL",
         1
        ],
        [
         "MAF",
         1
        ],
        [
         "THA",
         1
        ],
        [
         "FIN",
         1
        ],
        [
         "PER",
         1
        ],
        [
         "MAR",
         1
        ],
        [
         "ROU",
         1
        ],
        [
         "KEN",
         1
        ],
        [
         "ECU",
         1
        ],
        [
         "GRC",
         1
        ],
        [
         "BEL",
         1
        ],
        [
         "IDN",
         1
        ],
        [
         "PHL",
         1
        ]
       ],
       "datasetInfos": [],
       "dbfsResultPath": null,
       "isJsonSchema": true,
       "metadata": {},
       "overflow": false,
       "plotOptions": {
        "customPlotOptions": {},
        "displayType": "table",
        "pivotAggregation": null,
        "pivotColumns": null,
        "xColumns": null,
        "yColumns": null
       },
       "removedWidgets": [],
       "schema": [
        {
         "metadata": "{}",
         "name": "country",
         "type": "\"string\""
        },
        {
         "metadata": "{}",
         "name": "users",
         "type": "\"long\""
        }
       ],
       "type": "table"
      }
     },
     "output_type": "display_data"
    },
    {
     "output_type": "display_data",
     "data": {
      "text/plain": [
       "Databricks visualization. Run in Databricks to view."
      ]
     },
     "metadata": {
      "application/vnd.databricks.v1.subcommand+json": {
       "baseErrorDetails": null,
       "bindings": {},
       "collapsed": false,
       "command": "%sql WITH q AS (SELECT\n    geo_country_code        AS country,\n    COUNT(DISTINCT anon_id) AS users\nFROM consumption_events_logs\nGROUP BY geo_country_code\nORDER BY users DESC) SELECT `country`,SUM(`users`) `column_3ce09d2f431` FROM q GROUP BY `country`",
       "commandTitle": "Visualization 1",
       "commandType": "auto",
       "commandVersion": 0,
       "commentThread": [],
       "commentsVisible": false,
       "contentSha256Hex": null,
       "customPlotOptions": {
        "redashChart": [
         {
          "key": "type",
          "value": "CHART"
         },
         {
          "key": "options",
          "value": {
           "alignYAxesAtZero": true,
           "coefficient": 1,
           "columnConfigurationMap": {
            "x": {
             "column": "country",
             "id": "column_3ce09d2f429"
            },
            "y": [
             {
              "column": "users",
              "id": "column_3ce09d2f431",
              "transform": "SUM"
             }
            ]
           },
           "dateTimeFormat": "DD/MM/YYYY HH:mm",
           "direction": {
            "type": "counterclockwise"
           },
           "error_y": {
            "type": "data",
            "visible": true
           },
           "globalSeriesType": "column",
           "isAggregationOn": true,
           "legend": {
            "traceorder": "normal"
           },
           "missingValuesAsZero": true,
           "numberFormat": "0,0.[00000]",
           "percentFormat": "0[.]00%",
           "series": {
            "error_y": {
             "type": "data",
             "visible": true
            },
            "stacking": null
           },
           "seriesOptions": {
            "column_3ce09d2f431": {
             "type": "column",
             "yAxis": 0
            }
           },
           "showDataLabels": false,
           "sizemode": "diameter",
           "sortX": true,
           "sortY": true,
           "swappedAxes": false,
           "textFormat": "",
           "useAggregationsUi": true,
           "valuesOptions": {},
           "version": 2,
           "xAxis": {
            "labels": {
             "enabled": true
            },
            "type": "-"
           },
           "yAxis": [
            {
             "type": "-"
            },
            {
             "opposite": true,
             "type": "-"
            }
           ]
          }
         }
        ]
       },
       "datasetPreviewNameToCmdIdMap": {},
       "diffDeletes": [],
       "diffInserts": [],
       "displayType": "redashChart",
       "error": null,
       "errorDetails": null,
       "errorSummary": null,
       "errorTraceType": null,
       "finishTime": 0,
       "globalVars": {},
       "guid": "",
       "height": "auto",
       "hideCommandCode": false,
       "hideCommandResult": false,
       "iPythonMetadata": null,
       "inputWidgets": {},
       "isLockedInExamMode": false,
       "latestUser": "a user",
       "latestUserId": null,
       "listResultMetadata": null,
       "metadata": {},
       "nuid": "e9c1b22a-6993-43cf-b465-7c18aa66c3c8",
       "origId": 0,
       "parentHierarchy": [],
       "pivotAggregation": null,
       "pivotColumns": null,
       "position": 9.0,
       "resultDbfsErrorMessage": null,
       "resultDbfsStatus": "INLINED_IN_TREE",
       "results": null,
       "showCommandTitle": false,
       "startTime": 0,
       "state": "input",
       "streamStates": {},
       "subcommandOptions": {
        "queryPlan": {
         "groups": [
          {
           "column": "country",
           "type": "column"
          }
         ],
         "selects": [
          {
           "column": "country",
           "type": "column"
          },
          {
           "alias": "column_3ce09d2f431",
           "args": [
            {
             "column": "users",
             "type": "column"
            }
           ],
           "function": "SUM",
           "type": "function"
          }
         ]
        }
       },
       "submitTime": 0,
       "subtype": "tableResultSubCmd.visualization",
       "tableResultIndex": 0,
       "tableResultSettingsMap": {},
       "useConsistentColors": false,
       "version": "CommandV1",
       "width": "auto",
       "workflows": [],
       "xColumns": null,
       "yColumns": null
      }
     },
     "output_type": "display_data"
    }
   ],
   "source": [
    "%sql\n",
    "-- Unique users per country (all time)\n",
    "SELECT\n",
    "    geo_country_code3        AS country,\n",
    "    COUNT(DISTINCT anon_id) AS users\n",
    "FROM consumption_events_logs\n",
    "GROUP BY geo_country_code3\n",
    "ORDER BY users DESC;"
   ]
  }
 ],
 "metadata": {
  "application/vnd.databricks.v1+notebook": {
   "computePreferences": null,
   "dashboards": [],
   "environmentMetadata": {
    "base_environment": "",
    "environment_version": "1"
   },
   "inputWidgetPreferences": null,
   "language": "python",
   "notebookMetadata": {
    "mostRecentlyExecutedCommandWithImplicitDF": {
     "commandId": 2445818628984776,
     "dataframes": [
      "_sqldf"
     ]
    },
    "pythonIndentUnit": 4
   },
   "notebookName": "Analysis",
   "widgets": {}
  }
 },
 "nbformat": 4,
 "nbformat_minor": 0
}