{
 "cells": [
  {
   "cell_type": "markdown",
   "metadata": {
    "application/vnd.databricks.v1+cell": {
     "cellMetadata": {
      "byteLimit": 2048000,
      "rowLimit": 10000
     },
     "inputWidgets": {},
     "nuid": "ce76d713-9cd2-4586-b1bc-9922f6bb15a9",
     "showTitle": false,
     "tableResultSettingsMap": {},
     "title": ""
    }
   },
   "source": [
    "Ashray Jaya Mani"
   ]
  },
  {
   "cell_type": "markdown",
   "metadata": {
    "application/vnd.databricks.v1+cell": {
     "cellMetadata": {
      "byteLimit": 2048000,
      "rowLimit": 10000
     },
     "inputWidgets": {},
     "nuid": "db39bbbe-74f9-4b45-98f3-12bfd741187f",
     "showTitle": false,
     "tableResultSettingsMap": {},
     "title": ""
    }
   },
   "source": [
    "%md\n",
    "## Barstool Sports — Data Engineering Challenge  \n",
    "\n",
    "### Objective  \n",
    "Build data models from the souce files, and surface actionable content‑consumption insights.\n",
    "\n",
    "*Data volume*: 3 raw files \n",
    "\n",
    "*Tooling*:(Databricks Community), Delta Lake, Python, Pyspark, Pandas, SQL\n",
    "*Run time on DBR 14.3 small cluster*: < 5 minutes end‑to‑end  \n"
   ]
  },
  {
   "cell_type": "markdown",
   "metadata": {
    "application/vnd.databricks.v1+cell": {
     "cellMetadata": {
      "byteLimit": 2048000,
      "rowLimit": 10000
     },
     "inputWidgets": {},
     "nuid": "fef1abbd-8641-4add-9fe1-ca113414aa73",
     "showTitle": false,
     "tableResultSettingsMap": {},
     "title": ""
    }
   },
   "source": [
    "### source_files - \n",
    "- Content Catalog (CSV): Contains published content information with titles, types, URLs, and related metadata\n",
    "- Talent/Brand Lookup (HTML table): Serves as a dimension table to map IDs to human-readable names\n",
    "- User Events (JSONL): Contains user interaction data with geo-location and content consumption information"
   ]
  },
  {
   "cell_type": "markdown",
   "metadata": {
    "application/vnd.databricks.v1+cell": {
     "cellMetadata": {
      "byteLimit": 2048000,
      "rowLimit": 10000
     },
     "inputWidgets": {},
     "nuid": "705b28df-90df-4fab-90af-956f9a87770c",
     "showTitle": false,
     "tableResultSettingsMap": {},
     "title": ""
    }
   },
   "source": [
    "## Raw Data \n",
    "\n",
    "*Sources*  \n",
    "| File | Format | Key columns | Size | Notes |\n",
    "|------|--------|-------------|------|-------|\n",
    "| `BARSTOOL_PROD_CONTENT_PROD_CONTENTS_3.csv` | CSV | `content_id`, metadata | 1706 rows | Tags/talent/franchise come as JSON‑like strings |\n",
    "| `brands_talent_franchise.html` | HTML | `_ID`, `TYPE`  | 164 rows | contains talent and franchise details, no brand details |\n",
    "| `event_logs.jsonl` | JSONL | `ANONID`, `LOG` (nested) | 10 K rows | Contains OS, app version, events, timestamps |\n",
    "\n",
    "\n"
   ]
  },
  {
   "cell_type": "markdown",
   "metadata": {
    "application/vnd.databricks.v1+cell": {
     "cellMetadata": {},
     "inputWidgets": {},
     "nuid": "4852eff4-2fd8-4ce5-911d-5415f520a1ec",
     "showTitle": false,
     "tableResultSettingsMap": {},
     "title": ""
    }
   },
   "source": [
    "![]('C:\\Users\\gowda\\Downloads\\vv.png')\n"
   ]
  },
  {
   "cell_type": "markdown",
   "metadata": {
    "application/vnd.databricks.v1+cell": {
     "cellMetadata": {
      "byteLimit": 2048000,
      "rowLimit": 10000
     },
     "inputWidgets": {},
     "nuid": "e3052333-492f-40e5-90e5-51f00b8fd217",
     "showTitle": false,
     "tableResultSettingsMap": {},
     "title": ""
    }
   },
   "source": [
    "#### Python Imports required"
   ]
  },
  {
   "cell_type": "code",
   "execution_count": 0,
   "metadata": {
    "application/vnd.databricks.v1+cell": {
     "cellMetadata": {
      "byteLimit": 2048000,
      "rowLimit": 10000
     },
     "inputWidgets": {},
     "nuid": "f45a21fc-b244-46d6-bfec-444f8f9949f9",
     "showTitle": false,
     "tableResultSettingsMap": {},
     "title": ""
    }
   },
   "outputs": [],
   "source": [
    "from pyspark.sql import functions as F\n",
    "from pyspark.sql.types import *\n",
    "from pyspark.sql.functions import (\n",
    "    col, from_json, explode, explode_outer, split, expr,\n",
    "    regexp_extract, to_date, hour, dayofweek, month, year,\n",
    "    count, sum as sum_, avg, desc, struct, collect_list, lit\n",
    ")\n",
    "from bs4 import BeautifulSoup\n",
    "import pandas as pd\n",
    "import matplotlib.pyplot as plt\n",
    "import seaborn as sns\n",
    "from pyspark.sql.functions import col, explode_outer, struct, collect_list, array_distinct\n",
    "from pyspark.sql.functions import to_date, hour, dayofweek, month, year"
   ]
  },
  {
   "cell_type": "markdown",
   "metadata": {
    "application/vnd.databricks.v1+cell": {
     "cellMetadata": {
      "byteLimit": 2048000,
      "rowLimit": 10000
     },
     "inputWidgets": {},
     "nuid": "4d955b01-ffac-4800-8ccc-c1c755c59c7a",
     "showTitle": false,
     "tableResultSettingsMap": {},
     "title": ""
    }
   },
   "source": [
    "# 1\n",
    "**Content Catalog (CSV)**: Contains published content information with titles, types, URLs, and related metadata\n",
    "\n",
    "**fields** - \n",
    "- content_title - Title of the content\n",
    "- content_type - Type of the content(article, gallery, podcast-episode, viral-original, viral-ugc, vod )\n",
    "- share_url - Link to the content\n",
    "- tags - tags attached to the content\n",
    "- talent - List of Talent_ids (creators)\n",
    "- franchise - Franchise_id\n",
    "- published_at - Published\n",
    "\n",
    "\n",
    "####Notes - \n",
    "**CONTENT_TYPE** \n",
    "- (articles, gallery have talent_ids)\n",
    "- (viral-original, viral-ugc has no talent_ids)\n",
    "- (podcast-episode will have multiple talent_ids in list and they have franchise_ids)\n",
    "- (vod will have either talent_ids or franchise_ids)"
   ]
  },
  {
   "cell_type": "markdown",
   "metadata": {
    "application/vnd.databricks.v1+cell": {
     "cellMetadata": {
      "byteLimit": 2048000,
      "rowLimit": 10000
     },
     "inputWidgets": {},
     "nuid": "5012d0a0-df27-487b-9197-9274f9dcf406",
     "showTitle": false,
     "tableResultSettingsMap": {},
     "title": ""
    }
   },
   "source": [
    "Enforcing Schema before Loading into content_df"
   ]
  },
  {
   "cell_type": "code",
   "execution_count": 0,
   "metadata": {
    "application/vnd.databricks.v1+cell": {
     "cellMetadata": {
      "byteLimit": 2048000,
      "rowLimit": 10000
     },
     "inputWidgets": {},
     "nuid": "4ca5b223-334c-4af6-a5a2-655a91ed22b9",
     "showTitle": false,
     "tableResultSettingsMap": {},
     "title": ""
    }
   },
   "outputs": [
    {
     "output_type": "stream",
     "name": "stdout",
     "output_type": "stream",
     "text": [
      "+--------------------+---------------+--------------------+--------------------+--------------------+---------+-------------------+\n|       content_title|   content_type|           share_url|                tags|              talent|franchise|       published_at|\n+--------------------+---------------+--------------------+--------------------+--------------------+---------+-------------------+\n|Disc Golfer Brodi...|podcast-episode|https://s.barstoo...|                  []|[\\n  \"23435882\",\\...|       11|2021-03-12 01:15:14|\n|The 13th Round: F...|            vod|https://s.barstoo...|[\\n  \"13th\",\\n  \"...|  [\\n  \"22342033\"\\n]| 76029778|2021-05-13 16:10:01|\n|Dumping Them Out:...|        article|https://s.barstoo...|[\\n  \"smokeshow\",...|   [\\n  \"7416138\"\\n]|     null|2023-01-02 02:00:46|\n|I Have To Take My...|        article|https://s.barstoo...|[\\n  \"driving\",\\n...|  [\\n  \"40092034\"\\n]|     null|2023-01-23 18:50:00|\n|Dumping Them Out:...|        article|https://s.barstoo...|[\\n  \"hot\",\\n  \"g...|   [\\n  \"7416138\"\\n]|     null|2024-06-30 23:45:00|\n|Have Mercy - Tera...|        article|https://s.barstoo...|[\\n  \"terann-hilo...|  [\\n  \"94128859\"\\n]|       61|2024-05-11 22:00:00|\n|Steven Cheah Just...|        article|https://s.barstoo...|                  []|  [\\n  \"11236915\"\\n]|     null|2022-08-01 15:20:00|\n|Barstool Smokesho...|        article|https://s.barstoo...|[\\n  \"smokeshows\"...|[\\n  \"31235576\",\\...|     null|2021-10-28 21:30:00|\n|Barstool Smokesho...|        article|https://s.barstoo...|[\\n  \"smokeshows\"...|[\\n  \"31235576\",\\...|     null|2021-10-27 22:20:00|\n|Porn Searches for...|        article|https://s.barstoo...|[\\n  \"mrs-claus\",...|  [\\n  \"49072379\"\\n]|     null|2021-12-21 21:40:00|\n+--------------------+---------------+--------------------+--------------------+--------------------+---------+-------------------+\nonly showing top 10 rows\n\n"
     ]
    }
   ],
   "source": [
    "content_schema = (\n",
    "    StructType()\n",
    "        .add(\"content_title\", StringType())\n",
    "        .add(\"content_type\", StringType())\n",
    "        .add(\"share_url\", StringType())\n",
    "        .add(\"tags\", StringType())  # Will parse to array later\n",
    "        .add(\"talent\", StringType())  # Will parse to array later\n",
    "        .add(\"franchise\", IntegerType())  # Changed to string for better null handling\n",
    "        .add(\"published_at\", TimestampType())\n",
    ")\n",
    "\n",
    "# Load content with proper handling of multiline CSV\n",
    "contents_raw = (spark.read.format(\"csv\")\n",
    "        .schema(content_schema)\n",
    "        .option(\"header\", \"true\")\n",
    "        .option(\"multiLine\", \"true\")\n",
    "        .option(\"quote\", '\"')\n",
    "        .option(\"escape\", '\"')\n",
    "        .load(\"/FileStore/tables/BARSTOOL_PROD_CONTENT_PROD_CONTENTS_3.csv\")\n",
    ")\n",
    "\n",
    "contents_raw.show(10)"
   ]
  },
  {
   "cell_type": "markdown",
   "metadata": {
    "application/vnd.databricks.v1+cell": {
     "cellMetadata": {
      "byteLimit": 2048000,
      "rowLimit": 10000
     },
     "inputWidgets": {},
     "nuid": "16ca38ec-158d-43b9-a487-eef4eed04fa9",
     "showTitle": false,
     "tableResultSettingsMap": {},
     "title": ""
    }
   },
   "source": [
    "# 2\n",
    "### Loading talent/brand/franchise lookup data (brands_talent_franchise.html) and creating talent_dim & franchise_dim models\n",
    "brands_talent_franchise.html Serves as a dimension table to map IDs to human-readable names\n",
    "\n",
    "Fields - \n",
    "- _ID\n",
    "- _NAME\n",
    "- SHORT_NAME\n",
    "- TYPE\n",
    "\n",
    "\n",
    "Creating seperate dimension table **talent_dim, franchise_dim** from the main table"
   ]
  },
  {
   "cell_type": "code",
   "execution_count": 0,
   "metadata": {
    "application/vnd.databricks.v1+cell": {
     "cellMetadata": {
      "byteLimit": 2048000,
      "rowLimit": 10000
     },
     "inputWidgets": {},
     "nuid": "a4e86845-87a8-4006-8e63-afe262bf47af",
     "showTitle": false,
     "tableResultSettingsMap": {},
     "title": ""
    }
   },
   "outputs": [
    {
     "output_type": "stream",
     "name": "stdout",
     "output_type": "stream",
     "text": [
      "Python interpreter will be restarted.\nRequirement already satisfied: lxml in /local_disk0/.ephemeral_nfs/envs/pythonEnv-569a1ba3-ec4a-4efc-8d33-6fbb7634ff1b/lib/python3.9/site-packages (5.4.0)\nPython interpreter will be restarted.\n"
     ]
    }
   ],
   "source": [
    "%pip install lxml"
   ]
  },
  {
   "cell_type": "code",
   "execution_count": 0,
   "metadata": {
    "application/vnd.databricks.v1+cell": {
     "cellMetadata": {
      "byteLimit": 2048000,
      "rowLimit": 10000
     },
     "inputWidgets": {},
     "nuid": "76f1e5ed-4d5f-4b8e-a315-41579d1e039e",
     "showTitle": false,
     "tableResultSettingsMap": {},
     "title": ""
    }
   },
   "outputs": [
    {
     "output_type": "stream",
     "name": "stdout",
     "output_type": "stream",
     "text": [
      "+--------+-------------+----------+------+\n|     _ID|         NAME|SHORT_NAME|  TYPE|\n+--------+-------------+----------+------+\n|13906103|  Uncle Chaps|     Chaps|talent|\n|81445381|   Ohios Tate|Ohios Tate|talent|\n|55089177|Francis Ellis|   Francis|talent|\n|91417281|         Kate|      Kate|talent|\n|62319293|        Hubbs|     Hubbs|talent|\n+--------+-------------+----------+------+\nonly showing top 5 rows\n\n+--------+-------------------+----------+---------+\n|     _ID|               NAME|SHORT_NAME|     TYPE|\n+--------+-------------------+----------+---------+\n|25141828|Sundae Conversation|      null|franchise|\n|      63|       The Dog Walk|   DogWalk|franchise|\n|      12|           One Bite|  One Bite|franchise|\n|      50|        The Stretch|TheStretch|franchise|\n|       7|           Gametime|      null|franchise|\n+--------+-------------------+----------+---------+\nonly showing top 5 rows\n\n"
     ]
    }
   ],
   "source": [
    "# Load talent/franchise lookup data\n",
    "html_path = \"dbfs:/FileStore/tables/brands_talent_franchise.html\"\n",
    "html_content = dbutils.fs.head(html_path)\n",
    "soup = BeautifulSoup(html_content, \"html.parser\")\n",
    "lookup_pdf = pd.read_html(str(soup))[0]\n",
    "lookup_df = spark.createDataFrame(lookup_pdf)\n",
    "\n",
    "# Create separate dimension tables\n",
    "talent_dim = lookup_df.filter(col(\"TYPE\") == \"talent\")\n",
    "franchise_dim = lookup_df.filter(col(\"TYPE\") == \"franchise\")\n",
    "#brand_dim = lookup_df.filter(col(\"TYPE\") == \"brand\")\n",
    "\n",
    "talent_dim.show(5)\n",
    "franchise_dim.show(5)"
   ]
  },
  {
   "cell_type": "markdown",
   "metadata": {
    "application/vnd.databricks.v1+cell": {
     "cellMetadata": {
      "byteLimit": 2048000,
      "rowLimit": 10000
     },
     "inputWidgets": {},
     "nuid": "e0f4b10d-2955-4105-9828-cfd440931ff2",
     "showTitle": false,
     "tableResultSettingsMap": {},
     "title": ""
    }
   },
   "source": [
    "# 3\n",
    "##### User Events (JSONL): Contains user interaction data with geo-location and content consumption information from date 2025-05-05 - 2025-05-06\n",
    "\n",
    "Fields - \n",
    "- ANONID - unique client_ids (String)\n",
    "- GEO - Geographical metadata (JSON String)\n",
    "- LOG - User Interaction Application Logs (JSON String)\n",
    "\n",
    "\"GEO\": Encodes the user’s geolocation and network context. Once parsed, it yields fields like:\n",
    "- area_code, metro_code, postal_code (integers/strings)\n",
    "- city, region, country_name (strings)\n",
    "- latitude, longitude (floats)\n",
    "- conn_type, conn_speed, proxy_type, proxy_description (strings)\n",
    "- Autonomous System metadata (as_name, as_number), time offsets (gmt_offset, utc_offset), etc.\n",
    "\n",
    "\"LOG\" : Captures the app‑level event payload. When parsed, it contains:\n",
    "\n",
    "- app struct: os (e.g. iOS/Android), title (bundle ID), version\n",
    "- content struct: barstoolContentID (e.g. article‑3544468)\n",
    "- event (e.g. ContentStarted), type (e.g. track)\n",
    "- page struct: title (page title, if any)\n",
    "- sha1 (event fingerprint), source (app + OS), timestamp (UTC ISO 8601)\n",
    "\n",
    "\n"
   ]
  },
  {
   "cell_type": "code",
   "execution_count": 0,
   "metadata": {
    "application/vnd.databricks.v1+cell": {
     "cellMetadata": {
      "byteLimit": 2048000,
      "rowLimit": 10000
     },
     "inputWidgets": {},
     "nuid": "19099a72-ecce-4560-8e0f-74af0cea415c",
     "showTitle": false,
     "tableResultSettingsMap": {},
     "title": ""
    }
   },
   "outputs": [],
   "source": [
    "# Load JSONL event data\n",
    "events_raw = (\n",
    "    spark.read\n",
    "    .option(\"multiLine\", True)\n",
    "    .json(\"dbfs:/FileStore/tables/sampled_data.jsonl\")\n",
    ")"
   ]
  },
  {
   "cell_type": "code",
   "execution_count": 0,
   "metadata": {
    "application/vnd.databricks.v1+cell": {
     "cellMetadata": {
      "byteLimit": 2048000,
      "rowLimit": 10000
     },
     "inputWidgets": {},
     "nuid": "2e97261d-b088-4dd6-8f14-e078ecfb9b96",
     "showTitle": false,
     "tableResultSettingsMap": {},
     "title": ""
    }
   },
   "outputs": [
    {
     "output_type": "stream",
     "name": "stdout",
     "output_type": "stream",
     "text": [
      "+--------------------+--------------------+--------------------+\n|              ANONID|                 GEO|                 LOG|\n+--------------------+--------------------+--------------------+\n|953e33302aba6c3e1...|{\\n  \"area_code\":...|{\\n  \"app\": {\\n  ...|\n|b3e1d16f345f443b1...|{\\n  \"area_code\":...|{\\n  \"app\": {\\n  ...|\n|d404e5735bd468492...|{\\n  \"area_code\":...|{\\n  \"app\": {\\n  ...|\n|f8775432f5c9531f8...|{\\n  \"area_code\":...|{\\n  \"app\": {\\n  ...|\n|1b513ebadcecc178d...|{\\n  \"area_code\":...|{\\n  \"app\": {\\n  ...|\n+--------------------+--------------------+--------------------+\nonly showing top 5 rows\n\n"
     ]
    }
   ],
   "source": [
    "events_raw.show(5)"
   ]
  },
  {
   "cell_type": "markdown",
   "metadata": {
    "application/vnd.databricks.v1+cell": {
     "cellMetadata": {
      "byteLimit": 2048000,
      "rowLimit": 10000
     },
     "inputWidgets": {},
     "nuid": "0fb1411d-1f14-4933-a4d9-ce97cebce952",
     "showTitle": false,
     "tableResultSettingsMap": {},
     "title": ""
    }
   },
   "source": [
    "> --------------------------------------------------------------------------------------------------------------------------------------------------------------"
   ]
  },
  {
   "cell_type": "markdown",
   "metadata": {
    "application/vnd.databricks.v1+cell": {
     "cellMetadata": {
      "byteLimit": 2048000,
      "rowLimit": 10000
     },
     "inputWidgets": {},
     "nuid": "80cc5e75-faa3-443c-b69d-252ee7d1ed6d",
     "showTitle": false,
     "tableResultSettingsMap": {},
     "title": ""
    }
   },
   "source": [
    "> --------------------------------------------------------------------------------------------------------------------------------------------------------------"
   ]
  },
  {
   "cell_type": "markdown",
   "metadata": {
    "application/vnd.databricks.v1+cell": {
     "cellMetadata": {
      "byteLimit": 2048000,
      "rowLimit": 10000
     },
     "inputWidgets": {},
     "nuid": "538dbae6-5bb7-4025-bf9e-fd57d5234442",
     "showTitle": false,
     "tableResultSettingsMap": {},
     "title": ""
    }
   },
   "source": [
    "%md\n",
    "# 4\n",
    "##   Clean & Transform (Silver)  \n",
    "\n",
    "| Transformation |  |\n",
    "|----------------|-----------|\n",
    "| `from_json(LOG…)` + typed struct | Guarantees nested fields (`app.os`, `event`) are types. |\n",
    "| `regexp_extract(share_url, '/([^/]+)$')` → `content_id` | content_id extraction from share_url. |\n",
    "| Cast `FRANCHISE` to `INT` *after* filling null/“N/A” | avoids join type mismatch. |\n",
    "| `explode_outer(TALENT)` then regroup | Preserves **multi‑talent** rows while keeping fact grain on (`anon_id`, `event_ts`). |\n",
    "\n",
    "**Caching strategy**  \n",
    "Frequent small‑table joins (`talent_dim`, `franchise_dim`) are broadcasted to reduce shuffling, increasing performance.\n"
   ]
  },
  {
   "cell_type": "markdown",
   "metadata": {
    "application/vnd.databricks.v1+cell": {
     "cellMetadata": {
      "byteLimit": 2048000,
      "rowLimit": 10000
     },
     "inputWidgets": {},
     "nuid": "6fa1b9ce-da23-416f-a5de-c05315d3f66e",
     "showTitle": false,
     "tableResultSettingsMap": {},
     "title": ""
    }
   },
   "source": [
    "# 5\n",
    "### Data Cleaning & Transformation  - Content Catalog"
   ]
  },
  {
   "cell_type": "code",
   "execution_count": 0,
   "metadata": {
    "application/vnd.databricks.v1+cell": {
     "cellMetadata": {
      "byteLimit": 2048000,
      "rowLimit": 10000
     },
     "inputWidgets": {},
     "nuid": "edaa5024-244b-41f8-bcef-53e490ca6bd2",
     "showTitle": false,
     "tableResultSettingsMap": {},
     "title": ""
    }
   },
   "outputs": [
    {
     "output_type": "stream",
     "name": "stdout",
     "output_type": "stream",
     "text": [
      "Null counts before cleaning:\n+-------------+------------+---------+----+------+---------+------------+\n|content_title|content_type|share_url|tags|talent|franchise|published_at|\n+-------------+------------+---------+----+------+---------+------------+\n|            4|           4|        4|   4|     4|      459|           7|\n+-------------+------------+---------+----+------+---------+------------+\n\n"
     ]
    }
   ],
   "source": [
    "# Identify and handle null values\n",
    "nulls_df =contents_raw.select([\n",
    "    F.sum(col(c).isNull().cast(\"int\")).alias(c)\n",
    "    for c in contents_raw.columns\n",
    "])\n",
    "print(\"Null counts before cleaning:\")\n",
    "nulls_df.show()"
   ]
  },
  {
   "cell_type": "markdown",
   "metadata": {
    "application/vnd.databricks.v1+cell": {
     "cellMetadata": {
      "byteLimit": 2048000,
      "rowLimit": 10000
     },
     "inputWidgets": {},
     "nuid": "ee2bb69b-6c4c-4051-9be3-f36e5a55795d",
     "showTitle": false,
     "tableResultSettingsMap": {},
     "title": ""
    }
   },
   "source": [
    "\n",
    "- There are 4 Null Rows in the data will be reomved, and FRANCHISE(franchise_id) has 459 Null we will replace that with UNKNOWN\n",
    "- Droppin Null Values from the subset [\"TITLE\", \"TYPE\", \"SHARE_URL\", \"PUBLISHED_AT\"]\n",
    "- converting TAGS and TALENT Column into ArrayType to work with nested data\n",
    "- extracting content_id from \"SHARE_URL\" using regex"
   ]
  },
  {
   "cell_type": "code",
   "execution_count": 0,
   "metadata": {
    "application/vnd.databricks.v1+cell": {
     "cellMetadata": {
      "byteLimit": 2048000,
      "rowLimit": 10000
     },
     "inputWidgets": {},
     "nuid": "fc1fd1cc-f904-42a4-a1d9-687375708fd1",
     "showTitle": false,
     "tableResultSettingsMap": {},
     "title": ""
    }
   },
   "outputs": [],
   "source": [
    "clean_content_df = contents_raw.dropna(\n",
    "    subset=[\"content_title\", \"content_type\", \"share_url\"]\n",
    ")"
   ]
  },
  {
   "cell_type": "code",
   "execution_count": 0,
   "metadata": {
    "application/vnd.databricks.v1+cell": {
     "cellMetadata": {
      "byteLimit": 2048000,
      "rowLimit": 10000
     },
     "inputWidgets": {},
     "nuid": "3e7905bb-e7a1-4eab-b00a-b7f32c082e94",
     "showTitle": false,
     "tableResultSettingsMap": {},
     "title": ""
    }
   },
   "outputs": [],
   "source": [
    "# Parse TAGS column to array\n",
    "tags_schema = ArrayType(StringType())\n",
    "clean_content_df = clean_content_df.withColumn(\n",
    "    \"TAGS\",\n",
    "    from_json(col(\"TAGS\"), tags_schema)\n",
    ")\n",
    "\n",
    "# Parse TALENT column to array\n",
    "talent_schema = ArrayType(StringType())\n",
    "clean_content_df = clean_content_df.withColumn(\n",
    "    \"TALENT\",\n",
    "    from_json(col(\"TALENT\"), talent_schema)\n",
    ")\n",
    "clean_content_df = clean_content_df.withColumn(\n",
    "    \"FRANCHISE\",\n",
    "    F.when(\n",
    "        col(\"FRANCHISE\").isNull(), F.lit(\"UNKNOWN\")\n",
    "    ).otherwise(col(\"FRANCHISE\"))\n",
    ")\n",
    "\n",
    "\n",
    "# Extract content_id from SHARE_URL for easier joining\n",
    "contents_silver = clean_content_df.withColumn(\n",
    "    \"content_id\", \n",
    "    F.regexp_extract(col(\"SHARE_URL\"), r\".*\\/c\\/(.*)\", 1)\n",
    ")"
   ]
  },
  {
   "cell_type": "code",
   "execution_count": 0,
   "metadata": {
    "application/vnd.databricks.v1+cell": {
     "cellMetadata": {
      "byteLimit": 2048000,
      "rowLimit": 10000
     },
     "inputWidgets": {},
     "nuid": "4f4e44d1-88ae-49c2-b155-258c92a23270",
     "showTitle": false,
     "tableResultSettingsMap": {},
     "title": ""
    }
   },
   "outputs": [
    {
     "output_type": "stream",
     "name": "stdout",
     "output_type": "stream",
     "text": [
      "+--------------------+---------------+--------------------+--------------------+--------------------+---------+-------------------+--------------------+\n|       content_title|   content_type|           share_url|                TAGS|              TALENT|FRANCHISE|       published_at|          content_id|\n+--------------------+---------------+--------------------+--------------------+--------------------+---------+-------------------+--------------------+\n|Disc Golfer Brodi...|podcast-episode|https://s.barstoo...|                  []|[23435882, 289887...|       11|2021-03-12 01:15:14|podcast-episode-4...|\n|The 13th Round: F...|            vod|https://s.barstoo...|[13th, round, mma...|          [22342033]| 76029778|2021-05-13 16:10:01|vod-jGkXQfGoyUSiY...|\n|Dumping Them Out:...|        article|https://s.barstoo...|[smokeshow, hot, ...|           [7416138]|  UNKNOWN|2023-01-02 02:00:46|     article-3450350|\n|I Have To Take My...|        article|https://s.barstoo...|[driving, covid, ...|          [40092034]|  UNKNOWN|2023-01-23 18:50:00|     article-3453408|\n|Dumping Them Out:...|        article|https://s.barstoo...|[hot, girl, bikin...|           [7416138]|  UNKNOWN|2024-06-30 23:45:00|     article-3518454|\n|Have Mercy - Tera...|        article|https://s.barstoo...|      [terann-hilow]|          [94128859]|       61|2024-05-11 22:00:00|     article-3513544|\n|Steven Cheah Just...|        article|https://s.barstoo...|                  []|          [11236915]|  UNKNOWN|2022-08-01 15:20:00|     article-3426834|\n|Barstool Smokesho...|        article|https://s.barstoo...|[smokeshows, nsfw...|[31235576, 71235318]|  UNKNOWN|2021-10-28 21:30:00|     article-3391437|\n|Barstool Smokesho...|        article|https://s.barstoo...|[smokeshows, nsfw...|[31235576, 71235318]|  UNKNOWN|2021-10-27 22:20:00|     article-3391239|\n|Porn Searches for...|        article|https://s.barstoo...|[mrs-claus, chris...|          [49072379]|  UNKNOWN|2021-12-21 21:40:00|     article-3399132|\n+--------------------+---------------+--------------------+--------------------+--------------------+---------+-------------------+--------------------+\nonly showing top 10 rows\n\n"
     ]
    }
   ],
   "source": [
    "contents_silver.show(10)"
   ]
  },
  {
   "cell_type": "code",
   "execution_count": 0,
   "metadata": {
    "application/vnd.databricks.v1+cell": {
     "cellMetadata": {
      "byteLimit": 2048000,
      "rowLimit": 10000
     },
     "inputWidgets": {},
     "nuid": "9707e4bc-404b-4a58-94d3-4a495a5cf3c9",
     "showTitle": false,
     "tableResultSettingsMap": {},
     "title": ""
    }
   },
   "outputs": [
    {
     "output_type": "stream",
     "name": "stdout",
     "output_type": "stream",
     "text": [
      "Out[57]: 1702"
     ]
    }
   ],
   "source": [
    "contents_silver.count()"
   ]
  },
  {
   "cell_type": "markdown",
   "metadata": {
    "application/vnd.databricks.v1+cell": {
     "cellMetadata": {
      "byteLimit": 2048000,
      "rowLimit": 10000
     },
     "inputWidgets": {},
     "nuid": "c3c3ec20-46f5-492a-96d8-76387c7fb938",
     "showTitle": false,
     "tableResultSettingsMap": {},
     "title": ""
    }
   },
   "source": [
    "`--------------------------------------------------------------------------------------------------------------------------------------------------------------`"
   ]
  },
  {
   "cell_type": "markdown",
   "metadata": {
    "application/vnd.databricks.v1+cell": {
     "cellMetadata": {
      "byteLimit": 2048000,
      "rowLimit": 10000
     },
     "inputWidgets": {},
     "nuid": "593cc054-8650-4771-870b-5ed54295689a",
     "showTitle": false,
     "tableResultSettingsMap": {},
     "title": ""
    }
   },
   "source": [
    "# 6\n",
    "### Data Cleaning & Transformation  - Events Data"
   ]
  },
  {
   "cell_type": "markdown",
   "metadata": {
    "application/vnd.databricks.v1+cell": {
     "cellMetadata": {
      "byteLimit": 2048000,
      "rowLimit": 10000
     },
     "inputWidgets": {},
     "nuid": "7cd17ded-a95a-45df-8868-518e99eec7ea",
     "showTitle": false,
     "tableResultSettingsMap": {},
     "title": ""
    }
   },
   "source": [
    "- Infer schemas for nested JSON(GEO, LOG) and Parse the JSON columns  into structured data\n",
    "- Flatten the nested structures with clear naming conventions\n",
    "- Adding time dimensions for easier analysis"
   ]
  },
  {
   "cell_type": "code",
   "execution_count": 0,
   "metadata": {
    "application/vnd.databricks.v1+cell": {
     "cellMetadata": {
      "byteLimit": 2048000,
      "rowLimit": 10000
     },
     "inputWidgets": {},
     "nuid": "e5bc5363-7525-444a-aa5a-e9af2d3dc487",
     "showTitle": false,
     "tableResultSettingsMap": {},
     "title": ""
    }
   },
   "outputs": [
    {
     "output_type": "stream",
     "name": "stdout",
     "output_type": "stream",
     "text": [
      "+--------------------+--------------------+--------------------+\n|              ANONID|          geo_struct|          log_struct|\n+--------------------+--------------------+--------------------+\n|953e33302aba6c3e1...|{952, comcast cab...|{{iOS, com.Design...|\n|b3e1d16f345f443b1...|{703, amazon.com ...|{{iOS, com.Design...|\n|d404e5735bd468492...|{703, amazon.com ...|{{iOS, com.Design...|\n|f8775432f5c9531f8...|{703, amazon.com ...|{{iOS, com.Design...|\n|1b513ebadcecc178d...|{703, amazon.com ...|{{iOS, com.Design...|\n+--------------------+--------------------+--------------------+\nonly showing top 5 rows\n\n"
     ]
    }
   ],
   "source": [
    "# Infer schemas for nested JSON\n",
    "geo_schema = spark.read.json(\n",
    "    events_raw.select(\"GEO\").rdd.map(lambda r: r.GEO)\n",
    ").schema\n",
    "\n",
    "log_schema = spark.read.json(\n",
    "    events_raw.select(\"LOG\").rdd.map(lambda r: r.LOG)\n",
    ").schema\n",
    "# Parse the JSON columns into structured data\n",
    "parsed_events = (\n",
    "    events_raw\n",
    "    .withColumn(\"geo_struct\", from_json(col(\"GEO\"), geo_schema))\n",
    "    .withColumn(\"log_struct\", from_json(col(\"LOG\"), log_schema))\n",
    "    .drop(\"GEO\", \"LOG\")\n",
    ")\n",
    "parsed_events.show(5)"
   ]
  },
  {
   "cell_type": "code",
   "execution_count": 0,
   "metadata": {
    "application/vnd.databricks.v1+cell": {
     "cellMetadata": {
      "byteLimit": 2048000,
      "rowLimit": 10000
     },
     "inputWidgets": {},
     "nuid": "aa9d0a86-7c4b-43e3-abfb-d6e49ae84357",
     "showTitle": false,
     "tableResultSettingsMap": {},
     "title": ""
    }
   },
   "outputs": [],
   "source": [
    "# Flatten the nested structures with clear naming conventions\n",
    "flattened_events = parsed_events.select(\n",
    "    col(\"ANONID\"),\n",
    "    # Geo fields - add 'geo_' prefix\n",
    "    *[col(f\"geo_struct.{f.name}\").alias(f\"geo_{f.name}\") for f in geo_schema.fields],\n",
    "    # App fields\n",
    "    col(\"log_struct.app.os\").alias(\"app_os\"),\n",
    "    col(\"log_struct.app.title\").alias(\"app_title\"),\n",
    "    col(\"log_struct.app.version\").alias(\"app_version\"),\n",
    "    # Content fields\n",
    "    col(\"log_struct.content.barstoolContentID\").alias(\"content_id\"),\n",
    "    col(\"log_struct.content.duration\").alias(\"content_duration\"),\n",
    "    # Event info\n",
    "    col(\"log_struct.event\").alias(\"event_name\"),\n",
    "    col(\"log_struct.page.title\").alias(\"page_title\"),\n",
    "    col(\"log_struct.timestamp\").alias(\"event_timestamp\"),\n",
    "    col(\"log_struct.type\").alias(\"event_type\")\n",
    ")"
   ]
  },
  {
   "cell_type": "code",
   "execution_count": 0,
   "metadata": {
    "application/vnd.databricks.v1+cell": {
     "cellMetadata": {
      "byteLimit": 2048000,
      "rowLimit": 10000
     },
     "inputWidgets": {},
     "nuid": "23e299fb-b70e-4da8-8044-65423c5b47c2",
     "showTitle": false,
     "tableResultSettingsMap": {},
     "title": ""
    }
   },
   "outputs": [],
   "source": [
    "# Add time dimensions for easier analysis\n",
    "from pyspark.sql.functions import to_date, hour, dayofweek, month, year\n",
    "\n",
    "events_flattened_silver = flattened_events.withColumn(\n",
    "    \"event_date\", to_date(col(\"event_timestamp\"))\n",
    ").withColumn(\n",
    "    \"event_hour\", hour(col(\"event_timestamp\"))\n",
    ").withColumn(\n",
    "    \"event_day\", dayofweek(col(\"event_timestamp\"))\n",
    ").withColumn(\n",
    "    \"event_month\", month(col(\"event_timestamp\"))\n",
    ").withColumn(\n",
    "    \"event_year\", year(col(\"event_timestamp\"))\n",
    ")"
   ]
  },
  {
   "cell_type": "code",
   "execution_count": 0,
   "metadata": {
    "application/vnd.databricks.v1+cell": {
     "cellMetadata": {
      "byteLimit": 2048000,
      "rowLimit": 10000
     },
     "inputWidgets": {},
     "nuid": "f62c82a6-413c-4bef-a1de-e42b5beca323",
     "showTitle": false,
     "tableResultSettingsMap": {
      "0": {
       "dataGridStateBlob": null,
       "filterBlob": "{\"filterGroups\":[],\"syncTimestamp\":1747866808665}",
       "queryPlanFiltersBlob": null,
       "tableResultIndex": 0
      }
     },
     "title": ""
    }
   },
   "outputs": [
    {
     "output_type": "display_data",
     "data": {
      "text/html": [
       "<style scoped>\n",
       "  .table-result-container {\n",
       "    max-height: 300px;\n",
       "    overflow: auto;\n",
       "  }\n",
       "  table, th, td {\n",
       "    border: 1px solid black;\n",
       "    border-collapse: collapse;\n",
       "  }\n",
       "  th, td {\n",
       "    padding: 5px;\n",
       "  }\n",
       "  th {\n",
       "    text-align: left;\n",
       "  }\n",
       "</style><div class='table-result-container'><table class='table-result'><thead style='background-color: white'><tr><th>ANONID</th><th>geo_area_code</th><th>geo_as_name</th><th>geo_as_number</th><th>geo_city</th><th>geo_conn_speed</th><th>geo_conn_type</th><th>geo_continent</th><th>geo_country_code</th><th>geo_country_code3</th><th>geo_country_name</th><th>geo_gmt_offset</th><th>geo_latitude</th><th>geo_longitude</th><th>geo_metro_code</th><th>geo_postal_code</th><th>geo_proxy_description</th><th>geo_proxy_type</th><th>geo_region</th><th>geo_utc_offset</th><th>app_os</th><th>app_title</th><th>app_version</th><th>content_id</th><th>content_duration</th><th>event_name</th><th>page_title</th><th>event_timestamp</th><th>event_type</th><th>event_date</th><th>event_hour</th><th>event_day</th><th>event_month</th><th>event_year</th></tr></thead><tbody><tr><td>953e33302aba6c3e1e028e18ab9ec28e</td><td>952</td><td>comcast cable communications llc</td><td>7922</td><td>minnetonka</td><td>cable</td><td>wifi</td><td>NA</td><td>US</td><td>USA</td><td>united states</td><td>-500</td><td>44.92</td><td>-93.48</td><td>613</td><td>55345</td><td>?</td><td>?</td><td>MN</td><td>-500</td><td>iOS</td><td>com.Design-Menace.Barstool-Sports</td><td>60.0.3</td><td>article-3544478</td><td>null</td><td>null</td><td>The Easton Dub Is the New Youth Baseball Bat Sweeping the Nation and It Seems Like It May Actually Be One of the GOATs</td><td>2025-05-06T02:31:56.709Z</td><td>page</td><td>2025-05-06</td><td>2</td><td>3</td><td>5</td><td>2025</td></tr><tr><td>b3e1d16f345f443b1686ec4bd35c0c97</td><td>703</td><td>amazon.com inc.</td><td>14618</td><td>ashburn</td><td>broadband</td><td>wired</td><td>NA</td><td>US</td><td>USA</td><td>united states</td><td>-400</td><td>39.03</td><td>-77.49</td><td>511</td><td>20147</td><td>cloud</td><td>hosting</td><td>VA</td><td>-400</td><td>iOS</td><td>com.Design-Menace.Barstool-Sports</td><td>60.0.3</td><td>viral-original-U1hSASkeqkYrrDAviUT61Z5D</td><td>0.0</td><td>ContentStarted</td><td></td><td>2025-05-06T02:32:25.703Z</td><td>track</td><td>2025-05-06</td><td>2</td><td>3</td><td>5</td><td>2025</td></tr><tr><td>d404e5735bd46849285809e62d71efd2</td><td>703</td><td>amazon.com inc.</td><td>14618</td><td>ashburn</td><td>broadband</td><td>wired</td><td>NA</td><td>US</td><td>USA</td><td>united states</td><td>-400</td><td>39.03</td><td>-77.49</td><td>511</td><td>20147</td><td>cloud</td><td>hosting</td><td>VA</td><td>-400</td><td>iOS</td><td>com.Design-Menace.Barstool-Sports</td><td>60.0.3</td><td>viral-original-aScmLHvhad1E8KTdQoXbNDzD</td><td>0.0</td><td>ContentStarted</td><td></td><td>2025-05-06T02:33:01.076Z</td><td>track</td><td>2025-05-06</td><td>2</td><td>3</td><td>5</td><td>2025</td></tr><tr><td>f8775432f5c9531f858cab342ea709a6</td><td>703</td><td>amazon.com inc.</td><td>14618</td><td>ashburn</td><td>broadband</td><td>wired</td><td>NA</td><td>US</td><td>USA</td><td>united states</td><td>-400</td><td>39.03</td><td>-77.49</td><td>511</td><td>20147</td><td>cloud</td><td>hosting</td><td>VA</td><td>-400</td><td>iOS</td><td>com.Design-Menace.Barstool-Sports</td><td>60.0.3</td><td>viral-original-wvAZOxIHCqfNzWKmTVBuc2jj</td><td>3.968261135</td><td>ContentStarted</td><td></td><td>2025-05-06T02:33:21.105Z</td><td>track</td><td>2025-05-06</td><td>2</td><td>3</td><td>5</td><td>2025</td></tr><tr><td>1b513ebadcecc178dd96f07f197ff2ef</td><td>703</td><td>amazon.com inc.</td><td>14618</td><td>ashburn</td><td>broadband</td><td>wired</td><td>NA</td><td>US</td><td>USA</td><td>united states</td><td>-400</td><td>39.03</td><td>-77.49</td><td>511</td><td>20147</td><td>cloud</td><td>hosting</td><td>VA</td><td>-400</td><td>iOS</td><td>com.Design-Menace.Barstool-Sports</td><td>60.0.3</td><td>article-3544468</td><td>null</td><td>ContentStarted</td><td></td><td>2025-05-06T02:33:52.164Z</td><td>track</td><td>2025-05-06</td><td>2</td><td>3</td><td>5</td><td>2025</td></tr><tr><td>6c665a3f27622f759f2e7747cc89c034</td><td>703</td><td>amazon.com inc.</td><td>14618</td><td>ashburn</td><td>broadband</td><td>wired</td><td>NA</td><td>US</td><td>USA</td><td>united states</td><td>-400</td><td>39.03</td><td>-77.49</td><td>511</td><td>20147</td><td>cloud</td><td>hosting</td><td>VA</td><td>-400</td><td>iOS</td><td>com.Design-Menace.Barstool-Sports</td><td>60.0.3</td><td>article-3544468</td><td>null</td><td>ContentStarted</td><td></td><td>2025-05-06T02:34:24.656Z</td><td>track</td><td>2025-05-06</td><td>2</td><td>3</td><td>5</td><td>2025</td></tr><tr><td>e08b00ab61cee4c368c4bdbb7f047128</td><td>406</td><td>charter communications llc</td><td>33588</td><td>butte</td><td>cable</td><td>wifi</td><td>NA</td><td>US</td><td>USA</td><td>united states</td><td>-600</td><td>45.99</td><td>-112.5</td><td>754</td><td>59701</td><td>?</td><td>?</td><td>MT</td><td>-600</td><td>iOS</td><td>com.Design-Menace.Barstool-Sports</td><td>60.0.3</td><td>article-3544483</td><td>null</td><td>null</td><td>An Ex-CIA Scientist Tells Joe Rogan the US Has 'More Than 10' Recovered UFOs, Some of Which are 'Donations'</td><td>2025-05-06T02:34:33.171Z</td><td>page</td><td>2025-05-06</td><td>2</td><td>3</td><td>5</td><td>2025</td></tr><tr><td>1cafe3c6a31670e12c327f6a92906025</td><td>703</td><td>amazon.com inc.</td><td>14618</td><td>ashburn</td><td>broadband</td><td>wired</td><td>NA</td><td>US</td><td>USA</td><td>united states</td><td>-400</td><td>39.03</td><td>-77.49</td><td>511</td><td>20147</td><td>cloud</td><td>hosting</td><td>VA</td><td>-400</td><td>iOS</td><td>com.Design-Menace.Barstool-Sports</td><td>60.0.3</td><td>article-3544455</td><td>null</td><td>ContentStarted</td><td></td><td>2025-05-06T02:34:48.170Z</td><td>track</td><td>2025-05-06</td><td>2</td><td>3</td><td>5</td><td>2025</td></tr><tr><td>e265d62d6937f461626e951e25991bb2</td><td>0</td><td>deutsche telekom ag</td><td>3320</td><td>berlin</td><td>broadband</td><td>wifi</td><td>EU</td><td>DE</td><td>DEU</td><td>germany</td><td>200</td><td>52.53</td><td>13.38</td><td>276006</td><td>10115</td><td>?</td><td>?</td><td>BE</td><td>200</td><td>iOS</td><td>com.Design-Menace.Barstool-Sports</td><td>60.0.3</td><td>article-3544480</td><td>null</td><td>null</td><td>Ben Affleck Confirmed His 'Armageddon' DVD Commentary Was The Best Work Of His Career, So Let's Give The Whole Thing A Listen Again</td><td>2025-05-06T02:34:59.927Z</td><td>page</td><td>2025-05-06</td><td>2</td><td>3</td><td>5</td><td>2025</td></tr><tr><td>5bad6ad2919480238ed6f83da0323db7</td><td>508</td><td>comcast cable communications llc</td><td>7922</td><td>brewster</td><td>cable</td><td>wifi</td><td>NA</td><td>US</td><td>USA</td><td>united states</td><td>-400</td><td>41.77</td><td>-70.04</td><td>506</td><td>02631</td><td>?</td><td>?</td><td>MA</td><td>-400</td><td>iOS</td><td>com.Design-Menace.Barstool-Sports</td><td>60.0.3</td><td>article-3544448</td><td>null</td><td>null</td><td>I just got in a screaming match with ABC Philadelphia scumbag reporter who tried to blame me and Barstool and white men for the “Fuck the Jews” sign</td><td>2025-05-06T02:35:54.095Z</td><td>page</td><td>2025-05-06</td><td>2</td><td>3</td><td>5</td><td>2025</td></tr><tr><td>9c613e24f00389aa559b4061f2400736</td><td>703</td><td>amazon.com inc.</td><td>14618</td><td>ashburn</td><td>broadband</td><td>wired</td><td>NA</td><td>US</td><td>USA</td><td>united states</td><td>-400</td><td>39.03</td><td>-77.49</td><td>511</td><td>20147</td><td>cloud</td><td>hosting</td><td>VA</td><td>-400</td><td>iOS</td><td>com.Design-Menace.Barstool-Sports</td><td>60.0.3</td><td>article-3544458</td><td>null</td><td>ContentStarted</td><td></td><td>2025-05-06T02:36:42.056Z</td><td>track</td><td>2025-05-06</td><td>2</td><td>3</td><td>5</td><td>2025</td></tr><tr><td>8665950fc2d5e17b1420dc333b084d93</td><td>703</td><td>amazon.com inc.</td><td>14618</td><td>ashburn</td><td>broadband</td><td>wired</td><td>NA</td><td>US</td><td>USA</td><td>united states</td><td>-400</td><td>39.03</td><td>-77.49</td><td>511</td><td>20147</td><td>cloud</td><td>hosting</td><td>VA</td><td>-400</td><td>iOS</td><td>com.Design-Menace.Barstool-Sports</td><td>60.0.3</td><td>article-3544468</td><td>null</td><td>ContentStarted</td><td></td><td>2025-05-06T03:31:56.088Z</td><td>track</td><td>2025-05-06</td><td>3</td><td>3</td><td>5</td><td>2025</td></tr><tr><td>e6f1e5f09c543b16dcfaf0c79b2ee08c</td><td>513</td><td>cincinnati bell telephone company llc</td><td>6181</td><td>west chester</td><td>cable</td><td>wifi</td><td>NA</td><td>US</td><td>USA</td><td>united states</td><td>-400</td><td>39.34</td><td>-84.4</td><td>515</td><td>45069</td><td>?</td><td>?</td><td>OH</td><td>-400</td><td>iOS</td><td>com.Design-Menace.Barstool-Sports</td><td>60.0.3</td><td>article-3544499</td><td>null</td><td>null</td><td>The Knicks March Into Boston, Steal Game 1 From The Celtics, And Prove They Can Beat Those Fucking Guys</td><td>2025-05-06T03:33:32.778Z</td><td>page</td><td>2025-05-06</td><td>3</td><td>3</td><td>5</td><td>2025</td></tr><tr><td>faa655f300efd292ef88da218c00a7b5</td><td>703</td><td>amazon.com inc.</td><td>14618</td><td>ashburn</td><td>broadband</td><td>wired</td><td>NA</td><td>US</td><td>USA</td><td>united states</td><td>-400</td><td>39.03</td><td>-77.49</td><td>511</td><td>20147</td><td>cloud</td><td>hosting</td><td>VA</td><td>-400</td><td>iOS</td><td>com.Design-Menace.Barstool-Sports</td><td>60.0.3</td><td>article-3441588</td><td>null</td><td>ContentStarted</td><td></td><td>2025-05-06T03:33:54.713Z</td><td>track</td><td>2025-05-06</td><td>3</td><td>3</td><td>5</td><td>2025</td></tr><tr><td>43d0998ef1dc5931754b53d697bd564a</td><td>703</td><td>amazon.com inc.</td><td>14618</td><td>ashburn</td><td>broadband</td><td>wired</td><td>NA</td><td>US</td><td>USA</td><td>united states</td><td>-400</td><td>39.03</td><td>-77.49</td><td>511</td><td>20147</td><td>cloud</td><td>hosting</td><td>VA</td><td>-400</td><td>iOS</td><td>com.Design-Menace.Barstool-Sports</td><td>60.0.3</td><td>podcast-episode-Tiu474zZunXBfkpXsKuxoarf</td><td>2224.274382407</td><td>ContentStarted</td><td></td><td>2025-05-06T03:34:05.547Z</td><td>track</td><td>2025-05-06</td><td>3</td><td>3</td><td>5</td><td>2025</td></tr><tr><td>9b0762121473fb74ccdd5cfb7cc451fa</td><td>317</td><td>metronet</td><td>30600</td><td>carmel</td><td>broadband</td><td>wifi</td><td>NA</td><td>US</td><td>USA</td><td>united states</td><td>-400</td><td>39.97</td><td>-86.06</td><td>527</td><td>46033</td><td>?</td><td>?</td><td>IN</td><td>-400</td><td>iOS</td><td>com.Design-Menace.Barstool-Sports</td><td>60.0.3</td><td>article-3544483</td><td>null</td><td>null</td><td>An Ex-CIA Scientist Tells Joe Rogan the US Has 'More Than 10' Recovered UFOs, Some of Which are 'Donations'</td><td>2025-05-06T03:34:26.046Z</td><td>page</td><td>2025-05-06</td><td>3</td><td>3</td><td>5</td><td>2025</td></tr><tr><td>8a5fc2881b56c115458627ea469f34ec</td><td>650</td><td>att enterprises llc</td><td>7018</td><td>redwood city</td><td>broadband</td><td>wifi</td><td>NA</td><td>US</td><td>USA</td><td>united states</td><td>-700</td><td>37.46</td><td>-122.23</td><td>807</td><td>94061</td><td>?</td><td>?</td><td>CA</td><td>-700</td><td>iOS</td><td>com.Design-Menace.Barstool-Sports</td><td>60.0.3</td><td>article-3544498</td><td>null</td><td>null</td><td>The Celtics Completely Choked Away Game 1 In Beyond Horrific Fashion</td><td>2025-05-06T03:35:17.429Z</td><td>page</td><td>2025-05-06</td><td>3</td><td>3</td><td>5</td><td>2025</td></tr><tr><td>fed8b7d2ca81768519127902a88b5666</td><td>248</td><td>wideopenwest finance llc</td><td>12083</td><td>troy</td><td>cable</td><td>wifi</td><td>NA</td><td>US</td><td>USA</td><td>united states</td><td>-400</td><td>42.6</td><td>-83.12</td><td>505</td><td>48085</td><td>?</td><td>?</td><td>MI</td><td>-400</td><td>iOS</td><td>com.Design-Menace.Barstool-Sports</td><td>60.0.3</td><td>article-3544468</td><td>null</td><td>null</td><td>A Former Bush Administration Official Said That The US Government has Spent TRILLIONS of Dollars Building Underground Cities and Systems of Tunnels In The Event Of An Apocalypse</td><td>2025-05-06T03:32:56.471Z</td><td>page</td><td>2025-05-06</td><td>3</td><td>3</td><td>5</td><td>2025</td></tr><tr><td>faa655f300efd292ef88da218c00a7b5</td><td>703</td><td>amazon.com inc.</td><td>14618</td><td>ashburn</td><td>broadband</td><td>wired</td><td>NA</td><td>US</td><td>USA</td><td>united states</td><td>-400</td><td>39.03</td><td>-77.49</td><td>511</td><td>20147</td><td>cloud</td><td>hosting</td><td>VA</td><td>-400</td><td>iOS</td><td>com.Design-Menace.Barstool-Sports</td><td>60.0.3</td><td>article-3391437</td><td>null</td><td>ContentStarted</td><td></td><td>2025-05-06T03:34:13.625Z</td><td>track</td><td>2025-05-06</td><td>3</td><td>3</td><td>5</td><td>2025</td></tr><tr><td>baf2e272b8b94f23427417f6744b66dc</td><td>612</td><td>comcast cable communications llc</td><td>7922</td><td>minneapolis</td><td>cable</td><td>wifi</td><td>NA</td><td>US</td><td>USA</td><td>united states</td><td>-500</td><td>45.0</td><td>-93.3</td><td>613</td><td>55411</td><td>?</td><td>?</td><td>MN</td><td>-500</td><td>iOS</td><td>com.Design-Menace.Barstool-Sports</td><td>60.0.3</td><td>article-3544468</td><td>null</td><td>null</td><td>A Former Bush Administration Official Said That The US Government has Spent TRILLIONS of Dollars Building Underground Cities and Systems of Tunnels In The Event Of An Apocalypse</td><td>2025-05-06T03:34:48.722Z</td><td>page</td><td>2025-05-06</td><td>3</td><td>3</td><td>5</td><td>2025</td></tr></tbody></table></div>"
      ]
     },
     "metadata": {
      "application/vnd.databricks.v1+output": {
       "addedWidgets": {},
       "aggData": [],
       "aggError": "",
       "aggOverflow": false,
       "aggSchema": [],
       "aggSeriesLimitReached": false,
       "aggType": "",
       "arguments": {},
       "columnCustomDisplayInfos": {},
       "data": [
        [
         "953e33302aba6c3e1e028e18ab9ec28e",
         952,
         "comcast cable communications llc",
         7922,
         "minnetonka",
         "cable",
         "wifi",
         "NA",
         "US",
         "USA",
         "united states",
         -500,
         44.92,
         -93.48,
         613,
         "55345",
         "?",
         "?",
         "MN",
         -500,
         "iOS",
         "com.Design-Menace.Barstool-Sports",
         "60.0.3",
         "article-3544478",
         null,
         null,
         "The Easton Dub Is the New Youth Baseball Bat Sweeping the Nation and It Seems Like It May Actually Be One of the GOATs",
         "2025-05-06T02:31:56.709Z",
         "page",
         "2025-05-06",
         2,
         3,
         5,
         2025
        ],
        [
         "b3e1d16f345f443b1686ec4bd35c0c97",
         703,
         "amazon.com inc.",
         14618,
         "ashburn",
         "broadband",
         "wired",
         "NA",
         "US",
         "USA",
         "united states",
         -400,
         39.03,
         -77.49,
         511,
         "20147",
         "cloud",
         "hosting",
         "VA",
         -400,
         "iOS",
         "com.Design-Menace.Barstool-Sports",
         "60.0.3",
         "viral-original-U1hSASkeqkYrrDAviUT61Z5D",
         0.0,
         "ContentStarted",
         "",
         "2025-05-06T02:32:25.703Z",
         "track",
         "2025-05-06",
         2,
         3,
         5,
         2025
        ],
        [
         "d404e5735bd46849285809e62d71efd2",
         703,
         "amazon.com inc.",
         14618,
         "ashburn",
         "broadband",
         "wired",
         "NA",
         "US",
         "USA",
         "united states",
         -400,
         39.03,
         -77.49,
         511,
         "20147",
         "cloud",
         "hosting",
         "VA",
         -400,
         "iOS",
         "com.Design-Menace.Barstool-Sports",
         "60.0.3",
         "viral-original-aScmLHvhad1E8KTdQoXbNDzD",
         0.0,
         "ContentStarted",
         "",
         "2025-05-06T02:33:01.076Z",
         "track",
         "2025-05-06",
         2,
         3,
         5,
         2025
        ],
        [
         "f8775432f5c9531f858cab342ea709a6",
         703,
         "amazon.com inc.",
         14618,
         "ashburn",
         "broadband",
         "wired",
         "NA",
         "US",
         "USA",
         "united states",
         -400,
         39.03,
         -77.49,
         511,
         "20147",
         "cloud",
         "hosting",
         "VA",
         -400,
         "iOS",
         "com.Design-Menace.Barstool-Sports",
         "60.0.3",
         "viral-original-wvAZOxIHCqfNzWKmTVBuc2jj",
         3.968261135,
         "ContentStarted",
         "",
         "2025-05-06T02:33:21.105Z",
         "track",
         "2025-05-06",
         2,
         3,
         5,
         2025
        ],
        [
         "1b513ebadcecc178dd96f07f197ff2ef",
         703,
         "amazon.com inc.",
         14618,
         "ashburn",
         "broadband",
         "wired",
         "NA",
         "US",
         "USA",
         "united states",
         -400,
         39.03,
         -77.49,
         511,
         "20147",
         "cloud",
         "hosting",
         "VA",
         -400,
         "iOS",
         "com.Design-Menace.Barstool-Sports",
         "60.0.3",
         "article-3544468",
         null,
         "ContentStarted",
         "",
         "2025-05-06T02:33:52.164Z",
         "track",
         "2025-05-06",
         2,
         3,
         5,
         2025
        ],
        [
         "6c665a3f27622f759f2e7747cc89c034",
         703,
         "amazon.com inc.",
         14618,
         "ashburn",
         "broadband",
         "wired",
         "NA",
         "US",
         "USA",
         "united states",
         -400,
         39.03,
         -77.49,
         511,
         "20147",
         "cloud",
         "hosting",
         "VA",
         -400,
         "iOS",
         "com.Design-Menace.Barstool-Sports",
         "60.0.3",
         "article-3544468",
         null,
         "ContentStarted",
         "",
         "2025-05-06T02:34:24.656Z",
         "track",
         "2025-05-06",
         2,
         3,
         5,
         2025
        ],
        [
         "e08b00ab61cee4c368c4bdbb7f047128",
         406,
         "charter communications llc",
         33588,
         "butte",
         "cable",
         "wifi",
         "NA",
         "US",
         "USA",
         "united states",
         -600,
         45.99,
         -112.5,
         754,
         "59701",
         "?",
         "?",
         "MT",
         -600,
         "iOS",
         "com.Design-Menace.Barstool-Sports",
         "60.0.3",
         "article-3544483",
         null,
         null,
         "An Ex-CIA Scientist Tells Joe Rogan the US Has 'More Than 10' Recovered UFOs, Some of Which are 'Donations'",
         "2025-05-06T02:34:33.171Z",
         "page",
         "2025-05-06",
         2,
         3,
         5,
         2025
        ],
        [
         "1cafe3c6a31670e12c327f6a92906025",
         703,
         "amazon.com inc.",
         14618,
         "ashburn",
         "broadband",
         "wired",
         "NA",
         "US",
         "USA",
         "united states",
         -400,
         39.03,
         -77.49,
         511,
         "20147",
         "cloud",
         "hosting",
         "VA",
         -400,
         "iOS",
         "com.Design-Menace.Barstool-Sports",
         "60.0.3",
         "article-3544455",
         null,
         "ContentStarted",
         "",
         "2025-05-06T02:34:48.170Z",
         "track",
         "2025-05-06",
         2,
         3,
         5,
         2025
        ],
        [
         "e265d62d6937f461626e951e25991bb2",
         0,
         "deutsche telekom ag",
         3320,
         "berlin",
         "broadband",
         "wifi",
         "EU",
         "DE",
         "DEU",
         "germany",
         200,
         52.53,
         13.38,
         276006,
         "10115",
         "?",
         "?",
         "BE",
         200,
         "iOS",
         "com.Design-Menace.Barstool-Sports",
         "60.0.3",
         "article-3544480",
         null,
         null,
         "Ben Affleck Confirmed His 'Armageddon' DVD Commentary Was The Best Work Of His Career, So Let's Give The Whole Thing A Listen Again",
         "2025-05-06T02:34:59.927Z",
         "page",
         "2025-05-06",
         2,
         3,
         5,
         2025
        ],
        [
         "5bad6ad2919480238ed6f83da0323db7",
         508,
         "comcast cable communications llc",
         7922,
         "brewster",
         "cable",
         "wifi",
         "NA",
         "US",
         "USA",
         "united states",
         -400,
         41.77,
         -70.04,
         506,
         "02631",
         "?",
         "?",
         "MA",
         -400,
         "iOS",
         "com.Design-Menace.Barstool-Sports",
         "60.0.3",
         "article-3544448",
         null,
         null,
         "I just got in a screaming match with ABC Philadelphia scumbag reporter who tried to blame me and Barstool and white men for the “Fuck the Jews” sign",
         "2025-05-06T02:35:54.095Z",
         "page",
         "2025-05-06",
         2,
         3,
         5,
         2025
        ],
        [
         "9c613e24f00389aa559b4061f2400736",
         703,
         "amazon.com inc.",
         14618,
         "ashburn",
         "broadband",
         "wired",
         "NA",
         "US",
         "USA",
         "united states",
         -400,
         39.03,
         -77.49,
         511,
         "20147",
         "cloud",
         "hosting",
         "VA",
         -400,
         "iOS",
         "com.Design-Menace.Barstool-Sports",
         "60.0.3",
         "article-3544458",
         null,
         "ContentStarted",
         "",
         "2025-05-06T02:36:42.056Z",
         "track",
         "2025-05-06",
         2,
         3,
         5,
         2025
        ],
        [
         "8665950fc2d5e17b1420dc333b084d93",
         703,
         "amazon.com inc.",
         14618,
         "ashburn",
         "broadband",
         "wired",
         "NA",
         "US",
         "USA",
         "united states",
         -400,
         39.03,
         -77.49,
         511,
         "20147",
         "cloud",
         "hosting",
         "VA",
         -400,
         "iOS",
         "com.Design-Menace.Barstool-Sports",
         "60.0.3",
         "article-3544468",
         null,
         "ContentStarted",
         "",
         "2025-05-06T03:31:56.088Z",
         "track",
         "2025-05-06",
         3,
         3,
         5,
         2025
        ],
        [
         "e6f1e5f09c543b16dcfaf0c79b2ee08c",
         513,
         "cincinnati bell telephone company llc",
         6181,
         "west chester",
         "cable",
         "wifi",
         "NA",
         "US",
         "USA",
         "united states",
         -400,
         39.34,
         -84.4,
         515,
         "45069",
         "?",
         "?",
         "OH",
         -400,
         "iOS",
         "com.Design-Menace.Barstool-Sports",
         "60.0.3",
         "article-3544499",
         null,
         null,
         "The Knicks March Into Boston, Steal Game 1 From The Celtics, And Prove They Can Beat Those Fucking Guys",
         "2025-05-06T03:33:32.778Z",
         "page",
         "2025-05-06",
         3,
         3,
         5,
         2025
        ],
        [
         "faa655f300efd292ef88da218c00a7b5",
         703,
         "amazon.com inc.",
         14618,
         "ashburn",
         "broadband",
         "wired",
         "NA",
         "US",
         "USA",
         "united states",
         -400,
         39.03,
         -77.49,
         511,
         "20147",
         "cloud",
         "hosting",
         "VA",
         -400,
         "iOS",
         "com.Design-Menace.Barstool-Sports",
         "60.0.3",
         "article-3441588",
         null,
         "ContentStarted",
         "",
         "2025-05-06T03:33:54.713Z",
         "track",
         "2025-05-06",
         3,
         3,
         5,
         2025
        ],
        [
         "43d0998ef1dc5931754b53d697bd564a",
         703,
         "amazon.com inc.",
         14618,
         "ashburn",
         "broadband",
         "wired",
         "NA",
         "US",
         "USA",
         "united states",
         -400,
         39.03,
         -77.49,
         511,
         "20147",
         "cloud",
         "hosting",
         "VA",
         -400,
         "iOS",
         "com.Design-Menace.Barstool-Sports",
         "60.0.3",
         "podcast-episode-Tiu474zZunXBfkpXsKuxoarf",
         2224.274382407,
         "ContentStarted",
         "",
         "2025-05-06T03:34:05.547Z",
         "track",
         "2025-05-06",
         3,
         3,
         5,
         2025
        ],
        [
         "9b0762121473fb74ccdd5cfb7cc451fa",
         317,
         "metronet",
         30600,
         "carmel",
         "broadband",
         "wifi",
         "NA",
         "US",
         "USA",
         "united states",
         -400,
         39.97,
         -86.06,
         527,
         "46033",
         "?",
         "?",
         "IN",
         -400,
         "iOS",
         "com.Design-Menace.Barstool-Sports",
         "60.0.3",
         "article-3544483",
         null,
         null,
         "An Ex-CIA Scientist Tells Joe Rogan the US Has 'More Than 10' Recovered UFOs, Some of Which are 'Donations'",
         "2025-05-06T03:34:26.046Z",
         "page",
         "2025-05-06",
         3,
         3,
         5,
         2025
        ],
        [
         "8a5fc2881b56c115458627ea469f34ec",
         650,
         "att enterprises llc",
         7018,
         "redwood city",
         "broadband",
         "wifi",
         "NA",
         "US",
         "USA",
         "united states",
         -700,
         37.46,
         -122.23,
         807,
         "94061",
         "?",
         "?",
         "CA",
         -700,
         "iOS",
         "com.Design-Menace.Barstool-Sports",
         "60.0.3",
         "article-3544498",
         null,
         null,
         "The Celtics Completely Choked Away Game 1 In Beyond Horrific Fashion",
         "2025-05-06T03:35:17.429Z",
         "page",
         "2025-05-06",
         3,
         3,
         5,
         2025
        ],
        [
         "fed8b7d2ca81768519127902a88b5666",
         248,
         "wideopenwest finance llc",
         12083,
         "troy",
         "cable",
         "wifi",
         "NA",
         "US",
         "USA",
         "united states",
         -400,
         42.6,
         -83.12,
         505,
         "48085",
         "?",
         "?",
         "MI",
         -400,
         "iOS",
         "com.Design-Menace.Barstool-Sports",
         "60.0.3",
         "article-3544468",
         null,
         null,
         "A Former Bush Administration Official Said That The US Government has Spent TRILLIONS of Dollars Building Underground Cities and Systems of Tunnels In The Event Of An Apocalypse",
         "2025-05-06T03:32:56.471Z",
         "page",
         "2025-05-06",
         3,
         3,
         5,
         2025
        ],
        [
         "faa655f300efd292ef88da218c00a7b5",
         703,
         "amazon.com inc.",
         14618,
         "ashburn",
         "broadband",
         "wired",
         "NA",
         "US",
         "USA",
         "united states",
         -400,
         39.03,
         -77.49,
         511,
         "20147",
         "cloud",
         "hosting",
         "VA",
         -400,
         "iOS",
         "com.Design-Menace.Barstool-Sports",
         "60.0.3",
         "article-3391437",
         null,
         "ContentStarted",
         "",
         "2025-05-06T03:34:13.625Z",
         "track",
         "2025-05-06",
         3,
         3,
         5,
         2025
        ],
        [
         "baf2e272b8b94f23427417f6744b66dc",
         612,
         "comcast cable communications llc",
         7922,
         "minneapolis",
         "cable",
         "wifi",
         "NA",
         "US",
         "USA",
         "united states",
         -500,
         45.0,
         -93.3,
         613,
         "55411",
         "?",
         "?",
         "MN",
         -500,
         "iOS",
         "com.Design-Menace.Barstool-Sports",
         "60.0.3",
         "article-3544468",
         null,
         null,
         "A Former Bush Administration Official Said That The US Government has Spent TRILLIONS of Dollars Building Underground Cities and Systems of Tunnels In The Event Of An Apocalypse",
         "2025-05-06T03:34:48.722Z",
         "page",
         "2025-05-06",
         3,
         3,
         5,
         2025
        ]
       ],
       "datasetInfos": [],
       "dbfsResultPath": null,
       "isJsonSchema": true,
       "metadata": {},
       "overflow": false,
       "plotOptions": {
        "customPlotOptions": {},
        "displayType": "table",
        "pivotAggregation": null,
        "pivotColumns": null,
        "xColumns": null,
        "yColumns": null
       },
       "removedWidgets": [],
       "schema": [
        {
         "metadata": "{}",
         "name": "ANONID",
         "type": "\"string\""
        },
        {
         "metadata": "{}",
         "name": "geo_area_code",
         "type": "\"long\""
        },
        {
         "metadata": "{}",
         "name": "geo_as_name",
         "type": "\"string\""
        },
        {
         "metadata": "{}",
         "name": "geo_as_number",
         "type": "\"long\""
        },
        {
         "metadata": "{}",
         "name": "geo_city",
         "type": "\"string\""
        },
        {
         "metadata": "{}",
         "name": "geo_conn_speed",
         "type": "\"string\""
        },
        {
         "metadata": "{}",
         "name": "geo_conn_type",
         "type": "\"string\""
        },
        {
         "metadata": "{}",
         "name": "geo_continent",
         "type": "\"string\""
        },
        {
         "metadata": "{}",
         "name": "geo_country_code",
         "type": "\"string\""
        },
        {
         "metadata": "{}",
         "name": "geo_country_code3",
         "type": "\"string\""
        },
        {
         "metadata": "{}",
         "name": "geo_country_name",
         "type": "\"string\""
        },
        {
         "metadata": "{}",
         "name": "geo_gmt_offset",
         "type": "\"long\""
        },
        {
         "metadata": "{}",
         "name": "geo_latitude",
         "type": "\"double\""
        },
        {
         "metadata": "{}",
         "name": "geo_longitude",
         "type": "\"double\""
        },
        {
         "metadata": "{}",
         "name": "geo_metro_code",
         "type": "\"long\""
        },
        {
         "metadata": "{}",
         "name": "geo_postal_code",
         "type": "\"string\""
        },
        {
         "metadata": "{}",
         "name": "geo_proxy_description",
         "type": "\"string\""
        },
        {
         "metadata": "{}",
         "name": "geo_proxy_type",
         "type": "\"string\""
        },
        {
         "metadata": "{}",
         "name": "geo_region",
         "type": "\"string\""
        },
        {
         "metadata": "{}",
         "name": "geo_utc_offset",
         "type": "\"long\""
        },
        {
         "metadata": "{}",
         "name": "app_os",
         "type": "\"string\""
        },
        {
         "metadata": "{}",
         "name": "app_title",
         "type": "\"string\""
        },
        {
         "metadata": "{}",
         "name": "app_version",
         "type": "\"string\""
        },
        {
         "metadata": "{}",
         "name": "content_id",
         "type": "\"string\""
        },
        {
         "metadata": "{}",
         "name": "content_duration",
         "type": "\"double\""
        },
        {
         "metadata": "{}",
         "name": "event_name",
         "type": "\"string\""
        },
        {
         "metadata": "{}",
         "name": "page_title",
         "type": "\"string\""
        },
        {
         "metadata": "{}",
         "name": "event_timestamp",
         "type": "\"string\""
        },
        {
         "metadata": "{}",
         "name": "event_type",
         "type": "\"string\""
        },
        {
         "metadata": "{}",
         "name": "event_date",
         "type": "\"date\""
        },
        {
         "metadata": "{}",
         "name": "event_hour",
         "type": "\"integer\""
        },
        {
         "metadata": "{}",
         "name": "event_day",
         "type": "\"integer\""
        },
        {
         "metadata": "{}",
         "name": "event_month",
         "type": "\"integer\""
        },
        {
         "metadata": "{}",
         "name": "event_year",
         "type": "\"integer\""
        }
       ],
       "type": "table"
      }
     },
     "output_type": "display_data"
    }
   ],
   "source": [
    "display(events_flattened_silver.limit(0))"
   ]
  },
  {
   "cell_type": "markdown",
   "metadata": {
    "application/vnd.databricks.v1+cell": {
     "cellMetadata": {
      "byteLimit": 2048000,
      "rowLimit": 10000
     },
     "inputWidgets": {},
     "nuid": "282eb186-17af-44b7-a9fa-34593f055437",
     "showTitle": false,
     "tableResultSettingsMap": {},
     "title": ""
    }
   },
   "source": [
    "`-------------------------------------------------------------------------------------------------------------------------------------------------------------------------------------------`\n"
   ]
  },
  {
   "cell_type": "markdown",
   "metadata": {
    "application/vnd.databricks.v1+cell": {
     "cellMetadata": {
      "byteLimit": 2048000,
      "rowLimit": 10000
     },
     "inputWidgets": {},
     "nuid": "38406713-1083-4ef2-8d8e-8dc50f67ab7f",
     "showTitle": false,
     "tableResultSettingsMap": {},
     "title": ""
    }
   },
   "source": [
    "### 6. Modelling consumption(gold) table"
   ]
  },
  {
   "cell_type": "markdown",
   "metadata": {
    "application/vnd.databricks.v1+cell": {
     "cellMetadata": {
      "byteLimit": 2048000,
      "rowLimit": 10000
     },
     "inputWidgets": {},
     "nuid": "9beec23c-b178-4791-a4c7-86d30edd6488",
     "showTitle": false,
     "tableResultSettingsMap": {},
     "title": ""
    }
   },
   "source": [
    "Joining talent_dim, franchise_dim with content_dim, which will be joined with events_flattened_silver to make it consumption table.\n",
    "\n",
    "\n",
    "\n",
    "Logic - \n",
    "- Exploding Talent_ids column to explode into seprate rows for each talent_id\n",
    "- join content_dim.talent_id = talent_dim._ID\n",
    "- join content_dim.franchise = franchise_dim._ID\n",
    "- Group back to get all talents as an array of structs"
   ]
  },
  {
   "cell_type": "code",
   "execution_count": 0,
   "metadata": {
    "application/vnd.databricks.v1+cell": {
     "cellMetadata": {
      "byteLimit": 2048000,
      "rowLimit": 10000
     },
     "inputWidgets": {},
     "nuid": "e10b8aa4-a2f6-43d8-acae-3bc95a65aea9",
     "showTitle": false,
     "tableResultSettingsMap": {},
     "title": ""
    }
   },
   "outputs": [],
   "source": [
    "from pyspark.sql.functions import col, explode_outer, struct, collect_list\n",
    "\n",
    "# to avoid ambiguity\n",
    "clean_content_alias = contents_silver.alias(\"cc\")\n",
    "talent_dim_alias = talent_dim.alias(\"td\")\n",
    "franchise_dim_alias = franchise_dim.alias(\"fd\")\n",
    "\n",
    "# Join content with talent dimension and franchise dimension\n",
    "content_with_talent_franchise = clean_content_alias.withColumn(\n",
    "    \"talent_id\", explode_outer(col(\"cc.TALENT\")) # Use alias for TALENT column\n",
    ").join(\n",
    "    talent_dim_alias,\n",
    "    col(\"talent_id\") == col(\"td._ID\"), # Qualify with alias 'td'\n",
    "    \"left\"\n",
    ").join(\n",
    "    franchise_dim_alias,\n",
    "    col(\"franchise\") == col(\"fd._ID\"), # Qualify with alias 'fd'\n",
    "    \"left\"\n",
    ").select(\n",
    "    # Select all columns from the original clean_content_df\n",
    "    col(\"cc.*\"),\n",
    "    # Qualify all selected columns with their aliases\n",
    "    col(\"td.NAME\").alias(\"talent_name\"),\n",
    "    col(\"td.SHORT_NAME\").alias(\"talent_short_name\"),\n",
    "    col(\"fd.NAME\").alias(\"franchise_name\"),\n",
    "    col(\"fd.SHORT_NAME\").alias(\"franchise_short_name\")\n",
    ")\n",
    "\n"
   ]
  },
  {
   "cell_type": "code",
   "execution_count": 0,
   "metadata": {
    "application/vnd.databricks.v1+cell": {
     "cellMetadata": {
      "byteLimit": 2048000,
      "rowLimit": 10000
     },
     "inputWidgets": {},
     "nuid": "0e48ffa9-ae4b-4314-9ad2-fe0d879e0ad5",
     "showTitle": false,
     "tableResultSettingsMap": {},
     "title": ""
    }
   },
   "outputs": [],
   "source": [
    "# Group back to get all talents as an array of structs\n",
    "grouping_columns = [col(c) for c in contents_silver.columns]\n",
    "content_with_all_talent_franchise = content_with_talent_franchise.groupBy(\n",
    "    grouping_columns\n",
    ").agg(\n",
    "    # Aggregating talent details, using array_distinct\n",
    "    array_distinct(collect_list(\n",
    "        struct(\n",
    "            col(\"talent_name\"),\n",
    "            col(\"talent_short_name\")\n",
    "        )\n",
    "    )).alias(\"talent_details\"),\n",
    "\n",
    "    # Aggregating franchise details, using array_distinct\n",
    "    array_distinct(collect_list(\n",
    "        struct(\n",
    "            col(\"franchise_name\"),\n",
    "            col(\"franchise_short_name\")\n",
    "        )\n",
    "    )).alias(\"franchise_details\")\n",
    ")"
   ]
  },
  {
   "cell_type": "markdown",
   "metadata": {
    "application/vnd.databricks.v1+cell": {
     "cellMetadata": {
      "byteLimit": 2048000,
      "rowLimit": 10000
     },
     "inputWidgets": {},
     "nuid": "04d29468-9bea-4108-9410-47a474af18fa",
     "showTitle": false,
     "tableResultSettingsMap": {},
     "title": ""
    }
   },
   "source": [
    "\n",
    "\n",
    "Joining **content_with_all_talent_franchise** with **events_flattened**  on **content_id**"
   ]
  },
  {
   "cell_type": "code",
   "execution_count": 0,
   "metadata": {
    "application/vnd.databricks.v1+cell": {
     "cellMetadata": {
      "byteLimit": 2048000,
      "rowLimit": 10000
     },
     "inputWidgets": {},
     "nuid": "aceb703d-a6b2-4f2f-86ef-c4bf6834c958",
     "showTitle": false,
     "tableResultSettingsMap": {},
     "title": ""
    }
   },
   "outputs": [],
   "source": [
    "# Final analytical model\n",
    "complete_model = events_flattened_silver.join(\n",
    "    content_with_all_talent_franchise,\n",
    "    events_flattened_silver.content_id == content_with_all_talent_franchise.content_id\n",
    ")\n",
    "complete_model = complete_model.drop(content_with_all_talent_franchise.content_id)\n",
    "#complete_model.printSchema()"
   ]
  },
  {
   "cell_type": "code",
   "execution_count": 0,
   "metadata": {
    "application/vnd.databricks.v1+cell": {
     "cellMetadata": {
      "byteLimit": 2048000,
      "rowLimit": 10000
     },
     "inputWidgets": {},
     "nuid": "b8059c19-d9ff-42df-a440-6ec9f000cf82",
     "showTitle": false,
     "tableResultSettingsMap": {},
     "title": ""
    }
   },
   "outputs": [],
   "source": [
    "consumption_events_logs = (\n",
    "    complete_model.select(\n",
    "        col(\"ANONID\").alias(\"anon_id\"),\n",
    "        col(\"content_id\"),          \n",
    "        col(\"content_title\"),\n",
    "        col(\"content_type\"),\n",
    "        col(\"content_duration\"),\n",
    "        col(\"share_url\"),\n",
    "        col(\"tags\"),\n",
    "        col(\"talent\"),\n",
    "        col(\"franchise\"),\n",
    "        col(\"published_at\").alias(\"published_at\"),\n",
    "        col(\"talent_details\"),\n",
    "        col(\"franchise_details\"),\n",
    "        col(\"event_name\"),\n",
    "        col(\"event_timestamp\"),\n",
    "        col(\"event_type\"),\n",
    "        col(\"event_date\"),\n",
    "        col(\"event_month\"),\n",
    "        col(\"event_year\"),\n",
    "        col(\"event_hour\"),\n",
    "        col(\"event_day\"),\n",
    "        col(\"page_title\"),\n",
    "        col(\"geo_area_code\"),\n",
    "        col(\"geo_city\"),\n",
    "        col(\"geo_country_code\"),\n",
    "        col(\"geo_country_code3\"),\n",
    "        col(\"geo_postal_code\"),\n",
    "        col(\"geo_region\"),\n",
    "        col(\"app_os\"),\n",
    "        col(\"app_version\")\n",
    "    )\n",
    ")"
   ]
  },
  {
   "cell_type": "code",
   "execution_count": 0,
   "metadata": {
    "application/vnd.databricks.v1+cell": {
     "cellMetadata": {
      "byteLimit": 2048000,
      "rowLimit": 10000
     },
     "inputWidgets": {},
     "nuid": "5d45bdbd-d878-4bb0-907f-032833389672",
     "showTitle": false,
     "tableResultSettingsMap": {},
     "title": ""
    }
   },
   "outputs": [
    {
     "output_type": "stream",
     "name": "stdout",
     "output_type": "stream",
     "text": [
      "Out[116]: 93415"
     ]
    }
   ],
   "source": [
    "consumption_events_logs.count()"
   ]
  },
  {
   "cell_type": "markdown",
   "metadata": {
    "application/vnd.databricks.v1+cell": {
     "cellMetadata": {},
     "inputWidgets": {},
     "nuid": "a38033bb-4aba-4128-85aa-b562abf1d2af",
     "showTitle": false,
     "tableResultSettingsMap": {},
     "title": ""
    }
   },
   "source": [
    "### Final Table"
   ]
  },
  {
   "cell_type": "code",
   "execution_count": 0,
   "metadata": {
    "application/vnd.databricks.v1+cell": {
     "cellMetadata": {
      "byteLimit": 2048000,
      "rowLimit": 10000
     },
     "inputWidgets": {},
     "nuid": "85587a5f-8e61-4210-8d97-9074afb2edc6",
     "showTitle": false,
     "tableResultSettingsMap": {
      "0": {
       "dataGridStateBlob": null,
       "filterBlob": "{\"filterGroups\":[],\"syncTimestamp\":1747867016188}",
       "queryPlanFiltersBlob": null,
       "tableResultIndex": 0
      }
     },
     "title": ""
    }
   },
   "outputs": [
    {
     "output_type": "display_data",
     "data": {
      "text/html": [
       "<style scoped>\n",
       "  .table-result-container {\n",
       "    max-height: 300px;\n",
       "    overflow: auto;\n",
       "  }\n",
       "  table, th, td {\n",
       "    border: 1px solid black;\n",
       "    border-collapse: collapse;\n",
       "  }\n",
       "  th, td {\n",
       "    padding: 5px;\n",
       "  }\n",
       "  th {\n",
       "    text-align: left;\n",
       "  }\n",
       "</style><div class='table-result-container'><table class='table-result'><thead style='background-color: white'><tr><th>anon_id</th><th>content_id</th><th>content_title</th><th>content_type</th><th>content_duration</th><th>share_url</th><th>tags</th><th>talent</th><th>franchise</th><th>published_at</th><th>talent_details</th><th>franchise_details</th><th>event_name</th><th>event_timestamp</th><th>event_type</th><th>event_date</th><th>event_month</th><th>event_year</th><th>event_hour</th><th>event_day</th><th>page_title</th><th>geo_area_code</th><th>geo_city</th><th>geo_country_code</th><th>geo_country_code3</th><th>geo_postal_code</th><th>geo_region</th><th>app_os</th><th>app_version</th></tr></thead><tbody><tr><td>df5872a8b302aa5982907a456761faa0</td><td>viral-ugc-LWLSI2y6366AVa6Mvbyu5c51</td><td>ja3scobr</td><td>viral-ugc</td><td>0.0</td><td>https://s.barstool.link/c/viral-ugc-LWLSI2y6366AVa6Mvbyu5c51</td><td>List()</td><td>List()</td><td>83</td><td>2025-03-28T19:08:36.748+0000</td><td>List(List(null, null))</td><td>List(List(null, null))</td><td>ContentStarted</td><td>2025-05-06T02:33:48.388Z</td><td>track</td><td>2025-05-06</td><td>5</td><td>2025</td><td>2</td><td>3</td><td></td><td>703</td><td>ashburn</td><td>US</td><td>USA</td><td>20147</td><td>VA</td><td>iOS</td><td>60.0.3</td></tr><tr><td>1da5aa3be1c46cdf400c2d62f86d46ed</td><td>viral-ugc-LWLSI2y6366AVa6Mvbyu5c51</td><td>ja3scobr</td><td>viral-ugc</td><td>0.0</td><td>https://s.barstool.link/c/viral-ugc-LWLSI2y6366AVa6Mvbyu5c51</td><td>List()</td><td>List()</td><td>83</td><td>2025-03-28T19:08:36.748+0000</td><td>List(List(null, null))</td><td>List(List(null, null))</td><td>ContentStarted</td><td>2025-05-06T03:46:00.659Z</td><td>track</td><td>2025-05-06</td><td>5</td><td>2025</td><td>3</td><td>3</td><td></td><td>703</td><td>ashburn</td><td>US</td><td>USA</td><td>20147</td><td>VA</td><td>iOS</td><td>60.0.3</td></tr><tr><td>9a97eca68687abec9b8406db737542b8</td><td>viral-ugc-LWLSI2y6366AVa6Mvbyu5c51</td><td>ja3scobr</td><td>viral-ugc</td><td>null</td><td>https://s.barstool.link/c/viral-ugc-LWLSI2y6366AVa6Mvbyu5c51</td><td>List()</td><td>List()</td><td>83</td><td>2025-03-28T19:08:36.748+0000</td><td>List(List(null, null))</td><td>List(List(null, null))</td><td>ContentCompleted</td><td>2025-05-06T03:38:13.360Z</td><td>track</td><td>2025-05-06</td><td>5</td><td>2025</td><td>3</td><td>3</td><td></td><td>703</td><td>ashburn</td><td>US</td><td>USA</td><td>20147</td><td>VA</td><td>iOS</td><td>60.0.3</td></tr><tr><td>9a97eca68687abec9b8406db737542b8</td><td>viral-ugc-LWLSI2y6366AVa6Mvbyu5c51</td><td>ja3scobr</td><td>viral-ugc</td><td>null</td><td>https://s.barstool.link/c/viral-ugc-LWLSI2y6366AVa6Mvbyu5c51</td><td>List()</td><td>List()</td><td>83</td><td>2025-03-28T19:08:36.748+0000</td><td>List(List(null, null))</td><td>List(List(null, null))</td><td>ContentCompleted</td><td>2025-05-06T03:38:13.472Z</td><td>track</td><td>2025-05-06</td><td>5</td><td>2025</td><td>3</td><td>3</td><td></td><td>703</td><td>ashburn</td><td>US</td><td>USA</td><td>20147</td><td>VA</td><td>iOS</td><td>60.0.3</td></tr><tr><td>c3b3a5fb16ba506cd39bd44c520948aa</td><td>viral-ugc-LWLSI2y6366AVa6Mvbyu5c51</td><td>ja3scobr</td><td>viral-ugc</td><td>0.0</td><td>https://s.barstool.link/c/viral-ugc-LWLSI2y6366AVa6Mvbyu5c51</td><td>List()</td><td>List()</td><td>83</td><td>2025-03-28T19:08:36.748+0000</td><td>List(List(null, null))</td><td>List(List(null, null))</td><td>ContentStarted</td><td>2025-05-05T10:53:31.202Z</td><td>track</td><td>2025-05-05</td><td>5</td><td>2025</td><td>10</td><td>2</td><td></td><td>703</td><td>ashburn</td><td>US</td><td>USA</td><td>20147</td><td>VA</td><td>iOS</td><td>60.0.3</td></tr><tr><td>672fc7f6dcbd53c5421538cbd0e4fd49</td><td>viral-ugc-LWLSI2y6366AVa6Mvbyu5c51</td><td>ja3scobr</td><td>viral-ugc</td><td>0.0</td><td>https://s.barstool.link/c/viral-ugc-LWLSI2y6366AVa6Mvbyu5c51</td><td>List()</td><td>List()</td><td>83</td><td>2025-03-28T19:08:36.748+0000</td><td>List(List(null, null))</td><td>List(List(null, null))</td><td>ContentStarted</td><td>2025-05-05T12:03:04.137Z</td><td>track</td><td>2025-05-05</td><td>5</td><td>2025</td><td>12</td><td>2</td><td></td><td>703</td><td>ashburn</td><td>US</td><td>USA</td><td>20147</td><td>VA</td><td>iOS</td><td>60.0.3</td></tr><tr><td>4d3387e1b96030a6c4c59b398f24f35c</td><td>viral-original-SAgRt5xBCx201ooxB5VXAQl8</td><td>Rory Wins 2025 Masters In Wild Fashion</td><td>viral-original</td><td>0.0</td><td>https://s.barstool.link/c/viral-original-SAgRt5xBCx201ooxB5VXAQl8</td><td>List()</td><td>List()</td><td>5</td><td>2025-04-14T09:15:33.299+0000</td><td>List(List(null, null))</td><td>List(List(Fore Play, Fore Play))</td><td>ContentStarted</td><td>2025-05-05T13:42:20.820Z</td><td>track</td><td>2025-05-05</td><td>5</td><td>2025</td><td>13</td><td>2</td><td></td><td>703</td><td>ashburn</td><td>US</td><td>USA</td><td>20147</td><td>VA</td><td>iOS</td><td>60.0.3</td></tr><tr><td>47bb5be8a5bd70059e4c7eb59e175aee</td><td>viral-ugc-LWLSI2y6366AVa6Mvbyu5c51</td><td>ja3scobr</td><td>viral-ugc</td><td>null</td><td>https://s.barstool.link/c/viral-ugc-LWLSI2y6366AVa6Mvbyu5c51</td><td>List()</td><td>List()</td><td>83</td><td>2025-03-28T19:08:36.748+0000</td><td>List(List(null, null))</td><td>List(List(null, null))</td><td>ContentCompleted</td><td>2025-05-05T15:32:11.564Z</td><td>track</td><td>2025-05-05</td><td>5</td><td>2025</td><td>15</td><td>2</td><td></td><td>703</td><td>ashburn</td><td>US</td><td>USA</td><td>20147</td><td>VA</td><td>iOS</td><td>60.0.3</td></tr><tr><td>b2b0606a73221a34f9a5fa0f3a230d22</td><td>viral-ugc-LWLSI2y6366AVa6Mvbyu5c51</td><td>ja3scobr</td><td>viral-ugc</td><td>0.0</td><td>https://s.barstool.link/c/viral-ugc-LWLSI2y6366AVa6Mvbyu5c51</td><td>List()</td><td>List()</td><td>83</td><td>2025-03-28T19:08:36.748+0000</td><td>List(List(null, null))</td><td>List(List(null, null))</td><td>ContentStarted</td><td>2025-05-05T15:50:34.645Z</td><td>track</td><td>2025-05-05</td><td>5</td><td>2025</td><td>15</td><td>2</td><td></td><td>703</td><td>ashburn</td><td>US</td><td>USA</td><td>20147</td><td>VA</td><td>iOS</td><td>60.0.3</td></tr><tr><td>2ac9ad800adb64b770bed5327ce2daab</td><td>viral-ugc-LWLSI2y6366AVa6Mvbyu5c51</td><td>ja3scobr</td><td>viral-ugc</td><td>null</td><td>https://s.barstool.link/c/viral-ugc-LWLSI2y6366AVa6Mvbyu5c51</td><td>List()</td><td>List()</td><td>83</td><td>2025-03-28T19:08:36.748+0000</td><td>List(List(null, null))</td><td>List(List(null, null))</td><td>ContentCompleted</td><td>2025-05-05T10:01:21.868Z</td><td>track</td><td>2025-05-05</td><td>5</td><td>2025</td><td>10</td><td>2</td><td></td><td>703</td><td>ashburn</td><td>US</td><td>USA</td><td>20147</td><td>VA</td><td>iOS</td><td>60.0.3</td></tr><tr><td>49ad77d5cccf4873473d2cf8c107b602</td><td>viral-ugc-LWLSI2y6366AVa6Mvbyu5c51</td><td>ja3scobr</td><td>viral-ugc</td><td>0.0</td><td>https://s.barstool.link/c/viral-ugc-LWLSI2y6366AVa6Mvbyu5c51</td><td>List()</td><td>List()</td><td>83</td><td>2025-03-28T19:08:36.748+0000</td><td>List(List(null, null))</td><td>List(List(null, null))</td><td>ContentStarted</td><td>2025-05-05T16:54:56.152Z</td><td>track</td><td>2025-05-05</td><td>5</td><td>2025</td><td>16</td><td>2</td><td></td><td>703</td><td>ashburn</td><td>US</td><td>USA</td><td>20147</td><td>VA</td><td>iOS</td><td>60.0.3</td></tr><tr><td>e730cfc3de4925bffc00837404321777</td><td>viral-ugc-LWLSI2y6366AVa6Mvbyu5c51</td><td>ja3scobr</td><td>viral-ugc</td><td>null</td><td>https://s.barstool.link/c/viral-ugc-LWLSI2y6366AVa6Mvbyu5c51</td><td>List()</td><td>List()</td><td>83</td><td>2025-03-28T19:08:36.748+0000</td><td>List(List(null, null))</td><td>List(List(null, null))</td><td>ContentCompleted</td><td>2025-05-05T17:41:57.909Z</td><td>track</td><td>2025-05-05</td><td>5</td><td>2025</td><td>17</td><td>2</td><td></td><td>703</td><td>ashburn</td><td>US</td><td>USA</td><td>20147</td><td>VA</td><td>iOS</td><td>60.0.3</td></tr><tr><td>e730cfc3de4925bffc00837404321777</td><td>viral-ugc-LWLSI2y6366AVa6Mvbyu5c51</td><td>ja3scobr</td><td>viral-ugc</td><td>0.0</td><td>https://s.barstool.link/c/viral-ugc-LWLSI2y6366AVa6Mvbyu5c51</td><td>List()</td><td>List()</td><td>83</td><td>2025-03-28T19:08:36.748+0000</td><td>List(List(null, null))</td><td>List(List(null, null))</td><td>ContentStarted</td><td>2025-05-05T17:41:51.218Z</td><td>track</td><td>2025-05-05</td><td>5</td><td>2025</td><td>17</td><td>2</td><td></td><td>703</td><td>ashburn</td><td>US</td><td>USA</td><td>20147</td><td>VA</td><td>iOS</td><td>60.0.3</td></tr><tr><td>49ad77d5cccf4873473d2cf8c107b602</td><td>viral-ugc-LWLSI2y6366AVa6Mvbyu5c51</td><td>ja3scobr</td><td>viral-ugc</td><td>null</td><td>https://s.barstool.link/c/viral-ugc-LWLSI2y6366AVa6Mvbyu5c51</td><td>List()</td><td>List()</td><td>83</td><td>2025-03-28T19:08:36.748+0000</td><td>List(List(null, null))</td><td>List(List(null, null))</td><td>ContentCompleted</td><td>2025-05-05T16:55:02.286Z</td><td>track</td><td>2025-05-05</td><td>5</td><td>2025</td><td>16</td><td>2</td><td></td><td>703</td><td>ashburn</td><td>US</td><td>USA</td><td>20147</td><td>VA</td><td>iOS</td><td>60.0.3</td></tr><tr><td>a02310a76c3b4cc46638359abdcc1f7b</td><td>viral-ugc-LWLSI2y6366AVa6Mvbyu5c51</td><td>ja3scobr</td><td>viral-ugc</td><td>null</td><td>https://s.barstool.link/c/viral-ugc-LWLSI2y6366AVa6Mvbyu5c51</td><td>List()</td><td>List()</td><td>83</td><td>2025-03-28T19:08:36.748+0000</td><td>List(List(null, null))</td><td>List(List(null, null))</td><td>ContentCompleted</td><td>2025-05-05T14:04:51.063Z</td><td>track</td><td>2025-05-05</td><td>5</td><td>2025</td><td>14</td><td>2</td><td></td><td>703</td><td>ashburn</td><td>US</td><td>USA</td><td>20147</td><td>VA</td><td>iOS</td><td>60.0.3</td></tr><tr><td>1dbf21107ddd6b119a6a17b34fec993e</td><td>viral-ugc-LWLSI2y6366AVa6Mvbyu5c51</td><td>ja3scobr</td><td>viral-ugc</td><td>null</td><td>https://s.barstool.link/c/viral-ugc-LWLSI2y6366AVa6Mvbyu5c51</td><td>List()</td><td>List()</td><td>83</td><td>2025-03-28T19:08:36.748+0000</td><td>List(List(null, null))</td><td>List(List(null, null))</td><td>ContentCompleted</td><td>2025-05-05T17:44:34.414Z</td><td>track</td><td>2025-05-05</td><td>5</td><td>2025</td><td>17</td><td>2</td><td></td><td>703</td><td>ashburn</td><td>US</td><td>USA</td><td>20147</td><td>VA</td><td>iOS</td><td>60.0.3</td></tr><tr><td>8ba58642535013526bf423a82a98457b</td><td>viral-ugc-LWLSI2y6366AVa6Mvbyu5c51</td><td>ja3scobr</td><td>viral-ugc</td><td>0.0</td><td>https://s.barstool.link/c/viral-ugc-LWLSI2y6366AVa6Mvbyu5c51</td><td>List()</td><td>List()</td><td>83</td><td>2025-03-28T19:08:36.748+0000</td><td>List(List(null, null))</td><td>List(List(null, null))</td><td>ContentStarted</td><td>2025-05-05T19:14:30.412Z</td><td>track</td><td>2025-05-05</td><td>5</td><td>2025</td><td>19</td><td>2</td><td></td><td>703</td><td>ashburn</td><td>US</td><td>USA</td><td>20147</td><td>VA</td><td>iOS</td><td>60.0.3</td></tr><tr><td>8ba58642535013526bf423a82a98457b</td><td>viral-ugc-LWLSI2y6366AVa6Mvbyu5c51</td><td>ja3scobr</td><td>viral-ugc</td><td>null</td><td>https://s.barstool.link/c/viral-ugc-LWLSI2y6366AVa6Mvbyu5c51</td><td>List()</td><td>List()</td><td>83</td><td>2025-03-28T19:08:36.748+0000</td><td>List(List(null, null))</td><td>List(List(null, null))</td><td>ContentCompleted</td><td>2025-05-05T19:14:36.646Z</td><td>track</td><td>2025-05-05</td><td>5</td><td>2025</td><td>19</td><td>2</td><td></td><td>703</td><td>ashburn</td><td>US</td><td>USA</td><td>20147</td><td>VA</td><td>iOS</td><td>60.0.3</td></tr><tr><td>796bb8465307654addd3864b5d733c28</td><td>gallery-3524750</td><td>Barstool Chicago's Local Smokeshow Of The Day - Kelli</td><td>gallery</td><td>null</td><td>https://s.barstool.link/c/gallery-3524750</td><td>List(nsfw, chicago, kelli, smokeshow)</td><td>List(82950151)</td><td>61</td><td>2024-09-10T22:10:00.000+0000</td><td>List(List(Eddie, Eddie))</td><td>List(List(Barstool Chicago, Chicago))</td><td>null</td><td>2025-05-05T10:46:46.269Z</td><td>page</td><td>2025-05-05</td><td>5</td><td>2025</td><td>10</td><td>2</td><td>Barstool Chicago's Local Smokeshow Of The Day - Kelli</td><td>508</td><td>brewster</td><td>US</td><td>USA</td><td>02631</td><td>MA</td><td>iOS</td><td>60.0.3</td></tr><tr><td>2ba1604e47a77fe4aa95946cb343d151</td><td>viral-ugc-LWLSI2y6366AVa6Mvbyu5c51</td><td>ja3scobr</td><td>viral-ugc</td><td>0.0</td><td>https://s.barstool.link/c/viral-ugc-LWLSI2y6366AVa6Mvbyu5c51</td><td>List()</td><td>List()</td><td>83</td><td>2025-03-28T19:08:36.748+0000</td><td>List(List(null, null))</td><td>List(List(null, null))</td><td>ContentStarted</td><td>2025-05-05T11:03:42.245Z</td><td>track</td><td>2025-05-05</td><td>5</td><td>2025</td><td>11</td><td>2</td><td></td><td>703</td><td>ashburn</td><td>US</td><td>USA</td><td>20147</td><td>VA</td><td>iOS</td><td>60.0.3</td></tr></tbody></table></div>"
      ]
     },
     "metadata": {
      "application/vnd.databricks.v1+output": {
       "addedWidgets": {},
       "aggData": [],
       "aggError": "",
       "aggOverflow": false,
       "aggSchema": [],
       "aggSeriesLimitReached": false,
       "aggType": "",
       "arguments": {},
       "columnCustomDisplayInfos": {},
       "data": [
        [
         "df5872a8b302aa5982907a456761faa0",
         "viral-ugc-LWLSI2y6366AVa6Mvbyu5c51",
         "ja3scobr",
         "viral-ugc",
         0.0,
         "https://s.barstool.link/c/viral-ugc-LWLSI2y6366AVa6Mvbyu5c51",
         [],
         [],
         "83",
         "2025-03-28T19:08:36.748+0000",
         [
          [
           null,
           null
          ]
         ],
         [
          [
           null,
           null
          ]
         ],
         "ContentStarted",
         "2025-05-06T02:33:48.388Z",
         "track",
         "2025-05-06",
         5,
         2025,
         2,
         3,
         "",
         703,
         "ashburn",
         "US",
         "USA",
         "20147",
         "VA",
         "iOS",
         "60.0.3"
        ],
        [
         "1da5aa3be1c46cdf400c2d62f86d46ed",
         "viral-ugc-LWLSI2y6366AVa6Mvbyu5c51",
         "ja3scobr",
         "viral-ugc",
         0.0,
         "https://s.barstool.link/c/viral-ugc-LWLSI2y6366AVa6Mvbyu5c51",
         [],
         [],
         "83",
         "2025-03-28T19:08:36.748+0000",
         [
          [
           null,
           null
          ]
         ],
         [
          [
           null,
           null
          ]
         ],
         "ContentStarted",
         "2025-05-06T03:46:00.659Z",
         "track",
         "2025-05-06",
         5,
         2025,
         3,
         3,
         "",
         703,
         "ashburn",
         "US",
         "USA",
         "20147",
         "VA",
         "iOS",
         "60.0.3"
        ],
        [
         "9a97eca68687abec9b8406db737542b8",
         "viral-ugc-LWLSI2y6366AVa6Mvbyu5c51",
         "ja3scobr",
         "viral-ugc",
         null,
         "https://s.barstool.link/c/viral-ugc-LWLSI2y6366AVa6Mvbyu5c51",
         [],
         [],
         "83",
         "2025-03-28T19:08:36.748+0000",
         [
          [
           null,
           null
          ]
         ],
         [
          [
           null,
           null
          ]
         ],
         "ContentCompleted",
         "2025-05-06T03:38:13.360Z",
         "track",
         "2025-05-06",
         5,
         2025,
         3,
         3,
         "",
         703,
         "ashburn",
         "US",
         "USA",
         "20147",
         "VA",
         "iOS",
         "60.0.3"
        ],
        [
         "9a97eca68687abec9b8406db737542b8",
         "viral-ugc-LWLSI2y6366AVa6Mvbyu5c51",
         "ja3scobr",
         "viral-ugc",
         null,
         "https://s.barstool.link/c/viral-ugc-LWLSI2y6366AVa6Mvbyu5c51",
         [],
         [],
         "83",
         "2025-03-28T19:08:36.748+0000",
         [
          [
           null,
           null
          ]
         ],
         [
          [
           null,
           null
          ]
         ],
         "ContentCompleted",
         "2025-05-06T03:38:13.472Z",
         "track",
         "2025-05-06",
         5,
         2025,
         3,
         3,
         "",
         703,
         "ashburn",
         "US",
         "USA",
         "20147",
         "VA",
         "iOS",
         "60.0.3"
        ],
        [
         "c3b3a5fb16ba506cd39bd44c520948aa",
         "viral-ugc-LWLSI2y6366AVa6Mvbyu5c51",
         "ja3scobr",
         "viral-ugc",
         0.0,
         "https://s.barstool.link/c/viral-ugc-LWLSI2y6366AVa6Mvbyu5c51",
         [],
         [],
         "83",
         "2025-03-28T19:08:36.748+0000",
         [
          [
           null,
           null
          ]
         ],
         [
          [
           null,
           null
          ]
         ],
         "ContentStarted",
         "2025-05-05T10:53:31.202Z",
         "track",
         "2025-05-05",
         5,
         2025,
         10,
         2,
         "",
         703,
         "ashburn",
         "US",
         "USA",
         "20147",
         "VA",
         "iOS",
         "60.0.3"
        ],
        [
         "672fc7f6dcbd53c5421538cbd0e4fd49",
         "viral-ugc-LWLSI2y6366AVa6Mvbyu5c51",
         "ja3scobr",
         "viral-ugc",
         0.0,
         "https://s.barstool.link/c/viral-ugc-LWLSI2y6366AVa6Mvbyu5c51",
         [],
         [],
         "83",
         "2025-03-28T19:08:36.748+0000",
         [
          [
           null,
           null
          ]
         ],
         [
          [
           null,
           null
          ]
         ],
         "ContentStarted",
         "2025-05-05T12:03:04.137Z",
         "track",
         "2025-05-05",
         5,
         2025,
         12,
         2,
         "",
         703,
         "ashburn",
         "US",
         "USA",
         "20147",
         "VA",
         "iOS",
         "60.0.3"
        ],
        [
         "4d3387e1b96030a6c4c59b398f24f35c",
         "viral-original-SAgRt5xBCx201ooxB5VXAQl8",
         "Rory Wins 2025 Masters In Wild Fashion",
         "viral-original",
         0.0,
         "https://s.barstool.link/c/viral-original-SAgRt5xBCx201ooxB5VXAQl8",
         [],
         [],
         "5",
         "2025-04-14T09:15:33.299+0000",
         [
          [
           null,
           null
          ]
         ],
         [
          [
           "Fore Play",
           "Fore Play"
          ]
         ],
         "ContentStarted",
         "2025-05-05T13:42:20.820Z",
         "track",
         "2025-05-05",
         5,
         2025,
         13,
         2,
         "",
         703,
         "ashburn",
         "US",
         "USA",
         "20147",
         "VA",
         "iOS",
         "60.0.3"
        ],
        [
         "47bb5be8a5bd70059e4c7eb59e175aee",
         "viral-ugc-LWLSI2y6366AVa6Mvbyu5c51",
         "ja3scobr",
         "viral-ugc",
         null,
         "https://s.barstool.link/c/viral-ugc-LWLSI2y6366AVa6Mvbyu5c51",
         [],
         [],
         "83",
         "2025-03-28T19:08:36.748+0000",
         [
          [
           null,
           null
          ]
         ],
         [
          [
           null,
           null
          ]
         ],
         "ContentCompleted",
         "2025-05-05T15:32:11.564Z",
         "track",
         "2025-05-05",
         5,
         2025,
         15,
         2,
         "",
         703,
         "ashburn",
         "US",
         "USA",
         "20147",
         "VA",
         "iOS",
         "60.0.3"
        ],
        [
         "b2b0606a73221a34f9a5fa0f3a230d22",
         "viral-ugc-LWLSI2y6366AVa6Mvbyu5c51",
         "ja3scobr",
         "viral-ugc",
         0.0,
         "https://s.barstool.link/c/viral-ugc-LWLSI2y6366AVa6Mvbyu5c51",
         [],
         [],
         "83",
         "2025-03-28T19:08:36.748+0000",
         [
          [
           null,
           null
          ]
         ],
         [
          [
           null,
           null
          ]
         ],
         "ContentStarted",
         "2025-05-05T15:50:34.645Z",
         "track",
         "2025-05-05",
         5,
         2025,
         15,
         2,
         "",
         703,
         "ashburn",
         "US",
         "USA",
         "20147",
         "VA",
         "iOS",
         "60.0.3"
        ],
        [
         "2ac9ad800adb64b770bed5327ce2daab",
         "viral-ugc-LWLSI2y6366AVa6Mvbyu5c51",
         "ja3scobr",
         "viral-ugc",
         null,
         "https://s.barstool.link/c/viral-ugc-LWLSI2y6366AVa6Mvbyu5c51",
         [],
         [],
         "83",
         "2025-03-28T19:08:36.748+0000",
         [
          [
           null,
           null
          ]
         ],
         [
          [
           null,
           null
          ]
         ],
         "ContentCompleted",
         "2025-05-05T10:01:21.868Z",
         "track",
         "2025-05-05",
         5,
         2025,
         10,
         2,
         "",
         703,
         "ashburn",
         "US",
         "USA",
         "20147",
         "VA",
         "iOS",
         "60.0.3"
        ],
        [
         "49ad77d5cccf4873473d2cf8c107b602",
         "viral-ugc-LWLSI2y6366AVa6Mvbyu5c51",
         "ja3scobr",
         "viral-ugc",
         0.0,
         "https://s.barstool.link/c/viral-ugc-LWLSI2y6366AVa6Mvbyu5c51",
         [],
         [],
         "83",
         "2025-03-28T19:08:36.748+0000",
         [
          [
           null,
           null
          ]
         ],
         [
          [
           null,
           null
          ]
         ],
         "ContentStarted",
         "2025-05-05T16:54:56.152Z",
         "track",
         "2025-05-05",
         5,
         2025,
         16,
         2,
         "",
         703,
         "ashburn",
         "US",
         "USA",
         "20147",
         "VA",
         "iOS",
         "60.0.3"
        ],
        [
         "e730cfc3de4925bffc00837404321777",
         "viral-ugc-LWLSI2y6366AVa6Mvbyu5c51",
         "ja3scobr",
         "viral-ugc",
         null,
         "https://s.barstool.link/c/viral-ugc-LWLSI2y6366AVa6Mvbyu5c51",
         [],
         [],
         "83",
         "2025-03-28T19:08:36.748+0000",
         [
          [
           null,
           null
          ]
         ],
         [
          [
           null,
           null
          ]
         ],
         "ContentCompleted",
         "2025-05-05T17:41:57.909Z",
         "track",
         "2025-05-05",
         5,
         2025,
         17,
         2,
         "",
         703,
         "ashburn",
         "US",
         "USA",
         "20147",
         "VA",
         "iOS",
         "60.0.3"
        ],
        [
         "e730cfc3de4925bffc00837404321777",
         "viral-ugc-LWLSI2y6366AVa6Mvbyu5c51",
         "ja3scobr",
         "viral-ugc",
         0.0,
         "https://s.barstool.link/c/viral-ugc-LWLSI2y6366AVa6Mvbyu5c51",
         [],
         [],
         "83",
         "2025-03-28T19:08:36.748+0000",
         [
          [
           null,
           null
          ]
         ],
         [
          [
           null,
           null
          ]
         ],
         "ContentStarted",
         "2025-05-05T17:41:51.218Z",
         "track",
         "2025-05-05",
         5,
         2025,
         17,
         2,
         "",
         703,
         "ashburn",
         "US",
         "USA",
         "20147",
         "VA",
         "iOS",
         "60.0.3"
        ],
        [
         "49ad77d5cccf4873473d2cf8c107b602",
         "viral-ugc-LWLSI2y6366AVa6Mvbyu5c51",
         "ja3scobr",
         "viral-ugc",
         null,
         "https://s.barstool.link/c/viral-ugc-LWLSI2y6366AVa6Mvbyu5c51",
         [],
         [],
         "83",
         "2025-03-28T19:08:36.748+0000",
         [
          [
           null,
           null
          ]
         ],
         [
          [
           null,
           null
          ]
         ],
         "ContentCompleted",
         "2025-05-05T16:55:02.286Z",
         "track",
         "2025-05-05",
         5,
         2025,
         16,
         2,
         "",
         703,
         "ashburn",
         "US",
         "USA",
         "20147",
         "VA",
         "iOS",
         "60.0.3"
        ],
        [
         "a02310a76c3b4cc46638359abdcc1f7b",
         "viral-ugc-LWLSI2y6366AVa6Mvbyu5c51",
         "ja3scobr",
         "viral-ugc",
         null,
         "https://s.barstool.link/c/viral-ugc-LWLSI2y6366AVa6Mvbyu5c51",
         [],
         [],
         "83",
         "2025-03-28T19:08:36.748+0000",
         [
          [
           null,
           null
          ]
         ],
         [
          [
           null,
           null
          ]
         ],
         "ContentCompleted",
         "2025-05-05T14:04:51.063Z",
         "track",
         "2025-05-05",
         5,
         2025,
         14,
         2,
         "",
         703,
         "ashburn",
         "US",
         "USA",
         "20147",
         "VA",
         "iOS",
         "60.0.3"
        ],
        [
         "1dbf21107ddd6b119a6a17b34fec993e",
         "viral-ugc-LWLSI2y6366AVa6Mvbyu5c51",
         "ja3scobr",
         "viral-ugc",
         null,
         "https://s.barstool.link/c/viral-ugc-LWLSI2y6366AVa6Mvbyu5c51",
         [],
         [],
         "83",
         "2025-03-28T19:08:36.748+0000",
         [
          [
           null,
           null
          ]
         ],
         [
          [
           null,
           null
          ]
         ],
         "ContentCompleted",
         "2025-05-05T17:44:34.414Z",
         "track",
         "2025-05-05",
         5,
         2025,
         17,
         2,
         "",
         703,
         "ashburn",
         "US",
         "USA",
         "20147",
         "VA",
         "iOS",
         "60.0.3"
        ],
        [
         "8ba58642535013526bf423a82a98457b",
         "viral-ugc-LWLSI2y6366AVa6Mvbyu5c51",
         "ja3scobr",
         "viral-ugc",
         0.0,
         "https://s.barstool.link/c/viral-ugc-LWLSI2y6366AVa6Mvbyu5c51",
         [],
         [],
         "83",
         "2025-03-28T19:08:36.748+0000",
         [
          [
           null,
           null
          ]
         ],
         [
          [
           null,
           null
          ]
         ],
         "ContentStarted",
         "2025-05-05T19:14:30.412Z",
         "track",
         "2025-05-05",
         5,
         2025,
         19,
         2,
         "",
         703,
         "ashburn",
         "US",
         "USA",
         "20147",
         "VA",
         "iOS",
         "60.0.3"
        ],
        [
         "8ba58642535013526bf423a82a98457b",
         "viral-ugc-LWLSI2y6366AVa6Mvbyu5c51",
         "ja3scobr",
         "viral-ugc",
         null,
         "https://s.barstool.link/c/viral-ugc-LWLSI2y6366AVa6Mvbyu5c51",
         [],
         [],
         "83",
         "2025-03-28T19:08:36.748+0000",
         [
          [
           null,
           null
          ]
         ],
         [
          [
           null,
           null
          ]
         ],
         "ContentCompleted",
         "2025-05-05T19:14:36.646Z",
         "track",
         "2025-05-05",
         5,
         2025,
         19,
         2,
         "",
         703,
         "ashburn",
         "US",
         "USA",
         "20147",
         "VA",
         "iOS",
         "60.0.3"
        ],
        [
         "796bb8465307654addd3864b5d733c28",
         "gallery-3524750",
         "Barstool Chicago's Local Smokeshow Of The Day - Kelli",
         "gallery",
         null,
         "https://s.barstool.link/c/gallery-3524750",
         [
          "nsfw",
          "chicago",
          "kelli",
          "smokeshow"
         ],
         [
          "82950151"
         ],
         "61",
         "2024-09-10T22:10:00.000+0000",
         [
          [
           "Eddie",
           "Eddie"
          ]
         ],
         [
          [
           "Barstool Chicago",
           "Chicago"
          ]
         ],
         null,
         "2025-05-05T10:46:46.269Z",
         "page",
         "2025-05-05",
         5,
         2025,
         10,
         2,
         "Barstool Chicago's Local Smokeshow Of The Day - Kelli",
         508,
         "brewster",
         "US",
         "USA",
         "02631",
         "MA",
         "iOS",
         "60.0.3"
        ],
        [
         "2ba1604e47a77fe4aa95946cb343d151",
         "viral-ugc-LWLSI2y6366AVa6Mvbyu5c51",
         "ja3scobr",
         "viral-ugc",
         0.0,
         "https://s.barstool.link/c/viral-ugc-LWLSI2y6366AVa6Mvbyu5c51",
         [],
         [],
         "83",
         "2025-03-28T19:08:36.748+0000",
         [
          [
           null,
           null
          ]
         ],
         [
          [
           null,
           null
          ]
         ],
         "ContentStarted",
         "2025-05-05T11:03:42.245Z",
         "track",
         "2025-05-05",
         5,
         2025,
         11,
         2,
         "",
         703,
         "ashburn",
         "US",
         "USA",
         "20147",
         "VA",
         "iOS",
         "60.0.3"
        ]
       ],
       "datasetInfos": [],
       "dbfsResultPath": null,
       "isJsonSchema": true,
       "metadata": {},
       "overflow": false,
       "plotOptions": {
        "customPlotOptions": {},
        "displayType": "table",
        "pivotAggregation": null,
        "pivotColumns": null,
        "xColumns": null,
        "yColumns": null
       },
       "removedWidgets": [],
       "schema": [
        {
         "metadata": "{}",
         "name": "anon_id",
         "type": "\"string\""
        },
        {
         "metadata": "{}",
         "name": "content_id",
         "type": "\"string\""
        },
        {
         "metadata": "{}",
         "name": "content_title",
         "type": "\"string\""
        },
        {
         "metadata": "{}",
         "name": "content_type",
         "type": "\"string\""
        },
        {
         "metadata": "{}",
         "name": "content_duration",
         "type": "\"double\""
        },
        {
         "metadata": "{}",
         "name": "share_url",
         "type": "\"string\""
        },
        {
         "metadata": "{}",
         "name": "tags",
         "type": "{\"type\":\"array\",\"elementType\":\"string\",\"containsNull\":true}"
        },
        {
         "metadata": "{}",
         "name": "talent",
         "type": "{\"type\":\"array\",\"elementType\":\"string\",\"containsNull\":true}"
        },
        {
         "metadata": "{}",
         "name": "franchise",
         "type": "\"string\""
        },
        {
         "metadata": "{}",
         "name": "published_at",
         "type": "\"timestamp\""
        },
        {
         "metadata": "{}",
         "name": "talent_details",
         "type": "{\"type\":\"array\",\"elementType\":{\"type\":\"struct\",\"fields\":[{\"name\":\"talent_name\",\"type\":\"string\",\"nullable\":true,\"metadata\":{}},{\"name\":\"talent_short_name\",\"type\":\"string\",\"nullable\":true,\"metadata\":{}}]},\"containsNull\":false}"
        },
        {
         "metadata": "{}",
         "name": "franchise_details",
         "type": "{\"type\":\"array\",\"elementType\":{\"type\":\"struct\",\"fields\":[{\"name\":\"franchise_name\",\"type\":\"string\",\"nullable\":true,\"metadata\":{}},{\"name\":\"franchise_short_name\",\"type\":\"string\",\"nullable\":true,\"metadata\":{}}]},\"containsNull\":false}"
        },
        {
         "metadata": "{}",
         "name": "event_name",
         "type": "\"string\""
        },
        {
         "metadata": "{}",
         "name": "event_timestamp",
         "type": "\"string\""
        },
        {
         "metadata": "{}",
         "name": "event_type",
         "type": "\"string\""
        },
        {
         "metadata": "{}",
         "name": "event_date",
         "type": "\"date\""
        },
        {
         "metadata": "{}",
         "name": "event_month",
         "type": "\"integer\""
        },
        {
         "metadata": "{}",
         "name": "event_year",
         "type": "\"integer\""
        },
        {
         "metadata": "{}",
         "name": "event_hour",
         "type": "\"integer\""
        },
        {
         "metadata": "{}",
         "name": "event_day",
         "type": "\"integer\""
        },
        {
         "metadata": "{}",
         "name": "page_title",
         "type": "\"string\""
        },
        {
         "metadata": "{}",
         "name": "geo_area_code",
         "type": "\"long\""
        },
        {
         "metadata": "{}",
         "name": "geo_city",
         "type": "\"string\""
        },
        {
         "metadata": "{}",
         "name": "geo_country_code",
         "type": "\"string\""
        },
        {
         "metadata": "{}",
         "name": "geo_country_code3",
         "type": "\"string\""
        },
        {
         "metadata": "{}",
         "name": "geo_postal_code",
         "type": "\"string\""
        },
        {
         "metadata": "{}",
         "name": "geo_region",
         "type": "\"string\""
        },
        {
         "metadata": "{}",
         "name": "app_os",
         "type": "\"string\""
        },
        {
         "metadata": "{}",
         "name": "app_version",
         "type": "\"string\""
        }
       ],
       "type": "table"
      }
     },
     "output_type": "display_data"
    }
   ],
   "source": [
    "display(consumption_events_logs.limit(20))"
   ]
  },
  {
   "cell_type": "code",
   "execution_count": 0,
   "metadata": {
    "application/vnd.databricks.v1+cell": {
     "cellMetadata": {
      "byteLimit": 2048000,
      "rowLimit": 10000
     },
     "inputWidgets": {},
     "nuid": "d1af66f3-88a4-4578-8e60-887a4bd1a158",
     "showTitle": false,
     "tableResultSettingsMap": {},
     "title": ""
    }
   },
   "outputs": [],
   "source": [
    "(consumption_events_logs\n",
    "  .write\n",
    "  .format(\"delta\")\n",
    "  .mode(\"overwrite\")            \n",
    "  .option(\"mergeSchema\", \"true\") \n",
    "  .partitionBy(\"event_date\", \"content_type\") \n",
    "  .save(\"/mnt/consumption/barstool/consumption_events_logs\")\n",
    ")\n"
   ]
  },
  {
   "cell_type": "markdown",
   "metadata": {
    "application/vnd.databricks.v1+cell": {
     "cellMetadata": {},
     "inputWidgets": {},
     "nuid": "36cb2049-ff78-487f-8019-654bb5544d10",
     "showTitle": false,
     "tableResultSettingsMap": {},
     "title": ""
    }
   },
   "source": [
    "Partitoning with event_date and content_type for better performance and optimization and saving as delta table"
   ]
  },
  {
   "cell_type": "code",
   "execution_count": 0,
   "metadata": {
    "application/vnd.databricks.v1+cell": {
     "cellMetadata": {
      "byteLimit": 2048000,
      "rowLimit": 10000
     },
     "inputWidgets": {},
     "nuid": "0df3772a-c3ca-4977-bef9-840e41e64bc7",
     "showTitle": false,
     "tableResultSettingsMap": {},
     "title": ""
    }
   },
   "outputs": [
    {
     "output_type": "stream",
     "name": "stdout",
     "output_type": "stream",
     "text": [
      "Event records with missing content links: 5611\n"
     ]
    }
   ],
   "source": [
    "# Checking for missing content links\n",
    "missing_content_links = events_flattened_silver.filter(\n",
    "    col(\"content_id\").isNotNull()\n",
    ").join(\n",
    "    contents_silver,\n",
    "    \"content_id\",\n",
    "    \"left_anti\"  # Only keep records without matches\n",
    ").count()\n",
    "\n",
    "print(f\"Event records with missing content links: {missing_content_links}\")"
   ]
  },
  {
   "cell_type": "markdown",
   "metadata": {
    "application/vnd.databricks.v1+cell": {
     "cellMetadata": {},
     "inputWidgets": {},
     "nuid": "11797af0-d427-436a-9a65-ba09d1976f14",
     "showTitle": false,
     "tableResultSettingsMap": {},
     "title": ""
    }
   },
   "source": [
    "this is because some of the rows does not match to content_id from contents_silver.\n",
    "maybe because they are livestreams .\n",
    "\n",
    "for ex content_id - livestream-8w41-HCk6T9GOrXlJf8n9Z4XHIxhb "
   ]
  }
 ],
 "metadata": {
  "application/vnd.databricks.v1+notebook": {
   "computePreferences": null,
   "dashboards": [
    {
     "elements": [
      {
       "dashboardResultIndex": null,
       "elementNUID": "ee2bb69b-6c4c-4051-9be3-f36e5a55795d",
       "elementType": "command",
       "guid": "0f661112-2e69-4fbd-ba31-3f8804063a4b",
       "options": null,
       "position": {
        "height": 2,
        "width": 12,
        "x": 0,
        "y": 0,
        "z": null
       },
       "resultIndex": null
      },
      {
       "dashboardResultIndex": null,
       "elementNUID": "e3052333-492f-40e5-90e5-51f00b8fd217",
       "elementType": "command",
       "guid": "113ceeb7-d0fc-4dc0-b1e7-2d7e3fe28c19",
       "options": null,
       "position": {
        "height": 2,
        "width": 6,
        "x": 0,
        "y": 2,
        "z": null
       },
       "resultIndex": null
      },
      {
       "dashboardResultIndex": null,
       "elementNUID": "593cc054-8650-4771-870b-5ed54295689a",
       "elementType": "command",
       "guid": "311e611c-2067-454c-8f26-3971da5e75ee",
       "options": null,
       "position": {
        "height": 1,
        "width": 12,
        "x": 0,
        "y": 4,
        "z": null
       },
       "resultIndex": null
      },
      {
       "dashboardResultIndex": null,
       "elementNUID": "4d955b01-ffac-4800-8ccc-c1c755c59c7a",
       "elementType": "command",
       "guid": "54d14bb2-28df-4149-8b30-313ed31ce03e",
       "options": null,
       "position": {
        "height": 3,
        "width": 12,
        "x": 0,
        "y": 17,
        "z": null
       },
       "resultIndex": null
      },
      {
       "dashboardResultIndex": null,
       "elementNUID": "38406713-1083-4ef2-8d8e-8dc50f67ab7f",
       "elementType": "command",
       "guid": "8edaee53-4746-472f-93d8-6e3b76788245",
       "options": null,
       "position": {
        "height": 1,
        "width": 12,
        "x": 0,
        "y": 26,
        "z": null
       },
       "resultIndex": null
      },
      {
       "dashboardResultIndex": null,
       "elementNUID": "e0f4b10d-2955-4105-9828-cfd440931ff2",
       "elementType": "command",
       "guid": "b2aeeefb-97b5-41a2-9095-7817d8a2b5d4",
       "options": null,
       "position": {
        "height": 1,
        "width": 12,
        "x": 0,
        "y": 34,
        "z": null
       },
       "resultIndex": null
      },
      {
       "dashboardResultIndex": null,
       "elementNUID": "6fa1b9ce-da23-416f-a5de-c05315d3f66e",
       "elementType": "command",
       "guid": "d18e5f39-32db-433d-b626-273d1ace9d2e",
       "options": null,
       "position": {
        "height": 2,
        "width": 12,
        "x": 0,
        "y": 37,
        "z": null
       },
       "resultIndex": null
      },
      {
       "dashboardResultIndex": null,
       "elementNUID": "16ca38ec-158d-43b9-a487-eef4eed04fa9",
       "elementType": "command",
       "guid": "de15256e-1810-436a-ab0d-95e92644442f",
       "options": null,
       "position": {
        "height": 4,
        "width": 12,
        "x": 0,
        "y": 45,
        "z": null
       },
       "resultIndex": null
      }
     ],
     "globalVars": {},
     "guid": "",
     "layoutOption": {
      "grid": true,
      "stack": false
     },
     "nuid": "b29939b4-2786-456b-9c4e-33438737ac71",
     "origId": 2784520705362048,
     "title": "Untitled",
     "version": "DashboardViewV1",
     "width": 1024
    }
   ],
   "environmentMetadata": {
    "base_environment": "",
    "environment_version": "1"
   },
   "inputWidgetPreferences": null,
   "language": "python",
   "notebookMetadata": {
    "mostRecentlyExecutedCommandWithImplicitDF": {
     "commandId": 4135090377008320,
     "dataframes": [
      "_sqldf"
     ]
    },
    "pythonIndentUnit": 4
   },
   "notebookName": "Barstoolsports_Data_Challenge_Notebook",
   "widgets": {}
  }
 },
 "nbformat": 4,
 "nbformat_minor": 0
}